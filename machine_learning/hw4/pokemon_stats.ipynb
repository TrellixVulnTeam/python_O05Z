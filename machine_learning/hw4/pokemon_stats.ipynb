{
 "cells": [
  {
   "cell_type": "code",
   "execution_count": 1,
   "metadata": {},
   "outputs": [],
   "source": [
    "import csv\n",
    "from random import *"
   ]
  },
  {
   "cell_type": "code",
   "execution_count": 2,
   "metadata": {},
   "outputs": [],
   "source": [
    "def load_data(filepath):\n",
    "    p=[]\n",
    "    num=0\n",
    "    with open(filepath,encoding =\"UTF-8\") as data:\n",
    "        reader =csv.DictReader(data)\n",
    "        for row in reader:\n",
    "            temp={}\n",
    "            temp[\"#\"]=int(row[\"#\"])\n",
    "            temp['Name']=row['Name']\n",
    "            temp['Type 1']=row['Type 1']\n",
    "            temp['Type 2']=row['Type 2']\n",
    "            temp['Total']=int(row['Total'])\n",
    "            temp['HP']=int(row['HP'])\n",
    "            temp['Attack']=int(row['Attack'])\n",
    "            temp['Defense']=int(row['Defense'])\n",
    "            temp['Sp. Atk']=int(row['Sp. Atk'])\n",
    "            temp['Sp. Def']=int(row['Sp. Def'])\n",
    "            temp['Speed']=int(row['Speed'])\n",
    "            p.append(temp)\n",
    "            num+=1\n",
    "            if num==20:\n",
    "                break\n",
    "    return p\n"
   ]
  },
  {
   "cell_type": "code",
   "execution_count": 3,
   "metadata": {},
   "outputs": [],
   "source": [
    "def calculate_x_y(stats):\n",
    "    x=stats['Attack']+stats['Sp. Atk']+stats[\"Speed\"]\n",
    "    y=stats['Defense']+stats['Sp. Def']+stats[\"HP\"]\n",
    "    \n",
    "    return (x,y)\n",
    "    "
   ]
  },
  {
   "cell_type": "code",
   "execution_count": 4,
   "metadata": {},
   "outputs": [],
   "source": [
    "# d=[]\n",
    "# for i in a:\n",
    "#     d.append(calculate_x_y(i))\n",
    "# d"
   ]
  },
  {
   "cell_type": "code",
   "execution_count": 5,
   "metadata": {},
   "outputs": [],
   "source": [
    "# def find_min(d):\n",
    "#     dis=[]\n",
    "#     for i in d:\n",
    "#         for j in d:\n",
    "#             if j<=i:\n",
    "#                 continue\n",
    "#             dd=[]\n",
    "#             dd.append(min(i,j))\n",
    "#             dd.append(max(i,j))\n",
    "#             dd.append(((d[i][0]-d[j][0])**2+(d[i][1]-d[j][1])**2)**0.5)\n",
    "#             dis.append(dd)\n",
    "#     return min(dis,key=lambda x :x[2])\n",
    "    \n",
    "\n",
    "def hac(dataset):\n",
    "    return \n",
    "#     l=[]\n",
    "#     d={}\n",
    "#     track={}\n",
    "#     for i in range(len(dataset)):\n",
    "#         d[i+1]=dataset[i]\n",
    "#         track[i+1]=dataset[i]\n",
    "    \n",
    "#     while len(track)!=0:\n",
    "# #         print(track)\n",
    "# #         print(find_min(d))\n",
    "#         least=find_min(d)\n",
    "#         print(least)\n",
    "    \n",
    "#         if least[0] in range(1,20) or least[1] in range(1,20):\n",
    "#             del d[least[0]]\n",
    "#             del d[least[1]]\n",
    "#         if least[0] in track or least[1] in track:\n",
    "#             del track[least[0]]\n",
    "#             del track[least[1]]\n",
    "#         d[ int(str(least[0])+str(least[1])) ]=(least[2],least[2])\n",
    "# #         find_min(d)\n",
    "            \n",
    "#     return d\n",
    "    \n",
    "# hac(d)\n",
    "    "
   ]
  },
  {
   "cell_type": "code",
   "execution_count": 6,
   "metadata": {},
   "outputs": [
    {
     "data": {
      "text/plain": [
       "[(116, 306),\n",
       " (202, 42),\n",
       " (46, 177),\n",
       " (40, 9),\n",
       " (106, 22),\n",
       " (36, 291),\n",
       " (90, 358),\n",
       " (111, 357),\n",
       " (82, 285),\n",
       " (32, 207)]"
      ]
     },
     "execution_count": 6,
     "metadata": {},
     "output_type": "execute_result"
    }
   ],
   "source": [
    "def random_x_y(m):\n",
    "    l=[]\n",
    "    for i in range(m):\n",
    "        l.append((randrange(360),randrange(360)))\n",
    "    return l\n",
    "random_x_y(10)"
   ]
  },
  {
   "cell_type": "code",
   "execution_count": 7,
   "metadata": {},
   "outputs": [],
   "source": [
    "# def imshow_hac(dataset):\n",
    "    "
   ]
  },
  {
   "cell_type": "code",
   "execution_count": null,
   "metadata": {},
   "outputs": [],
   "source": [
    "\n"
   ]
  }
 ],
 "metadata": {
  "kernelspec": {
   "display_name": "Python 3",
   "language": "python",
   "name": "python3"
  },
  "language_info": {
   "codemirror_mode": {
    "name": "ipython",
    "version": 3
   },
   "file_extension": ".py",
   "mimetype": "text/x-python",
   "name": "python",
   "nbconvert_exporter": "python",
   "pygments_lexer": "ipython3",
   "version": "3.7.4"
  }
 },
 "nbformat": 4,
 "nbformat_minor": 2
}
