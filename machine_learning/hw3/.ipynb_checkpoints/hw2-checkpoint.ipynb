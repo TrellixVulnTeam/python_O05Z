{
 "cells": [
  {
   "cell_type": "code",
   "execution_count": 1,
   "metadata": {},
   "outputs": [
    {
     "name": "stdout",
     "output_type": "stream",
     "text": [
      "4\n",
      "1\n",
      "10\n",
      "8\n",
      "6\n",
      "6\n",
      "2\n",
      "5\n",
      "1\n"
     ]
    }
   ],
   "source": [
    "n = int(input())\n",
    "p=[]\n",
    "q=[]\n",
    "for i in range(int(n)):\n",
    "    current=input()\n",
    "    p.append(int(current))\n",
    "for i in range(int(n)):\n",
    "    current=input()\n",
    "    q.append(int(current))"
   ]
  },
  {
   "cell_type": "code",
   "execution_count": 2,
   "metadata": {},
   "outputs": [],
   "source": [
    "def merge(A1,A2):\n",
    "    A = []\n",
    "    i, j = 0, 0\n",
    "    while i < len(A1) or j < len(A2):\n",
    "        if (i < len(A1) and j < len(A2) and A1[i] < A2[j]) or j == len(A2):\n",
    "            A.append( A1[i] )\n",
    "            i += 1\n",
    "        else:\n",
    "            A.append( A2[j] )\n",
    "            j += 1\n",
    "    return A\n",
    "\n",
    "def count(l1,l2):\n",
    "    total = 0\n",
    "    j = 0\n",
    "    for i in l1:\n",
    "        while j < len(l2) and l2[j] < i:\n",
    "            j += 1\n",
    "        total += j\n",
    "    return total\n",
    "\n",
    "def count_inv(l):\n",
    "    if len(l) == 1: \n",
    "        return 0,l\n",
    "    mid = len(l) // 2\n",
    "    c1, A1 = count_inv(l[:mid])\n",
    "    c2, A2 = count_inv(l[mid:])\n",
    "    c3 = count(A1, A2)\n",
    "    A = merge(A1, A2)\n",
    "    return c1+c2+c3,A\n"
   ]
  },
  {
   "cell_type": "code",
   "execution_count": 3,
   "metadata": {
    "scrolled": true
   },
   "outputs": [
    {
     "name": "stdout",
     "output_type": "stream",
     "text": [
      "4\n"
     ]
    }
   ],
   "source": [
    "check=[]\n",
    "for x in sorted(zip(p,q)):\n",
    "    check.append(x[1])\n",
    "print(count_inv(check)[0])"
   ]
  },
  {
   "cell_type": "code",
   "execution_count": null,
   "metadata": {},
   "outputs": [],
   "source": []
  }
 ],
 "metadata": {
  "kernelspec": {
   "display_name": "Python 3",
   "language": "python",
   "name": "python3"
  },
  "language_info": {
   "codemirror_mode": {
    "name": "ipython",
    "version": 3
   },
   "file_extension": ".py",
   "mimetype": "text/x-python",
   "name": "python",
   "nbconvert_exporter": "python",
   "pygments_lexer": "ipython3",
   "version": "3.7.4"
  }
 },
 "nbformat": 4,
 "nbformat_minor": 2
}
