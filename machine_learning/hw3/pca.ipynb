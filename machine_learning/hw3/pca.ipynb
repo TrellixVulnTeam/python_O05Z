{
 "cells": [
  {
   "cell_type": "code",
   "execution_count": 1,
   "metadata": {},
   "outputs": [],
   "source": [
    "from scipy.linalg import eigh\n",
    "import numpy as np\n",
    "import matplotlib.pyplot as plt"
   ]
  },
  {
   "cell_type": "code",
   "execution_count": 2,
   "metadata": {},
   "outputs": [],
   "source": [
    "def load_and_center_dataset(filename):\n",
    "    x = np.load(filename)\n",
    "    x=x-np.mean(x, axis=0) \n",
    "    return x\n",
    "\n"
   ]
  },
  {
   "cell_type": "code",
   "execution_count": 3,
   "metadata": {},
   "outputs": [],
   "source": [
    "def get_covariance(dataset):\n",
    "    a=(np.dot(np.transpose(x), x)/(len(dataset)-1))\n",
    "    return a \n"
   ]
  },
  {
   "cell_type": "code",
   "execution_count": 4,
   "metadata": {
    "scrolled": true
   },
   "outputs": [],
   "source": [
    "def get_eig(S, m):\n",
    "    a=eigh(S,eigvals=(len(S)-m,len(S)-1))\n",
    "    fa=np.flip(a[0])\n",
    "    fb=np.flip(a[1],1)\n",
    "    return np.diag(fa),fb\n"
   ]
  },
  {
   "cell_type": "code",
   "execution_count": 5,
   "metadata": {},
   "outputs": [],
   "source": [
    "def get_eig_perc(S, perc):\n",
    "    value,vector=eigh(S)\n",
    "    Lamda=value/np.sum(value)\n",
    "    get_value=value[Lamda>perc]\n",
    "    return get_eig(S,len(get_value))"
   ]
  },
  {
   "cell_type": "code",
   "execution_count": 6,
   "metadata": {},
   "outputs": [],
   "source": [
    "def project_image(image, U):\n",
    "    alpha=np.dot(np.transpose(U), image)\n",
    "    total=np.dot(U,alpha)\n",
    "    return total\n",
    "\n"
   ]
  },
  {
   "cell_type": "code",
   "execution_count": 7,
   "metadata": {},
   "outputs": [],
   "source": [
    "def display_image(orig, proj):\n",
    "    orig=orig.reshape(32, 32,order='F')\n",
    "    proj=proj.reshape(32, 32,order='F')\n",
    "    fig, axs = plt.subplots(nrows=1, ncols=2)\n",
    "    axs[0].set_title('Original')\n",
    "    axs[1].set_title('Projection')\n",
    "    im1=axs[0].imshow(orig,aspect='equal')\n",
    "    im2=axs[1].imshow(proj,aspect='equal')\n",
    "    fig.colorbar(im1, ax=axs[0])\n",
    "    fig.colorbar(im2, ax=axs[1])\n",
    "    return plt.show()\n",
    "\n"
   ]
  },
  {
   "cell_type": "code",
   "execution_count": 8,
   "metadata": {},
   "outputs": [
    {
     "data": {
      "image/png": "[encoded data removed]",
      "text/plain": [
       "<Figure size 432x288 with 4 Axes>"
      ]
     },
     "metadata": {
      "needs_background": "light"
     },
     "output_type": "display_data"
    }
   ],
   "source": [
    "x = load_and_center_dataset('YaleB_32x32.npy')\n",
    "S = get_covariance(x)\n",
    "Lambda, U = get_eig(S, 2)\n",
    "projection = project_image(x[0], U)\n",
    "display_image(x[0], projection)"
   ]
  },
  {
   "cell_type": "code",
   "execution_count": 9,
   "metadata": {},
   "outputs": [
    {
     "data": {
      "text/plain": [
       "array([[ 4489.89086662,  4389.34792897,  3995.10495964, ...,\n",
       "        -1746.30867941, -1717.96935269, -1747.38102573],\n",
       "       [ 4389.34792897,  4494.33226746,  4121.91863906, ...,\n",
       "        -1806.20485557, -1776.84081736, -1794.5663578 ],\n",
       "       [ 3995.10495964,  4121.91863906,  4165.45776399, ...,\n",
       "        -1715.27680755, -1671.3253095 , -1691.55397407],\n",
       "       ...,\n",
       "       [-1746.30867941, -1806.20485557, -1715.27680755, ...,\n",
       "         3756.33920877,  3586.66741082,  3219.28148259],\n",
       "       [-1717.96935269, -1776.84081736, -1671.3253095 , ...,\n",
       "         3586.66741082,  3596.68436881,  3292.45606665],\n",
       "       [-1747.38102573, -1794.5663578 , -1691.55397407, ...,\n",
       "         3219.28148259,  3292.45606665,  3497.1660824 ]])"
      ]
     },
     "execution_count": 9,
     "metadata": {},
     "output_type": "execute_result"
    }
   ],
   "source": [
    "S"
   ]
  },
  {
   "cell_type": "code",
   "execution_count": null,
   "metadata": {},
   "outputs": [],
   "source": []
  }
 ],
 "metadata": {
  "kernelspec": {
   "display_name": "Python 3",
   "language": "python",
   "name": "python3"
  },
  "language_info": {
   "codemirror_mode": {
    "name": "ipython",
    "version": 3
   },
   "file_extension": ".py",
   "mimetype": "text/x-python",
   "name": "python",
   "nbconvert_exporter": "python",
   "pygments_lexer": "ipython3",
   "version": "3.8.5"
  }
 },
 "nbformat": 4,
 "nbformat_minor": 2
}
