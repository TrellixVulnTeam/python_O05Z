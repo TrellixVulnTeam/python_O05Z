{
 "cells": [
  {
   "cell_type": "code",
   "execution_count": 1,
   "metadata": {},
   "outputs": [],
   "source": [
    "import numpy as np\n",
    "from matplotlib import pyplot as plt\n",
    "import csv\n",
    "import math"
   ]
  },
  {
   "cell_type": "code",
   "execution_count": 2,
   "metadata": {},
   "outputs": [
    {
     "data": {
      "text/plain": [
       "array([[12.6   ,  1.0708, 23.    , ..., 32.    , 27.4   , 17.1   ],\n",
       "       [ 6.9   ,  1.0853, 22.    , ..., 30.5   , 28.9   , 18.2   ],\n",
       "       [24.6   ,  1.0414, 22.    , ..., 28.8   , 25.2   , 16.6   ],\n",
       "       ...,\n",
       "       [28.3   ,  1.0328, 72.    , ..., 31.3   , 27.2   , 18.    ],\n",
       "       [25.3   ,  1.0399, 72.    , ..., 30.5   , 29.4   , 19.8   ],\n",
       "       [30.7   ,  1.0271, 74.    , ..., 33.7   , 30.    , 20.9   ]])"
      ]
     },
     "execution_count": 2,
     "metadata": {},
     "output_type": "execute_result"
    }
   ],
   "source": [
    "def get_dataset(filename):\n",
    "    dataset = None\n",
    "    results = []\n",
    "    with open(filename) as csvfile:\n",
    "        reader = csv.reader(csvfile,quoting=csv.QUOTE_NONNUMERIC)\n",
    "        for row in reader: \n",
    "            results.append(row[1:])\n",
    "    dataset = np.array(results[1:])\n",
    "    return dataset\n",
    "\n",
    "get_dataset('bodyfat.csv')"
   ]
  },
  {
   "cell_type": "code",
   "execution_count": 3,
   "metadata": {},
   "outputs": [
    {
     "data": {
      "text/plain": [
       "(252, 16)"
      ]
     },
     "execution_count": 3,
     "metadata": {},
     "output_type": "execute_result"
    }
   ],
   "source": [
    "dataset = get_dataset('bodyfat.csv')\n",
    "dataset.shape"
   ]
  },
  {
   "cell_type": "code",
   "execution_count": 236,
   "metadata": {},
   "outputs": [
    {
     "name": "stdout",
     "output_type": "stream",
     "text": [
      "252\n",
      "1.06\n",
      "0.02\n"
     ]
    }
   ],
   "source": [
    "def print_stats(dataset, col):\n",
    "    length=len(dataset)\n",
    "    target= dataset[:,col]\n",
    "    mean=sum(target)/len(target)\n",
    "    sd=(sum((x - mean) ** 2 for x in target) / (len(target) - 1))**0.5\n",
    "    print('{}\\n{:.2f}\\n{:.2f}'.format(length, mean,sd))\n",
    "    pass\n",
    "print_stats(dataset, 1)"
   ]
  },
  {
   "cell_type": "code",
   "execution_count": 19,
   "metadata": {},
   "outputs": [
    {
     "data": {
      "text/plain": [
       "11859.17408611111"
      ]
     },
     "execution_count": 19,
     "metadata": {},
     "output_type": "execute_result"
    }
   ],
   "source": [
    "def regression(dataset, cols, betas):\n",
    "    mse = None\n",
    "    y=dataset[:,0]\n",
    "    x=dataset[:,cols]\n",
    "    x = np.hstack((np.ones((len(dataset), 1)), x))    \n",
    "    mse=np.sum(np.square(x@betas-y))/len(dataset)\n",
    "    return mse\n",
    "\n",
    "regression(dataset, cols=[2,3], betas=[0,0,0])\n",
    "regression(dataset, cols=[2,3,4], betas=[0,-1.1,-.2,3])"
   ]
  },
  {
   "cell_type": "code",
   "execution_count": 64,
   "metadata": {},
   "outputs": [
    {
     "data": {
      "text/plain": [
       "array([  -37.87698413, -1756.37222222, -7055.35138889])"
      ]
     },
     "execution_count": 64,
     "metadata": {},
     "output_type": "execute_result"
    }
   ],
   "source": [
    "def gradient_descent(dataset, cols, betas):\n",
    "    grads = None\n",
    "    g=[]\n",
    "    y=dataset[:,0]\n",
    "    x=dataset[:,cols]\n",
    "    x = np.hstack((np.ones((len(dataset), 1)), x))\n",
    "    for i in range(len(betas)):\n",
    "        grad=((x@betas-y)@x[:,i])*2/len(y) \n",
    "        g.append(grad)\n",
    "    grads=np.array(g)\n",
    "    return grads\n",
    "\n",
    "gradient_descent(dataset, cols=[2,3], betas=[0,0,0])"
   ]
  },
  {
   "cell_type": "code",
   "execution_count": 100,
   "metadata": {},
   "outputs": [
    {
     "name": "stdout",
     "output_type": "stream",
     "text": [
      "1 423085332.40 394.45 -405.84 -220.18\n",
      "2 229744495.73 398.54 -401.54 163.14\n",
      "3 124756241.68 395.53 -404.71 -119.33\n",
      "4 67745350.04 397.75 -402.37 88.82\n",
      "5 36787203.39 396.11 -404.09 -64.57\n",
      "6 19976260.50 397.32 -402.82 48.47\n",
      "7 10847555.07 396.43 -403.76 -34.83\n",
      "8 5890470.68 397.09 -403.07 26.55\n",
      "9 3198666.69 396.60 -403.58 -18.68\n",
      "10 1736958.93 396.96 -403.20 14.65\n"
     ]
    }
   ],
   "source": [
    "def iterate_gradient(dataset, cols, betas, T, eta):   \n",
    "    for i in range(1, T + 1):\n",
    "        betas=betas-(gradient_descent(dataset,cols,betas)*eta)\n",
    "        mse=regression(dataset,cols,betas)\n",
    "        print(i, *map(lambda x: f'{x:.2f}', [mse, *betas]))\n",
    "    pass\n",
    "iterate_gradient(dataset, cols=[1,8], betas=[400,-400,300], T=10, eta=1e-4)"
   ]
  },
  {
   "cell_type": "code",
   "execution_count": 108,
   "metadata": {},
   "outputs": [
    {
     "data": {
      "text/plain": [
       "(1.4029395600144425,\n",
       " 441.3525943611676,\n",
       " -400.59549537035286,\n",
       " 0.009892204825494133)"
      ]
     },
     "execution_count": 108,
     "metadata": {},
     "output_type": "execute_result"
    }
   ],
   "source": [
    "def compute_betas(dataset, cols):\n",
    "    betas = None\n",
    "    mse = None\n",
    "    y=dataset[:,0]\n",
    "    x=dataset[:,cols]\n",
    "    x = np.concatenate([np.ones((x.shape[0], 1)), x], axis=1)\n",
    "    betas=(np.linalg.inv(x.T@x))@(x.T@y)\n",
    "    mse=regression(dataset,cols,betas)\n",
    "    return (mse, *betas)\n",
    "compute_betas(dataset, cols=[1,2])"
   ]
  },
  {
   "cell_type": "code",
   "execution_count": 125,
   "metadata": {},
   "outputs": [
    {
     "data": {
      "text/plain": [
       "12.622458629580077"
      ]
     },
     "execution_count": 125,
     "metadata": {},
     "output_type": "execute_result"
    }
   ],
   "source": [
    "def predict(dataset, cols, features):\n",
    "    result = None\n",
    "    t=compute_betas(dataset,cols)\n",
    "    betas=t[1:]\n",
    "    result=betas[0] \n",
    "    for i in range(len(features)):\n",
    "        result+=features[i]*betas[i+1]\n",
    "    return result\n",
    "predict(dataset, cols=[1,2], features=[1.0708, 23])"
   ]
  },
  {
   "cell_type": "code",
   "execution_count": 229,
   "metadata": {},
   "outputs": [
    {
     "data": {
      "text/plain": [
       "(array([[8.44719527, 4.        ]]), array([[16.44719527,  4.        ]]))"
      ]
     },
     "execution_count": 229,
     "metadata": {},
     "output_type": "execute_result"
    }
   ],
   "source": [
    "def synthetic_datasets(betas, alphas, X, sigma):\n",
    "    z=np.random.normal(0,sigma,len(X))\n",
    "    \n",
    "    linear=betas[0]+betas[1]*X+z\n",
    "    linear= np.concatenate([linear, X], axis=1)\n",
    "    \n",
    "    quadratic=alphas[0]+alphas[1]*(X)**2+z\n",
    "    quadratic= np.concatenate([quadratic, X], axis=1)\n",
    "    \n",
    "    return linear, quadratic\n",
    "synthetic_datasets(np.array([0,2]), np.array([0,1]), np.array([[4]]), 1)"
   ]
  },
  {
   "cell_type": "code",
   "execution_count": null,
   "metadata": {},
   "outputs": [],
   "source": [
    "def plot_mse():\n",
    "    from sys import argv\n",
    "    if len(argv) == 2 and argv[1] == 'csl':\n",
    "        import matplotlib\n",
    "        matplotlib.use('Agg')\n",
    "\n",
    "    # TODO: Generate datasets and plot an MSE-sigma graph"
   ]
  },
  {
   "cell_type": "code",
   "execution_count": null,
   "metadata": {},
   "outputs": [],
   "source": []
  }
 ],
 "metadata": {
  "kernelspec": {
   "display_name": "Python 3",
   "language": "python",
   "name": "python3"
  },
  "language_info": {
   "codemirror_mode": {
    "name": "ipython",
    "version": 3
   },
   "file_extension": ".py",
   "mimetype": "text/x-python",
   "name": "python",
   "nbconvert_exporter": "python",
   "pygments_lexer": "ipython3",
   "version": "3.7.4"
  }
 },
 "nbformat": 4,
 "nbformat_minor": 2
}
