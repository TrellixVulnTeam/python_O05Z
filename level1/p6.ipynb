{
 "cells": [
  {
   "cell_type": "code",
   "execution_count": 1,
   "metadata": {},
   "outputs": [],
   "source": [
    "#project:P6\n",
    "#submitter: ytian83\n",
    "#partner: none"
   ]
  },
  {
   "cell_type": "code",
   "execution_count": 2,
   "metadata": {},
   "outputs": [],
   "source": [
    "import csv\n",
    "\n",
    "# copied from https://automatetheboringstuff.com/chapter14/\n",
    "def process_csv(filename):\n",
    "    exampleFile = open(filename, encoding=\"utf-8\")\n",
    "    exampleReader = csv.reader(exampleFile)\n",
    "    exampleData = list(exampleReader)\n",
    "    exampleFile.close()\n",
    "    return exampleData\n",
    "\n",
    "# use process_csv to pull out the header and data rows\n",
    "csv_rows = process_csv(\"wine.csv\")\n",
    "csv_header = csv_rows[0]\n",
    "csv_data = csv_rows[1:]\n",
    "\n",
    "\n",
    "def cell(row_idx, col_name):\n",
    "    col_idx = csv_header.index(col_name)\n",
    "    val = csv_data[row_idx][col_idx]\n",
    "    if val == \"\":\n",
    "        return None\n",
    "    # optional: convert types based on column name?\n",
    "    return val"
   ]
  },
  {
   "cell_type": "code",
   "execution_count": 3,
   "metadata": {
    "scrolled": true
   },
   "outputs": [
    {
     "data": {
      "text/plain": [
       "['Australia',\n",
       " 'Germany',\n",
       " 'Greece',\n",
       " 'South Africa',\n",
       " 'Bulgaria',\n",
       " 'Romania',\n",
       " 'Italy',\n",
       " 'Israel',\n",
       " 'New Zealand',\n",
       " 'India',\n",
       " 'Chile',\n",
       " 'Canada',\n",
       " 'Hungary',\n",
       " 'Austria',\n",
       " 'Argentina',\n",
       " 'Croatia',\n",
       " 'Portugal',\n",
       " 'France',\n",
       " 'Spain',\n",
       " 'Morocco',\n",
       " 'Slovenia',\n",
       " 'Moldova',\n",
       " 'US']"
      ]
     },
     "execution_count": 3,
     "metadata": {},
     "output_type": "execute_result"
    }
   ],
   "source": [
    "#q1\n",
    "\n",
    "def name():\n",
    "    country_name=[]\n",
    "    for i in range (len(csv_data)):\n",
    "        if csv_data[i][csv_header.index(\"country\")]!= \"\":\n",
    "            country_name.append(csv_data[i][csv_header.index(\"country\")])    \n",
    "    return country_name  \n",
    "\n",
    "list(set(name()))"
   ]
  },
  {
   "cell_type": "code",
   "execution_count": 4,
   "metadata": {},
   "outputs": [
    {
     "data": {
      "text/plain": [
       "89.65489673550967"
      ]
     },
     "execution_count": 4,
     "metadata": {},
     "output_type": "execute_result"
    }
   ],
   "source": [
    "#q2\n",
    "def average_rating():\n",
    "    rating=[]\n",
    "    for i in range (len(csv_data)):\n",
    "        if csv_data[i][csv_header.index(\"points\")]!= \"\":\n",
    "            rating.append(int(csv_data[i][csv_header.index(\"points\")]))   \n",
    "    return sum(rating)/len(rating)\n",
    "               \n",
    "average_rating()"
   ]
  },
  {
   "cell_type": "code",
   "execution_count": 5,
   "metadata": {},
   "outputs": [
    {
     "data": {
      "text/plain": [
       "['Graham Beck',\n",
       " 'Noble Hill',\n",
       " 'Fat Barrel',\n",
       " 'Long Neck',\n",
       " 'Vergelegen',\n",
       " 'Waterkloof',\n",
       " 'Bouchard Finlayson',\n",
       " 'Neil Ellis',\n",
       " 'KWV',\n",
       " 'Robertson Winery',\n",
       " 'Essay']"
      ]
     },
     "execution_count": 5,
     "metadata": {},
     "output_type": "execute_result"
    }
   ],
   "source": [
    "#q3\n",
    "def sa():\n",
    "    saname=[]\n",
    "    for i in range (len(csv_data)):\n",
    "        if csv_data[i][csv_header.index(\"country\")] == \"South Africa\":\n",
    "            saname.append(csv_data[i][csv_header.index(\"winery\")])\n",
    "    return list(set(saname))\n",
    "\n",
    "sa()"
   ]
  },
  {
   "cell_type": "code",
   "execution_count": 6,
   "metadata": {},
   "outputs": [
    {
     "data": {
      "text/plain": [
       "['Chardonnay', 'White Blend', 'Rhône-style White Blend', 'Syrah']"
      ]
     },
     "execution_count": 6,
     "metadata": {},
     "output_type": "execute_result"
    }
   ],
   "source": [
    "#q4\n",
    "def caramelized():\n",
    "    x=[]\n",
    "    for i in range (len(csv_data)):\n",
    "        a=str(csv_data[i][csv_header.index(\"description\")])\n",
    "        if \"caramelized\" in a.lower():\n",
    "            x.append(csv_data[i][csv_header.index(\"variety\")])\n",
    "        else:\n",
    "            continue\n",
    "    return list(set(x))\n",
    "\n",
    "caramelized()"
   ]
  },
  {
   "cell_type": "code",
   "execution_count": 7,
   "metadata": {},
   "outputs": [
    {
     "data": {
      "text/plain": [
       "['Sparkling Blend', 'Chardonnay', 'Pinot Grigio']"
      ]
     },
     "execution_count": 7,
     "metadata": {},
     "output_type": "execute_result"
    }
   ],
   "source": [
    "#q5\n",
    "def f():\n",
    "    x=[]\n",
    "    for i in range (len(csv_data)):\n",
    "        a=str(csv_data[i][csv_header.index(\"description\")])\n",
    "        if \"lemon-lime soda\" in a.lower():\n",
    "            x.append(csv_data[i][csv_header.index(\"variety\")])\n",
    "    return list(set(x))\n",
    "\n",
    "f()"
   ]
  },
  {
   "cell_type": "code",
   "execution_count": 8,
   "metadata": {},
   "outputs": [
    {
     "data": {
      "text/plain": [
       "['Rosé', 'Cabernet Sauvignon', 'Nebbiolo']"
      ]
     },
     "execution_count": 8,
     "metadata": {},
     "output_type": "execute_result"
    }
   ],
   "source": [
    "#q6\n",
    "def f():\n",
    "    x=[]\n",
    "    for i in range (len(csv_data)):\n",
    "        a=str(csv_data[i][csv_header.index(\"description\")])\n",
    "        if \"cherry-berry\" in a.lower():\n",
    "            x.append(csv_data[i][csv_header.index(\"variety\")])\n",
    "    return list(set(x))\n",
    "\n",
    "f()"
   ]
  },
  {
   "cell_type": "code",
   "execution_count": 9,
   "metadata": {},
   "outputs": [
    {
     "data": {
      "text/plain": [
       "['Cabernet Sauvignon']"
      ]
     },
     "execution_count": 9,
     "metadata": {},
     "output_type": "execute_result"
    }
   ],
   "source": [
    "#q7\n",
    "def f():\n",
    "    left=\"antibusgovernance\"\n",
    "    left_result= sorted(left)\n",
    "    x=[]\n",
    "    for i in range (len(csv_data)):\n",
    "        right=csv_data[i][csv_header.index(\"variety\")]\n",
    "        right_lower=right.lower()\n",
    "        right_result=sorted(right_lower)\n",
    "        if \" \" in right_result:\n",
    "            right_result.remove(\" \")\n",
    "        if left_result==right_result:\n",
    "            x.append(csv_data[i][csv_header.index(\"variety\")])\n",
    "    return list(set(x))\n",
    "\n",
    "f()"
   ]
  },
  {
   "cell_type": "code",
   "execution_count": 10,
   "metadata": {},
   "outputs": [
    {
     "data": {
      "text/plain": [
       "['Tempranillo Blend']"
      ]
     },
     "execution_count": 10,
     "metadata": {},
     "output_type": "execute_result"
    }
   ],
   "source": [
    "#q8\n",
    "def f():\n",
    "    left=\"BannedPetrolMill\"\n",
    "    left1=left.lower()\n",
    "    left_result= sorted(left1)\n",
    "    x=[]\n",
    "    for i in range (len(csv_data)):\n",
    "        right=csv_data[i][csv_header.index(\"variety\")]\n",
    "        right_lower=right.lower()\n",
    "        right_result=sorted(right_lower)\n",
    "        if \" \" in right_result:\n",
    "            right_result.remove(\" \")\n",
    "        if left_result==right_result:\n",
    "            x.append(csv_data[i][csv_header.index(\"variety\")])\n",
    "    return list(set(x))\n",
    "\n",
    "f()"
   ]
  },
  {
   "cell_type": "code",
   "execution_count": 11,
   "metadata": {},
   "outputs": [],
   "source": [
    "#this is function that not work, i just want to record my hard work\n",
    "def highest():\n",
    "    most= 0\n",
    "    name=None\n",
    "    fancy=[]\n",
    "    for i in range (len(csv_data)):\n",
    "        if csv_data[i][csv_header.index(\"price\")]!= \"\":\n",
    "              if csv_data[i][csv_header.index(\"country\")] == \"US\" :\n",
    "                    price=int(csv_data[i][csv_header.index(\"points\")])\n",
    "                    if price > int(most):\n",
    "                        most= price\n",
    "                        name=csv_data[i][csv_header.index(\"winery\")]       \n",
    "                        fancy.append(name)\n",
    "    return list(fancy)\n"
   ]
  },
  {
   "cell_type": "code",
   "execution_count": 12,
   "metadata": {},
   "outputs": [],
   "source": [
    "#this is function that not work, i just want to record my hard work\n",
    "def us():\n",
    "    usname=[]\n",
    "    price=0\n",
    "    for i in range (len(csv_data)):\n",
    "        if csv_data[i][csv_header.index(\"country\")] == \"US\":\n",
    "            price=int(csv_data[i][csv_header.index(\"price\")])\n",
    "            if price>most:\n",
    "                most= price\n",
    "                highest=int(i)\n",
    "            if price == most:\n",
    "                usname.append(csv_data[highest][csv_header.index(\"winery\")])\n",
    "    return list(set(saname))"
   ]
  },
  {
   "cell_type": "code",
   "execution_count": 13,
   "metadata": {},
   "outputs": [
    {
     "data": {
      "text/plain": [
       "['Hall']"
      ]
     },
     "execution_count": 13,
     "metadata": {},
     "output_type": "execute_result"
    }
   ],
   "source": [
    "#q9\n",
    "def dead_function(country,compare,output):\n",
    "    start=[]\n",
    "    end=[]\n",
    "    most=0\n",
    "    for i in range (len(csv_data)):\n",
    "        if csv_data[i][csv_header.index(str(compare))]!= \"\":\n",
    "            if csv_data[i][csv_header.index(\"country\")] == str(country):\n",
    "                start.append(int(float(csv_data[i][csv_header.index(str(compare))])))\n",
    "    result=sorted(start)\n",
    "    most=float(result[-1])\n",
    "    for i in range (len(csv_data)):\n",
    "        if csv_data[i][csv_header.index(str(compare))]!= \"\":\n",
    "            if csv_data[i][csv_header.index(\"country\")] == str(country):\n",
    "                price=int(float(csv_data[i][csv_header.index(str(compare))]))\n",
    "                if price == int(most):\n",
    "                    end.append(csv_data[i][csv_header.index(str(output))])\n",
    "    return list(set(end))\n",
    "\n",
    "dead_function(\"US\",\"price\",\"winery\")"
   ]
  },
  {
   "cell_type": "code",
   "execution_count": 14,
   "metadata": {},
   "outputs": [
    {
     "data": {
      "text/plain": [
       "['Tannat', 'Provence red blend', 'Malbec']"
      ]
     },
     "execution_count": 14,
     "metadata": {},
     "output_type": "execute_result"
    }
   ],
   "source": [
    "#q10\n",
    "dead_function(\"France\",\"points\",\"variety\")\n"
   ]
  },
  {
   "cell_type": "code",
   "execution_count": 15,
   "metadata": {},
   "outputs": [
    {
     "data": {
      "text/plain": [
       "1.288074888074888"
      ]
     },
     "execution_count": 15,
     "metadata": {},
     "output_type": "execute_result"
    }
   ],
   "source": [
    "#q11\n",
    "def ppd(key,value):\n",
    "    points=0\n",
    "    price=0\n",
    "    avg_ppd=[]\n",
    "    for i in range (len(csv_data)):\n",
    "        if csv_data[i][csv_header.index(str(key))]!= \"\":\n",
    "            if csv_data[i][csv_header.index(str(key))] == value:\n",
    "                points= int(float(csv_data[i][csv_header.index(\"points\")]))\n",
    "                price= int(float(csv_data[i][csv_header.index(\"price\")]))\n",
    "                ppd=points/price\n",
    "                avg_ppd.append(ppd)\n",
    "                \n",
    "    return sum(avg_ppd)/len(avg_ppd)\n",
    "\n",
    "ppd(\"winery\",\"Ponzi\")"
   ]
  },
  {
   "cell_type": "code",
   "execution_count": 16,
   "metadata": {},
   "outputs": [
    {
     "data": {
      "text/plain": [
       "1.3628968253968254"
      ]
     },
     "execution_count": 16,
     "metadata": {},
     "output_type": "execute_result"
    }
   ],
   "source": [
    "#q12\n",
    "\n",
    "ppd(\"winery\",\"Blue Farm\")"
   ]
  },
  {
   "cell_type": "code",
   "execution_count": 52,
   "metadata": {},
   "outputs": [
    {
     "data": {
      "text/plain": [
       "'Kumeu River'"
      ]
     },
     "execution_count": 52,
     "metadata": {},
     "output_type": "execute_result"
    }
   ],
   "source": [
    "#q13\n",
    "def country_low(country):\n",
    "    lowest=100\n",
    "    winery=[]\n",
    "    for i in range (len(csv_data)):\n",
    "        row=csv_data[i]\n",
    "        if row[0] == country:\n",
    "            the_ppd=ppd(\"winery\", row[4])\n",
    "            if the_ppd<lowest:\n",
    "                lowest=the_ppd\n",
    "                winery=[]\n",
    "                winery.append(row[4])\n",
    "            if the_ppd == lowest:\n",
    "                winery.append(row[4])      \n",
    "    if len(list(set(winery)))== 1: \n",
    "        return winery[0]\n",
    "    else:\n",
    "        return list(set(winery))\n",
    "\n",
    "country_low(\"New Zealand\")"
   ]
  },
  {
   "cell_type": "code",
   "execution_count": 53,
   "metadata": {},
   "outputs": [
    {
     "data": {
      "text/plain": [
       "['Dalrymple', \"D'Arenberg\"]"
      ]
     },
     "execution_count": 53,
     "metadata": {},
     "output_type": "execute_result"
    }
   ],
   "source": [
    "#q14\n",
    "country_low(\"Australia\")"
   ]
  },
  {
   "cell_type": "code",
   "execution_count": 54,
   "metadata": {},
   "outputs": [
    {
     "data": {
      "text/plain": [
       "'Burrowing Owl'"
      ]
     },
     "execution_count": 54,
     "metadata": {},
     "output_type": "execute_result"
    }
   ],
   "source": [
    "#q15\n",
    "country_low(\"Canada\")"
   ]
  },
  {
   "cell_type": "code",
   "execution_count": 20,
   "metadata": {},
   "outputs": [
    {
     "data": {
      "text/plain": [
       "['Touriga Nacional', 'Portuguese Red', 'Portuguese Sparkling']"
      ]
     },
     "execution_count": 20,
     "metadata": {},
     "output_type": "execute_result"
    }
   ],
   "source": [
    "#q16\n",
    "def q16(winery):\n",
    "    variety=[]\n",
    "    for i in range (len(csv_data)):\n",
    "        row=csv_data[i]\n",
    "        if row[4]==winery:\n",
    "            variety.append(row[3])\n",
    "    return list(set(variety))\n",
    "\n",
    "q16(\"Global Wines\")"
   ]
  },
  {
   "cell_type": "code",
   "execution_count": 21,
   "metadata": {},
   "outputs": [
    {
     "data": {
      "text/plain": [
       "['Portuguese Red', 'Portuguese White', 'Portuguese Rosé']"
      ]
     },
     "execution_count": 21,
     "metadata": {},
     "output_type": "execute_result"
    }
   ],
   "source": [
    "#q17\n",
    "q16(\"Quinta Nova de Nossa Senhora do Carmo\")"
   ]
  },
  {
   "cell_type": "code",
   "execution_count": 22,
   "metadata": {},
   "outputs": [
    {
     "data": {
      "text/plain": [
       "33.33333333333333"
      ]
     },
     "execution_count": 22,
     "metadata": {},
     "output_type": "execute_result"
    }
   ],
   "source": [
    "#q18\n",
    "count=0\n",
    "gw=q16(\"Global Wines\")\n",
    "qn=q16(\"Quinta Nova de Nossa Senhora do Carmo\")\n",
    "for i in range (len(qn)):\n",
    "    if qn[i] in gw:\n",
    "        count+=1\n",
    "end=count/len(gw)*100\n",
    "\n",
    "end\n",
    "        "
   ]
  },
  {
   "cell_type": "code",
   "execution_count": 23,
   "metadata": {},
   "outputs": [
    {
     "data": {
      "text/plain": [
       "10.0"
      ]
     },
     "execution_count": 23,
     "metadata": {},
     "output_type": "execute_result"
    }
   ],
   "source": [
    "#q19\n",
    "def q19():\n",
    "    low=10000\n",
    "    num=0\n",
    "    for i in range (len(csv_data)):\n",
    "        row=csv_data[i]       \n",
    "        if row[2] != \"\" :\n",
    "            if row[0] == \"US\":\n",
    "                num = float(row[2])\n",
    "                if num < low:\n",
    "                    low = num\n",
    "    return low\n",
    "\n",
    "q19()\n"
   ]
  },
  {
   "cell_type": "code",
   "execution_count": 24,
   "metadata": {},
   "outputs": [
    {
     "data": {
      "text/plain": [
       "335.0"
      ]
     },
     "execution_count": 24,
     "metadata": {},
     "output_type": "execute_result"
    }
   ],
   "source": [
    "#q20\n",
    "def q20():\n",
    "    high=0\n",
    "    num=0\n",
    "    for i in range (len(csv_data)):\n",
    "        row=csv_data[i]       \n",
    "        if row[2] != \"\" :\n",
    "            if row[0] == \"US\":\n",
    "                num = float(row[2])\n",
    "                if num > high:\n",
    "                    high = num\n",
    "    return high\n",
    "\n",
    "q19()+q20()\n"
   ]
  },
  {
   "cell_type": "code",
   "execution_count": null,
   "metadata": {},
   "outputs": [],
   "source": []
  }
 ],
 "metadata": {
  "kernelspec": {
   "display_name": "Python 3",
   "language": "python",
   "name": "python3"
  },
  "language_info": {
   "codemirror_mode": {
    "name": "ipython",
    "version": 3
   },
   "file_extension": ".py",
   "mimetype": "text/x-python",
   "name": "python",
   "nbconvert_exporter": "python",
   "pygments_lexer": "ipython3",
   "version": "3.7.4"
  }
 },
 "nbformat": 4,
 "nbformat_minor": 2
}
