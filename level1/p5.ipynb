{
 "cells": [
  {
   "cell_type": "code",
   "execution_count": 1,
   "metadata": {},
   "outputs": [],
   "source": [
    "#project:p5\n",
    "#submitter: ytian83\n",
    "#partner: none"
   ]
  },
  {
   "cell_type": "code",
   "execution_count": 1,
   "metadata": {},
   "outputs": [],
   "source": [
    "\n",
    "import project\n",
    "dir(project)\n",
    "\n",
    "def get_month(date):\n",
    "    return int(date[:2])\n",
    "\n",
    "def get_day(date):\n",
    "    return int(date[3:5])\n",
    "\n",
    "def get_year(date):\n",
    "    return int(date[6:])\n"
   ]
  },
  {
   "cell_type": "code",
   "execution_count": 3,
   "metadata": {},
   "outputs": [
    {
     "data": {
      "text/plain": [
       "132"
      ]
     },
     "execution_count": 3,
     "metadata": {},
     "output_type": "execute_result"
    }
   ],
   "source": [
    "#q1\n",
    "project.count()"
   ]
  },
  {
   "cell_type": "code",
   "execution_count": 4,
   "metadata": {},
   "outputs": [
    {
     "data": {
      "text/plain": [
       "'Carol'"
      ]
     },
     "execution_count": 4,
     "metadata": {},
     "output_type": "execute_result"
    }
   ],
   "source": [
    "#q2\n",
    "project.get_name(10)\n"
   ]
  },
  {
   "cell_type": "code",
   "execution_count": 5,
   "metadata": {},
   "outputs": [
    {
     "data": {
      "text/plain": [
       "1"
      ]
     },
     "execution_count": 5,
     "metadata": {},
     "output_type": "execute_result"
    }
   ],
   "source": [
    "#q3\n",
    "project.get_deaths(project.count()-1)"
   ]
  },
  {
   "cell_type": "code",
   "execution_count": 4,
   "metadata": {},
   "outputs": [
    {
     "data": {
      "text/plain": [
       "True"
      ]
     },
     "execution_count": 4,
     "metadata": {},
     "output_type": "execute_result"
    }
   ],
   "source": [
    "#q4\n",
    "def named_bob():\n",
    "    for i in range(project.count()):\n",
    "        if project.get_name(i) == \"Bob\":\n",
    "            return Tru\n",
    "        else:\n",
    "            False\n",
    "named_bob()  "
   ]
  },
  {
   "cell_type": "code",
   "execution_count": 9,
   "metadata": {},
   "outputs": [
    {
     "data": {
      "text/plain": [
       "3"
      ]
     },
     "execution_count": 9,
     "metadata": {},
     "output_type": "execute_result"
    }
   ],
   "source": [
    "#q5\n",
    "def named_flo():\n",
    "    count=0\n",
    "    for i in range(project.count()):\n",
    "        if project.get_name(i).lower() == \"florence\":\n",
    "            count += 1\n",
    "    return count\n",
    "\n",
    "named_flo()  \n"
   ]
  },
  {
   "cell_type": "code",
   "execution_count": 10,
   "metadata": {},
   "outputs": [
    {
     "data": {
      "text/plain": [
       "190"
      ]
     },
     "execution_count": 10,
     "metadata": {},
     "output_type": "execute_result"
    }
   ],
   "source": [
    "#q6\n",
    "def fastest_mph():\n",
    "    biggest=0\n",
    "    for idx in range(project.count()):\n",
    "        if project.get_mph(idx)>biggest:\n",
    "            biggest= project.get_mph(idx)\n",
    "    return biggest\n",
    "fastest_mph()  "
   ]
  },
  {
   "cell_type": "code",
   "execution_count": 9,
   "metadata": {},
   "outputs": [
    {
     "data": {
      "text/plain": [
       "'Allen'"
      ]
     },
     "execution_count": 9,
     "metadata": {},
     "output_type": "execute_result"
    }
   ],
   "source": [
    "#q7 \n",
    "def fastest_hurricane():\n",
    "    for idx in range(project.count()):\n",
    "        if project.get_mph(idx)==fastest_mph():\n",
    "            return (project.get_name(idx))\n",
    "fastest_hurricane()"
   ]
  },
  {
   "cell_type": "code",
   "execution_count": 10,
   "metadata": {},
   "outputs": [
    {
     "data": {
      "text/plain": [
       "13500000"
      ]
     },
     "execution_count": 10,
     "metadata": {},
     "output_type": "execute_result"
    }
   ],
   "source": [
    "#q8\n",
    "def damage():\n",
    "    for idx in range(project.count()):\n",
    "        if project.get_name(idx)== \"Dolphin\":\n",
    "            if project.get_damage(idx).endswith(\"K\"):\n",
    "                return(int(float(project.get_damage(idx)[:-1])*1000))\n",
    "            if project.get_damage(idx).endswith(\"M\"):\n",
    "                return(int(float(project.get_damage(idx)[:-1])*1000000))\n",
    "            if project.get_damage(idx).endswith(\"B\"):\n",
    "                return(int(float(project.get_damage(idx)[:-1])*1000000000))\n",
    "            \n",
    "damage()"
   ]
  },
  {
   "cell_type": "code",
   "execution_count": 11,
   "metadata": {},
   "outputs": [
    {
     "data": {
      "text/plain": [
       "18959"
      ]
     },
     "execution_count": 11,
     "metadata": {},
     "output_type": "execute_result"
    }
   ],
   "source": [
    "#q9\n",
    "\n",
    "def deadliest_in_range(year1, year2):\n",
    "    worst_idx = None\n",
    "    for idx in range(project.count()):\n",
    "        if get_year(str(project.get_formed(idx)))>=year1 and get_year(str(project.get_formed(idx)))<= year2:\n",
    "            if worst_idx==None or project.get_deaths(idx) > worst_idx:\n",
    "                worst_idx= project.get_deaths(idx)\n",
    "                name= project.get_name(idx)\n",
    "    return name\n",
    "\n",
    "def total_death():\n",
    "    worst_idx = 0\n",
    "    for idx in range(project.count()):\n",
    "        worst_idx = worst_idx + project.get_deaths(idx)\n",
    "    return worst_idx\n",
    "\n",
    "total_death()\n"
   ]
  },
  {
   "cell_type": "code",
   "execution_count": 12,
   "metadata": {},
   "outputs": [
    {
     "data": {
      "text/plain": [
       "'Maria'"
      ]
     },
     "execution_count": 12,
     "metadata": {},
     "output_type": "execute_result"
    }
   ],
   "source": [
    "#q10\n",
    "\n",
    "deadliest_in_range(2010, 2019)\n"
   ]
  },
  {
   "cell_type": "code",
   "execution_count": 13,
   "metadata": {},
   "outputs": [
    {
     "data": {
      "text/plain": [
       "'Inez'"
      ]
     },
     "execution_count": 13,
     "metadata": {},
     "output_type": "execute_result"
    }
   ],
   "source": [
    "#q11\n",
    "deadliest_in_range(1901, 2000)\n"
   ]
  },
  {
   "cell_type": "code",
   "execution_count": 14,
   "metadata": {},
   "outputs": [
    {
     "data": {
      "text/plain": [
       "1899"
      ]
     },
     "execution_count": 14,
     "metadata": {},
     "output_type": "execute_result"
    }
   ],
   "source": [
    "#q12\n",
    "def most_deadly():\n",
    "    death=0\n",
    "    year=0\n",
    "    for idx in range(project.count()):\n",
    "        if project.get_deaths(idx)>death:\n",
    "            death= project.get_deaths(idx)\n",
    "            year=get_year(str(project.get_formed(idx)))\n",
    "    return year\n",
    "\n",
    "most_deadly()\n"
   ]
  },
  {
   "cell_type": "code",
   "execution_count": 15,
   "metadata": {},
   "outputs": [
    {
     "data": {
      "text/plain": [
       "226500000"
      ]
     },
     "execution_count": 15,
     "metadata": {},
     "output_type": "execute_result"
    }
   ],
   "source": [
    "#q13\n",
    "def damage():\n",
    "    for idx in range(project.count()):\n",
    "        if project.get_name(idx) == deadliest_in_range(1901, 2000):\n",
    "            if project.get_damage(idx).endswith(\"K\"):\n",
    "                return(int(float(project.get_damage(idx)[:-1])*1000))\n",
    "            if project.get_damage(idx).endswith(\"M\"):\n",
    "                return(int(float(project.get_damage(idx)[:-1])*1000000))\n",
    "            if project.get_damage(idx).endswith(\"B\"):\n",
    "                return(int(float(project.get_damage(idx)[:-1])*1000000000))     \n",
    "damage()        "
   ]
  },
  {
   "cell_type": "code",
   "execution_count": 16,
   "metadata": {},
   "outputs": [
    {
     "data": {
      "text/plain": [
       "864230464997"
      ]
     },
     "execution_count": 16,
     "metadata": {},
     "output_type": "execute_result"
    }
   ],
   "source": [
    "#q14\n",
    "\n",
    "def total_damage():\n",
    "    total=0\n",
    "    for idx in range(project.count()):\n",
    "        if project.get_damage(idx).endswith(\"K\"):\n",
    "            total= total+ (int(float(project.get_damage(idx)[:-1])*1000))\n",
    "        if project.get_damage(idx).endswith(\"M\"):\n",
    "            total= total+ (int(float(project.get_damage(idx)[:-1])*1000000))\n",
    "        if project.get_damage(idx).endswith(\"B\"):\n",
    "            total= total+ (int(float(project.get_damage(idx)[:-1])*1000000000))\n",
    "           \n",
    "    return total \n",
    "\n",
    "total_damage()\n"
   ]
  },
  {
   "cell_type": "code",
   "execution_count": 17,
   "metadata": {},
   "outputs": [
    {
     "data": {
      "text/plain": [
       "17"
      ]
     },
     "execution_count": 17,
     "metadata": {},
     "output_type": "execute_result"
    }
   ],
   "source": [
    "#q15\n",
    "def hurricanes_in_month(mm):\n",
    "    num_of_hurricanes = 0\n",
    "    for idx in range(project.count()):\n",
    "        if int(get_month(project.get_formed(idx)))==int(mm):\n",
    "            num_of_hurricanes += 1\n",
    "    return num_of_hurricanes\n",
    "\n",
    "hurricanes_in_month(7)"
   ]
  },
  {
   "cell_type": "code",
   "execution_count": 18,
   "metadata": {},
   "outputs": [
    {
     "data": {
      "text/plain": [
       "3"
      ]
     },
     "execution_count": 18,
     "metadata": {},
     "output_type": "execute_result"
    }
   ],
   "source": [
    "#q16\n",
    "hurricanes_in_month(12)"
   ]
  },
  {
   "cell_type": "code",
   "execution_count": 19,
   "metadata": {},
   "outputs": [
    {
     "data": {
      "text/plain": [
       "3"
      ]
     },
     "execution_count": 19,
     "metadata": {},
     "output_type": "execute_result"
    }
   ],
   "source": [
    "#q17\n",
    "hurricanes_in_month(1)"
   ]
  },
  {
   "cell_type": "code",
   "execution_count": 20,
   "metadata": {},
   "outputs": [
    {
     "data": {
      "text/plain": [
       "2"
      ]
     },
     "execution_count": 20,
     "metadata": {},
     "output_type": "execute_result"
    }
   ],
   "source": [
    "#q18\n",
    "hurricanes_in_month(5)"
   ]
  },
  {
   "cell_type": "code",
   "execution_count": 21,
   "metadata": {},
   "outputs": [
    {
     "data": {
      "text/plain": [
       "9"
      ]
     },
     "execution_count": 21,
     "metadata": {},
     "output_type": "execute_result"
    }
   ],
   "source": [
    "#q19\n",
    "def most():\n",
    "    biggest=0\n",
    "    month=0\n",
    "    for i in range(13):\n",
    "        if hurricanes_in_month(i)> biggest:\n",
    "            biggest= hurricanes_in_month(i)\n",
    "            month = i\n",
    "    return month\n",
    "\n",
    "most()\n"
   ]
  },
  {
   "cell_type": "code",
   "execution_count": 22,
   "metadata": {},
   "outputs": [
    {
     "data": {
      "text/plain": [
       "10"
      ]
     },
     "execution_count": 22,
     "metadata": {},
     "output_type": "execute_result"
    }
   ],
   "source": [
    "#q20\n",
    "def hurricanes_in_year(x):\n",
    "    num_of_hurricanes = 0\n",
    "    for i in range(project.count()):\n",
    "        if x==int(get_year(project.get_formed(i))): \n",
    "            num_of_hurricanes += 1\n",
    "    return num_of_hurricanes\n",
    "\n",
    "def at_least():\n",
    "    i=1000\n",
    "    num=0\n",
    "    while i<=3000:\n",
    "        hurricanes_in_year(i)\n",
    "        if hurricanes_in_year(i)>=4:\n",
    "            num+=1\n",
    "        i+=1\n",
    "    return num\n",
    "\n",
    "at_least()"
   ]
  },
  {
   "cell_type": "code",
   "execution_count": null,
   "metadata": {},
   "outputs": [],
   "source": []
  },
  {
   "cell_type": "code",
   "execution_count": null,
   "metadata": {},
   "outputs": [],
   "source": []
  },
  {
   "cell_type": "code",
   "execution_count": null,
   "metadata": {},
   "outputs": [],
   "source": []
  }
 ],
 "metadata": {
  "kernelspec": {
   "display_name": "Python 3",
   "language": "python",
   "name": "python3"
  },
  "language_info": {
   "codemirror_mode": {
    "name": "ipython",
    "version": 3
   },
   "file_extension": ".py",
   "mimetype": "text/x-python",
   "name": "python",
   "nbconvert_exporter": "python",
   "pygments_lexer": "ipython3",
   "version": "3.7.4"
  }
 },
 "nbformat": 4,
 "nbformat_minor": 2
}
