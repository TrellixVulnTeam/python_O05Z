{
 "cells": [
  {
   "cell_type": "code",
   "execution_count": 1,
   "metadata": {},
   "outputs": [],
   "source": [
    "#project: p10\n",
    "#submitter: ytian83\n",
    "#partner: none"
   ]
  },
  {
   "cell_type": "code",
   "execution_count": 2,
   "metadata": {},
   "outputs": [],
   "source": [
    "#import\n",
    "import os\n",
    "import pandas as pd\n",
    "from pandas import DataFrame, Series\n",
    "import requests \n",
    "import json\n",
    "from bs4 import BeautifulSoup\n",
    "import math\n",
    "import sqlite3"
   ]
  },
  {
   "cell_type": "code",
   "execution_count": 3,
   "metadata": {},
   "outputs": [],
   "source": [
    "#functions \n",
    "def download(filename, url):\n",
    "    if os.path.exists(filename):\n",
    "        return (str(filename) + \" already exists!\")\n",
    "    resp = requests.get(url)\n",
    "    resp.raise_for_status()\n",
    "    url_text=resp.text\n",
    "    f = open(os.path.join(\".\", filename), \"w\")\n",
    "    f.write(url_text)\n",
    "    f.close()\n",
    "    return (str(filename) + \" created!\")"
   ]
  },
  {
   "cell_type": "code",
   "execution_count": 4,
   "metadata": {},
   "outputs": [
    {
     "data": {
      "text/plain": [
       "'countries.json already exists!'"
      ]
     },
     "execution_count": 4,
     "metadata": {},
     "output_type": "execute_result"
    }
   ],
   "source": [
    "download(\"countries.json\",\"https://raw.githubusercontent.com/tylerharter/caraza-harter-com/master/tyler/cs301/fall19/data/countries.json\" )"
   ]
  },
  {
   "cell_type": "code",
   "execution_count": 5,
   "metadata": {},
   "outputs": [
    {
     "data": {
      "text/html": [
       "<div>\n",
       "<style scoped>\n",
       "    .dataframe tbody tr th:only-of-type {\n",
       "        vertical-align: middle;\n",
       "    }\n",
       "\n",
       "    .dataframe tbody tr th {\n",
       "        vertical-align: top;\n",
       "    }\n",
       "\n",
       "    .dataframe thead th {\n",
       "        text-align: right;\n",
       "    }\n",
       "</style>\n",
       "<table border=\"1\" class=\"dataframe\">\n",
       "  <thead>\n",
       "    <tr style=\"text-align: right;\">\n",
       "      <th></th>\n",
       "      <th>area</th>\n",
       "      <th>birth-rate</th>\n",
       "      <th>coastline</th>\n",
       "      <th>continent</th>\n",
       "      <th>country</th>\n",
       "      <th>death-rate</th>\n",
       "      <th>gdp-per-capita</th>\n",
       "      <th>infant-mortality</th>\n",
       "      <th>literacy</th>\n",
       "      <th>net-migration</th>\n",
       "      <th>phones</th>\n",
       "      <th>population</th>\n",
       "      <th>region</th>\n",
       "    </tr>\n",
       "  </thead>\n",
       "  <tbody>\n",
       "    <tr>\n",
       "      <th>0</th>\n",
       "      <td>756950</td>\n",
       "      <td>15.23</td>\n",
       "      <td>0.85</td>\n",
       "      <td>South America</td>\n",
       "      <td>Chile</td>\n",
       "      <td>5.81</td>\n",
       "      <td>9900</td>\n",
       "      <td>8.80</td>\n",
       "      <td>96,2</td>\n",
       "      <td>0.00</td>\n",
       "      <td>213,0</td>\n",
       "      <td>16134219</td>\n",
       "      <td>LATIN AMER. &amp; CARIB</td>\n",
       "    </tr>\n",
       "    <tr>\n",
       "      <th>1</th>\n",
       "      <td>665</td>\n",
       "      <td>17.80</td>\n",
       "      <td>24.21</td>\n",
       "      <td>Asia</td>\n",
       "      <td>Bahrain</td>\n",
       "      <td>4.14</td>\n",
       "      <td>16900</td>\n",
       "      <td>17.27</td>\n",
       "      <td>89,1</td>\n",
       "      <td>1.05</td>\n",
       "      <td>281,3</td>\n",
       "      <td>698585</td>\n",
       "      <td>NEAR EAST</td>\n",
       "    </tr>\n",
       "    <tr>\n",
       "      <th>2</th>\n",
       "      <td>22966</td>\n",
       "      <td>28.84</td>\n",
       "      <td>1.68</td>\n",
       "      <td>North America</td>\n",
       "      <td>Belize</td>\n",
       "      <td>5.72</td>\n",
       "      <td>4900</td>\n",
       "      <td>25.69</td>\n",
       "      <td>94,1</td>\n",
       "      <td>0.00</td>\n",
       "      <td>115,7</td>\n",
       "      <td>287730</td>\n",
       "      <td>LATIN AMER. &amp; CARIB</td>\n",
       "    </tr>\n",
       "    <tr>\n",
       "      <th>3</th>\n",
       "      <td>582650</td>\n",
       "      <td>39.72</td>\n",
       "      <td>0.09</td>\n",
       "      <td>Africa</td>\n",
       "      <td>Kenya</td>\n",
       "      <td>14.02</td>\n",
       "      <td>1000</td>\n",
       "      <td>61.47</td>\n",
       "      <td>85,1</td>\n",
       "      <td>-0.10</td>\n",
       "      <td>8,1</td>\n",
       "      <td>34707817</td>\n",
       "      <td>SUB-SAHARAN AFRICA</td>\n",
       "    </tr>\n",
       "    <tr>\n",
       "      <th>4</th>\n",
       "      <td>11854</td>\n",
       "      <td>33.05</td>\n",
       "      <td>3.12</td>\n",
       "      <td>Australia</td>\n",
       "      <td>Marshall Islands</td>\n",
       "      <td>4.78</td>\n",
       "      <td>1600</td>\n",
       "      <td>29.45</td>\n",
       "      <td>93,7</td>\n",
       "      <td>-6.04</td>\n",
       "      <td>91,2</td>\n",
       "      <td>60422</td>\n",
       "      <td>OCEANIA</td>\n",
       "    </tr>\n",
       "  </tbody>\n",
       "</table>\n",
       "</div>"
      ],
      "text/plain": [
       "     area  birth-rate  coastline      continent           country  death-rate  \\\n",
       "0  756950       15.23       0.85  South America             Chile        5.81   \n",
       "1     665       17.80      24.21           Asia           Bahrain        4.14   \n",
       "2   22966       28.84       1.68  North America            Belize        5.72   \n",
       "3  582650       39.72       0.09         Africa             Kenya       14.02   \n",
       "4   11854       33.05       3.12      Australia  Marshall Islands        4.78   \n",
       "\n",
       "   gdp-per-capita  infant-mortality literacy  net-migration phones  \\\n",
       "0            9900              8.80     96,2           0.00  213,0   \n",
       "1           16900             17.27     89,1           1.05  281,3   \n",
       "2            4900             25.69     94,1           0.00  115,7   \n",
       "3            1000             61.47     85,1          -0.10    8,1   \n",
       "4            1600             29.45     93,7          -6.04   91,2   \n",
       "\n",
       "   population               region  \n",
       "0    16134219  LATIN AMER. & CARIB  \n",
       "1      698585            NEAR EAST  \n",
       "2      287730  LATIN AMER. & CARIB  \n",
       "3    34707817   SUB-SAHARAN AFRICA  \n",
       "4       60422              OCEANIA  "
      ]
     },
     "execution_count": 5,
     "metadata": {},
     "output_type": "execute_result"
    }
   ],
   "source": [
    "countries=pd.read_json('countries.json')\n",
    "countries.head()"
   ]
  },
  {
   "cell_type": "code",
   "execution_count": 6,
   "metadata": {},
   "outputs": [
    {
     "data": {
      "text/plain": [
       "174"
      ]
     },
     "execution_count": 6,
     "metadata": {},
     "output_type": "execute_result"
    }
   ],
   "source": [
    "#q1\n",
    "len(set(list(countries.country)))"
   ]
  },
  {
   "cell_type": "code",
   "execution_count": 7,
   "metadata": {},
   "outputs": [
    {
     "data": {
      "text/plain": [
       "127170843"
      ]
     },
     "execution_count": 7,
     "metadata": {},
     "output_type": "execute_result"
    }
   ],
   "source": [
    "#q2\n",
    "sum(countries[\"area\"])"
   ]
  },
  {
   "cell_type": "code",
   "execution_count": 8,
   "metadata": {},
   "outputs": [
    {
     "data": {
      "text/plain": [
       "'capitals.html already exists!'"
      ]
     },
     "execution_count": 8,
     "metadata": {},
     "output_type": "execute_result"
    }
   ],
   "source": [
    "download('capitals.html', 'https://raw.githubusercontent.com/tylerharter/cs301-projects/master/fall19/p10/techslides-snapshot.html')"
   ]
  },
  {
   "cell_type": "code",
   "execution_count": 9,
   "metadata": {},
   "outputs": [
    {
     "data": {
      "text/html": [
       "<div>\n",
       "<style scoped>\n",
       "    .dataframe tbody tr th:only-of-type {\n",
       "        vertical-align: middle;\n",
       "    }\n",
       "\n",
       "    .dataframe tbody tr th {\n",
       "        vertical-align: top;\n",
       "    }\n",
       "\n",
       "    .dataframe thead th {\n",
       "        text-align: right;\n",
       "    }\n",
       "</style>\n",
       "<table border=\"1\" class=\"dataframe\">\n",
       "  <thead>\n",
       "    <tr style=\"text-align: right;\">\n",
       "      <th></th>\n",
       "      <th>country</th>\n",
       "      <th>capital</th>\n",
       "      <th>latitude</th>\n",
       "      <th>longitude</th>\n",
       "    </tr>\n",
       "  </thead>\n",
       "  <tbody>\n",
       "    <tr>\n",
       "      <th>0</th>\n",
       "      <td>Afghanistan</td>\n",
       "      <td>Kabul</td>\n",
       "      <td>34.516667</td>\n",
       "      <td>69.183333</td>\n",
       "    </tr>\n",
       "    <tr>\n",
       "      <th>1</th>\n",
       "      <td>Albania</td>\n",
       "      <td>Tirana</td>\n",
       "      <td>41.316667</td>\n",
       "      <td>19.816667</td>\n",
       "    </tr>\n",
       "    <tr>\n",
       "      <th>2</th>\n",
       "      <td>Algeria</td>\n",
       "      <td>Algiers</td>\n",
       "      <td>36.750000</td>\n",
       "      <td>3.050000</td>\n",
       "    </tr>\n",
       "    <tr>\n",
       "      <th>3</th>\n",
       "      <td>Anguilla</td>\n",
       "      <td>The Valley</td>\n",
       "      <td>18.216667</td>\n",
       "      <td>-63.050000</td>\n",
       "    </tr>\n",
       "    <tr>\n",
       "      <th>4</th>\n",
       "      <td>Argentina</td>\n",
       "      <td>Buenos Aires</td>\n",
       "      <td>-34.583333</td>\n",
       "      <td>-58.666667</td>\n",
       "    </tr>\n",
       "  </tbody>\n",
       "</table>\n",
       "</div>"
      ],
      "text/plain": [
       "       country       capital   latitude  longitude\n",
       "0  Afghanistan         Kabul  34.516667  69.183333\n",
       "1      Albania        Tirana  41.316667  19.816667\n",
       "2      Algeria       Algiers  36.750000   3.050000\n",
       "3     Anguilla    The Valley  18.216667 -63.050000\n",
       "4    Argentina  Buenos Aires -34.583333 -58.666667"
      ]
     },
     "execution_count": 9,
     "metadata": {},
     "output_type": "execute_result"
    }
   ],
   "source": [
    "url = 'https://raw.githubusercontent.com/tylerharter/cs301-projects/master/fall19/p10/techslides-snapshot.html'\n",
    "resp = requests.get(url)\n",
    "resp.raise_for_status()\n",
    "page = BeautifulSoup(resp.text, \"html.parser\")\n",
    "tables = page.find(\"table\")\n",
    "row = tables.find_all(\"tr\")\n",
    "temp_list=[]\n",
    "for i in row[1:]:\n",
    "    col_list = i.find_all(\"td\")\n",
    "    for j in range(len(col_list)):\n",
    "        col_list[j]=col_list[j].text\n",
    "    temp_dict ={}\n",
    "    temp_dict[\"country\"]=col_list[0]\n",
    "    temp_dict[\"capital\"]=col_list[1]\n",
    "    temp_dict[\"latitude\"]=float(col_list[2])\n",
    "    temp_dict[\"longitude\"]=float(col_list[3])\n",
    "    if temp_dict[\"country\"] in list(countries.country):\n",
    "        temp_list.append(temp_dict)\n",
    "f = open(\"capitals.json\", \"w\",encoding=\"utf-8\")\n",
    "json.dump(temp_list,f)\n",
    "f.close()\n",
    "\n",
    "capitals=pd.read_json(\"capitals.json\")\n",
    "capitals.head()"
   ]
  },
  {
   "cell_type": "code",
   "execution_count": 10,
   "metadata": {},
   "outputs": [
    {
     "data": {
      "text/plain": [
       "['Afghanistan',\n",
       " 'Albania',\n",
       " 'Algeria',\n",
       " 'Anguilla',\n",
       " 'Argentina',\n",
       " 'Armenia',\n",
       " 'Aruba',\n",
       " 'Australia',\n",
       " 'Austria',\n",
       " 'Azerbaijan',\n",
       " 'Bahrain',\n",
       " 'Bangladesh',\n",
       " 'Barbados',\n",
       " 'Belarus',\n",
       " 'Belgium',\n",
       " 'Belize',\n",
       " 'Benin',\n",
       " 'Bermuda',\n",
       " 'Bhutan',\n",
       " 'Bolivia',\n",
       " 'Botswana',\n",
       " 'Brazil',\n",
       " 'Bulgaria',\n",
       " 'Burkina Faso',\n",
       " 'Burundi',\n",
       " 'Cambodia',\n",
       " 'Cameroon',\n",
       " 'Canada',\n",
       " 'Cape Verde',\n",
       " 'Cayman Islands',\n",
       " 'Chad',\n",
       " 'Chile',\n",
       " 'China',\n",
       " 'Colombia',\n",
       " 'Comoros',\n",
       " 'Costa Rica',\n",
       " 'Croatia',\n",
       " 'Cuba',\n",
       " 'Czech Republic',\n",
       " 'Denmark',\n",
       " 'Djibouti',\n",
       " 'Dominica',\n",
       " 'Dominican Republic',\n",
       " 'Ecuador',\n",
       " 'Egypt',\n",
       " 'El Salvador',\n",
       " 'Equatorial Guinea',\n",
       " 'Eritrea',\n",
       " 'Estonia',\n",
       " 'Ethiopia',\n",
       " 'Fiji',\n",
       " 'Finland',\n",
       " 'France',\n",
       " 'French Polynesia',\n",
       " 'Gabon',\n",
       " 'Georgia',\n",
       " 'Germany',\n",
       " 'Ghana',\n",
       " 'Greece',\n",
       " 'Grenada',\n",
       " 'Guam',\n",
       " 'Guatemala',\n",
       " 'Guinea',\n",
       " 'Guinea-Bissau',\n",
       " 'Guyana',\n",
       " 'Haiti',\n",
       " 'Honduras',\n",
       " 'Hungary',\n",
       " 'Iceland',\n",
       " 'India',\n",
       " 'Indonesia',\n",
       " 'Iran',\n",
       " 'Iraq',\n",
       " 'Ireland',\n",
       " 'Israel',\n",
       " 'Italy',\n",
       " 'Jamaica',\n",
       " 'Japan',\n",
       " 'Jordan',\n",
       " 'Kazakhstan',\n",
       " 'Kenya',\n",
       " 'Kuwait',\n",
       " 'Kyrgyzstan',\n",
       " 'Laos',\n",
       " 'Latvia',\n",
       " 'Lebanon',\n",
       " 'Lesotho',\n",
       " 'Liberia',\n",
       " 'Libya',\n",
       " 'Liechtenstein',\n",
       " 'Lithuania',\n",
       " 'Luxembourg',\n",
       " 'Madagascar',\n",
       " 'Malawi',\n",
       " 'Malaysia',\n",
       " 'Maldives',\n",
       " 'Mali',\n",
       " 'Malta',\n",
       " 'Marshall Islands',\n",
       " 'Mauritania',\n",
       " 'Mauritius',\n",
       " 'Mexico',\n",
       " 'Moldova',\n",
       " 'Monaco',\n",
       " 'Mongolia',\n",
       " 'Morocco',\n",
       " 'Mozambique',\n",
       " 'Namibia',\n",
       " 'Nepal',\n",
       " 'Netherlands',\n",
       " 'New Caledonia',\n",
       " 'New Zealand',\n",
       " 'Nicaragua',\n",
       " 'Niger',\n",
       " 'Nigeria',\n",
       " 'Norway',\n",
       " 'Oman',\n",
       " 'Pakistan',\n",
       " 'Palau',\n",
       " 'Panama',\n",
       " 'Papua New Guinea',\n",
       " 'Paraguay',\n",
       " 'Peru',\n",
       " 'Philippines',\n",
       " 'Poland',\n",
       " 'Portugal',\n",
       " 'Puerto Rico',\n",
       " 'Qatar',\n",
       " 'Romania',\n",
       " 'Russia',\n",
       " 'Rwanda',\n",
       " 'Saint Helena',\n",
       " 'Saint Lucia',\n",
       " 'Saint Vincent and the Grenadines',\n",
       " 'Samoa',\n",
       " 'San Marino',\n",
       " 'Saudi Arabia',\n",
       " 'Senegal',\n",
       " 'Seychelles',\n",
       " 'Sierra Leone',\n",
       " 'Singapore',\n",
       " 'Slovenia',\n",
       " 'Somalia',\n",
       " 'South Africa',\n",
       " 'Spain',\n",
       " 'Sri Lanka',\n",
       " 'Sudan',\n",
       " 'Suriname',\n",
       " 'Swaziland',\n",
       " 'Sweden',\n",
       " 'Switzerland',\n",
       " 'Syria',\n",
       " 'Taiwan',\n",
       " 'Tajikistan',\n",
       " 'Tanzania',\n",
       " 'Thailand',\n",
       " 'Togo',\n",
       " 'Tonga',\n",
       " 'Tunisia',\n",
       " 'Turkey',\n",
       " 'Turkmenistan',\n",
       " 'Uganda',\n",
       " 'Ukraine',\n",
       " 'United Arab Emirates',\n",
       " 'United Kingdom',\n",
       " 'United States',\n",
       " 'Uruguay',\n",
       " 'Uzbekistan',\n",
       " 'Vanuatu',\n",
       " 'Venezuela',\n",
       " 'Vietnam',\n",
       " 'Yemen',\n",
       " 'Zambia',\n",
       " 'Zimbabwe']"
      ]
     },
     "execution_count": 10,
     "metadata": {},
     "output_type": "execute_result"
    }
   ],
   "source": [
    "#q3\n",
    "s=list(capitals.country)\n",
    "s.sort()\n",
    "s"
   ]
  },
  {
   "cell_type": "code",
   "execution_count": 11,
   "metadata": {},
   "outputs": [
    {
     "data": {
      "text/plain": [
       "'Havana'"
      ]
     },
     "execution_count": 11,
     "metadata": {},
     "output_type": "execute_result"
    }
   ],
   "source": [
    "#q4\n",
    "next(iter(capitals[capitals[\"country\"]==\"Cuba\"][\"capital\"]))"
   ]
  },
  {
   "cell_type": "code",
   "execution_count": 12,
   "metadata": {},
   "outputs": [
    {
     "data": {
      "text/plain": [
       "'Georgia'"
      ]
     },
     "execution_count": 12,
     "metadata": {},
     "output_type": "execute_result"
    }
   ],
   "source": [
    "#q5\n",
    "next(iter(capitals[capitals[\"capital\"]==\"Tbilisi\"][\"country\"]))"
   ]
  },
  {
   "cell_type": "code",
   "execution_count": 13,
   "metadata": {},
   "outputs": [
    {
     "data": {
      "text/plain": [
       "['New Zealand',\n",
       " 'Australia',\n",
       " 'Uruguay',\n",
       " 'Argentina',\n",
       " 'Chile',\n",
       " 'Lesotho',\n",
       " 'Swaziland']"
      ]
     },
     "execution_count": 13,
     "metadata": {},
     "output_type": "execute_result"
    }
   ],
   "source": [
    "#q6\n",
    "list(capitals.sort_values(by=[\"latitude\"])[:7].country)\n"
   ]
  },
  {
   "cell_type": "code",
   "execution_count": 14,
   "metadata": {},
   "outputs": [
    {
     "data": {
      "text/plain": [
       "['Iceland', 'Finland', 'Norway', 'Estonia', 'Sweden']"
      ]
     },
     "execution_count": 14,
     "metadata": {},
     "output_type": "execute_result"
    }
   ],
   "source": [
    "#q7\n",
    "list(capitals.sort_values(by=[\"latitude\"],ascending=False)[:5].country)"
   ]
  },
  {
   "cell_type": "code",
   "execution_count": 15,
   "metadata": {},
   "outputs": [
    {
     "data": {
      "text/html": [
       "<div>\n",
       "<style scoped>\n",
       "    .dataframe tbody tr th:only-of-type {\n",
       "        vertical-align: middle;\n",
       "    }\n",
       "\n",
       "    .dataframe tbody tr th {\n",
       "        vertical-align: top;\n",
       "    }\n",
       "\n",
       "    .dataframe thead th {\n",
       "        text-align: right;\n",
       "    }\n",
       "</style>\n",
       "<table border=\"1\" class=\"dataframe\">\n",
       "  <thead>\n",
       "    <tr style=\"text-align: right;\">\n",
       "      <th></th>\n",
       "      <th>birth-rate</th>\n",
       "      <th>death-rate</th>\n",
       "    </tr>\n",
       "  </thead>\n",
       "  <tbody>\n",
       "    <tr>\n",
       "      <th>count</th>\n",
       "      <td>174.000000</td>\n",
       "      <td>174.000000</td>\n",
       "    </tr>\n",
       "    <tr>\n",
       "      <th>mean</th>\n",
       "      <td>22.463851</td>\n",
       "      <td>9.625172</td>\n",
       "    </tr>\n",
       "    <tr>\n",
       "      <th>std</th>\n",
       "      <td>11.278992</td>\n",
       "      <td>5.187143</td>\n",
       "    </tr>\n",
       "    <tr>\n",
       "      <th>min</th>\n",
       "      <td>8.250000</td>\n",
       "      <td>2.410000</td>\n",
       "    </tr>\n",
       "    <tr>\n",
       "      <th>25%</th>\n",
       "      <td>12.597500</td>\n",
       "      <td>6.027500</td>\n",
       "    </tr>\n",
       "    <tr>\n",
       "      <th>50%</th>\n",
       "      <td>20.010000</td>\n",
       "      <td>8.230000</td>\n",
       "    </tr>\n",
       "    <tr>\n",
       "      <th>75%</th>\n",
       "      <td>29.860000</td>\n",
       "      <td>11.715000</td>\n",
       "    </tr>\n",
       "    <tr>\n",
       "      <th>max</th>\n",
       "      <td>50.730000</td>\n",
       "      <td>29.740000</td>\n",
       "    </tr>\n",
       "  </tbody>\n",
       "</table>\n",
       "</div>"
      ],
      "text/plain": [
       "       birth-rate  death-rate\n",
       "count  174.000000  174.000000\n",
       "mean    22.463851    9.625172\n",
       "std     11.278992    5.187143\n",
       "min      8.250000    2.410000\n",
       "25%     12.597500    6.027500\n",
       "50%     20.010000    8.230000\n",
       "75%     29.860000   11.715000\n",
       "max     50.730000   29.740000"
      ]
     },
     "execution_count": 15,
     "metadata": {},
     "output_type": "execute_result"
    }
   ],
   "source": [
    "#q8\n",
    "countries.describe()[[\"birth-rate\",\"death-rate\" ]]"
   ]
  },
  {
   "cell_type": "code",
   "execution_count": 16,
   "metadata": {},
   "outputs": [
    {
     "data": {
      "text/html": [
       "<div>\n",
       "<style scoped>\n",
       "    .dataframe tbody tr th:only-of-type {\n",
       "        vertical-align: middle;\n",
       "    }\n",
       "\n",
       "    .dataframe tbody tr th {\n",
       "        vertical-align: top;\n",
       "    }\n",
       "\n",
       "    .dataframe thead th {\n",
       "        text-align: right;\n",
       "    }\n",
       "</style>\n",
       "<table border=\"1\" class=\"dataframe\">\n",
       "  <thead>\n",
       "    <tr style=\"text-align: right;\">\n",
       "      <th></th>\n",
       "      <th>literacy</th>\n",
       "      <th>phones</th>\n",
       "    </tr>\n",
       "  </thead>\n",
       "  <tbody>\n",
       "    <tr>\n",
       "      <th>count</th>\n",
       "      <td>174.000000</td>\n",
       "      <td>174.000000</td>\n",
       "    </tr>\n",
       "    <tr>\n",
       "      <th>mean</th>\n",
       "      <td>82.362069</td>\n",
       "      <td>215.770690</td>\n",
       "    </tr>\n",
       "    <tr>\n",
       "      <th>std</th>\n",
       "      <td>20.003166</td>\n",
       "      <td>218.713811</td>\n",
       "    </tr>\n",
       "    <tr>\n",
       "      <th>min</th>\n",
       "      <td>17.600000</td>\n",
       "      <td>1.300000</td>\n",
       "    </tr>\n",
       "    <tr>\n",
       "      <th>25%</th>\n",
       "      <td>70.100000</td>\n",
       "      <td>32.000000</td>\n",
       "    </tr>\n",
       "    <tr>\n",
       "      <th>50%</th>\n",
       "      <td>92.100000</td>\n",
       "      <td>140.350000</td>\n",
       "    </tr>\n",
       "    <tr>\n",
       "      <th>75%</th>\n",
       "      <td>98.000000</td>\n",
       "      <td>331.750000</td>\n",
       "    </tr>\n",
       "    <tr>\n",
       "      <th>max</th>\n",
       "      <td>100.000000</td>\n",
       "      <td>1035.600000</td>\n",
       "    </tr>\n",
       "  </tbody>\n",
       "</table>\n",
       "</div>"
      ],
      "text/plain": [
       "         literacy       phones\n",
       "count  174.000000   174.000000\n",
       "mean    82.362069   215.770690\n",
       "std     20.003166   218.713811\n",
       "min     17.600000     1.300000\n",
       "25%     70.100000    32.000000\n",
       "50%     92.100000   140.350000\n",
       "75%     98.000000   331.750000\n",
       "max    100.000000  1035.600000"
      ]
     },
     "execution_count": 16,
     "metadata": {},
     "output_type": "execute_result"
    }
   ],
   "source": [
    "#q9\n",
    "countries.literacy=countries[\"literacy\"].str.replace(\",\",\".\")\n",
    "countries.phones=countries[\"phones\"].str.replace(\",\",\".\")\n",
    "countries=countries.astype({\"literacy\":'float64',\"phones\":'float64'})\n",
    "countries.describe()[[\"literacy\",\"phones\"]]\n"
   ]
  },
  {
   "cell_type": "code",
   "execution_count": 17,
   "metadata": {},
   "outputs": [
    {
     "data": {
      "text/plain": [
       "'Belarus'"
      ]
     },
     "execution_count": 17,
     "metadata": {},
     "output_type": "execute_result"
    }
   ],
   "source": [
    "#q10\n",
    "\n",
    "def find(continent):\n",
    "    df=countries[(countries[\"continent\"]==continent) & (countries.coastline == 0)]\n",
    "    a=next(iter(df[df.area == df.area.max()][\"country\"]))\n",
    "    return a\n",
    "\n",
    "find(\"Europe\")\n"
   ]
  },
  {
   "cell_type": "code",
   "execution_count": 18,
   "metadata": {},
   "outputs": [
    {
     "data": {
      "text/plain": [
       "'Kazakhstan'"
      ]
     },
     "execution_count": 18,
     "metadata": {},
     "output_type": "execute_result"
    }
   ],
   "source": [
    "#q11\n",
    "find(\"Asia\")"
   ]
  },
  {
   "cell_type": "code",
   "execution_count": 19,
   "metadata": {},
   "outputs": [
    {
     "data": {
      "text/plain": [
       "'Afghanistan'"
      ]
     },
     "execution_count": 19,
     "metadata": {},
     "output_type": "execute_result"
    }
   ],
   "source": [
    "#q12\n",
    "def find1(continent):\n",
    "    df=countries[(countries[\"continent\"]==continent) & (countries.coastline == 0)]\n",
    "    a=next(iter(df[df.population == df.population.max()][\"country\"]))\n",
    "    return a\n",
    "\n",
    "find1(\"Asia\")"
   ]
  },
  {
   "cell_type": "code",
   "execution_count": 20,
   "metadata": {},
   "outputs": [
    {
     "data": {
      "text/plain": [
       "1.433899492072933"
      ]
     },
     "execution_count": 20,
     "metadata": {},
     "output_type": "execute_result"
    }
   ],
   "source": [
    "#q13\n",
    "\n",
    "def dis(lo1,lo2,la1,la2):\n",
    "    lon1=math.radians(lo1)\n",
    "    lon2=math.radians(lo2)\n",
    "    lat1=math.radians(la1)\n",
    "    lat2=math.radians(la2)\n",
    "    dlon = lon2 - lon1\n",
    "    dlat = lat2 - lat1\n",
    "    a = (math.sin(dlat/2))**2 + math.cos(lat1) * math.cos(lat2) * (math.sin(dlon/2))**2\n",
    "    c = 2 * math.asin(min(1,(a)**0.5))\n",
    "    d = 3956 * c\n",
    "    return d\n",
    "    \n",
    "dis(-89.411893,-89.384113, 43.070231, 43.074645)"
   ]
  },
  {
   "cell_type": "code",
   "execution_count": 21,
   "metadata": {},
   "outputs": [
    {
     "data": {
      "text/plain": [
       "6032.330932363535"
      ]
     },
     "execution_count": 21,
     "metadata": {},
     "output_type": "execute_result"
    }
   ],
   "source": [
    "#q14\n",
    "\n",
    "def dis2(country1,country2):\n",
    "    df=capitals[(capitals[\"country\"]==country1)|(capitals[\"country\"]==country2)]\n",
    "    return dis(df.longitude.iloc[0], df.longitude.iloc[1], df.latitude.iloc[0], df.latitude.iloc[1])\n",
    "   \n",
    "dis2(\"France\",\"Japan\")"
   ]
  },
  {
   "cell_type": "code",
   "execution_count": 22,
   "metadata": {},
   "outputs": [
    {
     "data": {
      "text/html": [
       "<div>\n",
       "<style scoped>\n",
       "    .dataframe tbody tr th:only-of-type {\n",
       "        vertical-align: middle;\n",
       "    }\n",
       "\n",
       "    .dataframe tbody tr th {\n",
       "        vertical-align: top;\n",
       "    }\n",
       "\n",
       "    .dataframe thead th {\n",
       "        text-align: right;\n",
       "    }\n",
       "</style>\n",
       "<table border=\"1\" class=\"dataframe\">\n",
       "  <thead>\n",
       "    <tr style=\"text-align: right;\">\n",
       "      <th></th>\n",
       "      <th>Guam</th>\n",
       "      <th>New Zealand</th>\n",
       "      <th>Australia</th>\n",
       "    </tr>\n",
       "  </thead>\n",
       "  <tbody>\n",
       "    <tr>\n",
       "      <th>Guam</th>\n",
       "      <td>NaN</td>\n",
       "      <td>4239.314912</td>\n",
       "      <td>3377.103870</td>\n",
       "    </tr>\n",
       "    <tr>\n",
       "      <th>New Zealand</th>\n",
       "      <td>4239.314912</td>\n",
       "      <td>NaN</td>\n",
       "      <td>1445.147895</td>\n",
       "    </tr>\n",
       "    <tr>\n",
       "      <th>Australia</th>\n",
       "      <td>3377.103870</td>\n",
       "      <td>1445.147895</td>\n",
       "      <td>NaN</td>\n",
       "    </tr>\n",
       "  </tbody>\n",
       "</table>\n",
       "</div>"
      ],
      "text/plain": [
       "                    Guam  New Zealand    Australia\n",
       "Guam                 NaN  4239.314912  3377.103870\n",
       "New Zealand  4239.314912          NaN  1445.147895\n",
       "Australia    3377.103870  1445.147895          NaN"
      ]
     },
     "execution_count": 22,
     "metadata": {},
     "output_type": "execute_result"
    }
   ],
   "source": [
    "#q15\n",
    "country_list=[\"Guam\",\"New Zealand\",\"Australia\"]\n",
    "\n",
    "def distance(countries_list):\n",
    "    df=pd.DataFrame(index=countries_list,columns=countries_list)\n",
    "    for x in range (len(countries_list)):\n",
    "        for y in range (len(countries_list)):\n",
    "            if x!= y:\n",
    "                df.iloc[x,y]=dis2(countries_list[x],countries_list[y])\n",
    "    return df.astype(float)\n",
    "\n",
    "distance(country_list) "
   ]
  },
  {
   "cell_type": "code",
   "execution_count": 23,
   "metadata": {},
   "outputs": [
    {
     "data": {
      "text/html": [
       "<div>\n",
       "<style scoped>\n",
       "    .dataframe tbody tr th:only-of-type {\n",
       "        vertical-align: middle;\n",
       "    }\n",
       "\n",
       "    .dataframe tbody tr th {\n",
       "        vertical-align: top;\n",
       "    }\n",
       "\n",
       "    .dataframe thead th {\n",
       "        text-align: right;\n",
       "    }\n",
       "</style>\n",
       "<table border=\"1\" class=\"dataframe\">\n",
       "  <thead>\n",
       "    <tr style=\"text-align: right;\">\n",
       "      <th></th>\n",
       "      <th>Marshall Islands</th>\n",
       "      <th>French Polynesia</th>\n",
       "      <th>New Zealand</th>\n",
       "      <th>Vanuatu</th>\n",
       "      <th>Palau</th>\n",
       "      <th>Papua New Guinea</th>\n",
       "      <th>Guam</th>\n",
       "      <th>Samoa</th>\n",
       "      <th>New Caledonia</th>\n",
       "      <th>Australia</th>\n",
       "      <th>Fiji</th>\n",
       "      <th>Tonga</th>\n",
       "    </tr>\n",
       "  </thead>\n",
       "  <tbody>\n",
       "    <tr>\n",
       "      <th>Marshall Islands</th>\n",
       "      <td>NaN</td>\n",
       "      <td>3159.856137</td>\n",
       "      <td>3348.725378</td>\n",
       "      <td>1727.328621</td>\n",
       "      <td>2516.301728</td>\n",
       "      <td>2019.144119</td>\n",
       "      <td>1861.584428</td>\n",
       "      <td>1849.150692</td>\n",
       "      <td>2054.905160</td>\n",
       "      <td>3263.901948</td>\n",
       "      <td>1806.972599</td>\n",
       "      <td>2151.129410</td>\n",
       "    </tr>\n",
       "    <tr>\n",
       "      <th>French Polynesia</th>\n",
       "      <td>3159.856137</td>\n",
       "      <td>NaN</td>\n",
       "      <td>2668.807328</td>\n",
       "      <td>2765.339382</td>\n",
       "      <td>5447.018761</td>\n",
       "      <td>4265.757856</td>\n",
       "      <td>4961.131713</td>\n",
       "      <td>1496.953816</td>\n",
       "      <td>2864.497308</td>\n",
       "      <td>3920.570216</td>\n",
       "      <td>2102.135722</td>\n",
       "      <td>1686.539411</td>\n",
       "    </tr>\n",
       "    <tr>\n",
       "      <th>New Zealand</th>\n",
       "      <td>3348.725378</td>\n",
       "      <td>2668.807328</td>\n",
       "      <td>NaN</td>\n",
       "      <td>1671.641167</td>\n",
       "      <td>4218.188412</td>\n",
       "      <td>2767.607095</td>\n",
       "      <td>4239.314912</td>\n",
       "      <td>2062.548020</td>\n",
       "      <td>1400.483623</td>\n",
       "      <td>1445.147895</td>\n",
       "      <td>1613.916992</td>\n",
       "      <td>1510.219450</td>\n",
       "    </tr>\n",
       "    <tr>\n",
       "      <th>Vanuatu</th>\n",
       "      <td>1727.328621</td>\n",
       "      <td>2765.339382</td>\n",
       "      <td>1671.641167</td>\n",
       "      <td>NaN</td>\n",
       "      <td>2882.041892</td>\n",
       "      <td>1527.495923</td>\n",
       "      <td>2687.395771</td>\n",
       "      <td>1349.904435</td>\n",
       "      <td>335.602971</td>\n",
       "      <td>1687.810709</td>\n",
       "      <td>663.967196</td>\n",
       "      <td>1098.016273</td>\n",
       "    </tr>\n",
       "    <tr>\n",
       "      <th>Palau</th>\n",
       "      <td>2516.301728</td>\n",
       "      <td>5447.018761</td>\n",
       "      <td>4218.188412</td>\n",
       "      <td>2882.041892</td>\n",
       "      <td>NaN</td>\n",
       "      <td>1453.306058</td>\n",
       "      <td>800.243081</td>\n",
       "      <td>3956.305436</td>\n",
       "      <td>2974.892838</td>\n",
       "      <td>3099.023227</td>\n",
       "      <td>3468.037102</td>\n",
       "      <td>3931.843110</td>\n",
       "    </tr>\n",
       "    <tr>\n",
       "      <th>Papua New Guinea</th>\n",
       "      <td>2019.144119</td>\n",
       "      <td>4265.757856</td>\n",
       "      <td>2767.607095</td>\n",
       "      <td>1527.495923</td>\n",
       "      <td>1453.306058</td>\n",
       "      <td>NaN</td>\n",
       "      <td>1591.171595</td>\n",
       "      <td>2789.123270</td>\n",
       "      <td>1552.708901</td>\n",
       "      <td>1786.749660</td>\n",
       "      <td>2174.712829</td>\n",
       "      <td>2623.742354</td>\n",
       "    </tr>\n",
       "    <tr>\n",
       "      <th>Guam</th>\n",
       "      <td>1861.584428</td>\n",
       "      <td>4961.131713</td>\n",
       "      <td>4239.314912</td>\n",
       "      <td>2687.395771</td>\n",
       "      <td>800.243081</td>\n",
       "      <td>1591.171595</td>\n",
       "      <td>NaN</td>\n",
       "      <td>3520.883355</td>\n",
       "      <td>2871.868601</td>\n",
       "      <td>3377.103870</td>\n",
       "      <td>3165.570014</td>\n",
       "      <td>3617.512808</td>\n",
       "    </tr>\n",
       "    <tr>\n",
       "      <th>Samoa</th>\n",
       "      <td>1849.150692</td>\n",
       "      <td>1496.953816</td>\n",
       "      <td>2062.548020</td>\n",
       "      <td>1349.904435</td>\n",
       "      <td>3956.305436</td>\n",
       "      <td>2789.123270</td>\n",
       "      <td>3520.883355</td>\n",
       "      <td>NaN</td>\n",
       "      <td>1542.152644</td>\n",
       "      <td>2840.091065</td>\n",
       "      <td>716.316054</td>\n",
       "      <td>553.393188</td>\n",
       "    </tr>\n",
       "    <tr>\n",
       "      <th>New Caledonia</th>\n",
       "      <td>2054.905160</td>\n",
       "      <td>2864.497308</td>\n",
       "      <td>1400.483623</td>\n",
       "      <td>335.602971</td>\n",
       "      <td>2974.892838</td>\n",
       "      <td>1552.708901</td>\n",
       "      <td>2871.868601</td>\n",
       "      <td>1542.152644</td>\n",
       "      <td>NaN</td>\n",
       "      <td>1375.924712</td>\n",
       "      <td>825.890876</td>\n",
       "      <td>1179.069567</td>\n",
       "    </tr>\n",
       "    <tr>\n",
       "      <th>Australia</th>\n",
       "      <td>3263.901948</td>\n",
       "      <td>3920.570216</td>\n",
       "      <td>1445.147895</td>\n",
       "      <td>1687.810709</td>\n",
       "      <td>3099.023227</td>\n",
       "      <td>1786.749660</td>\n",
       "      <td>3377.103870</td>\n",
       "      <td>2840.091065</td>\n",
       "      <td>1375.924712</td>\n",
       "      <td>NaN</td>\n",
       "      <td>2145.768971</td>\n",
       "      <td>2362.766922</td>\n",
       "    </tr>\n",
       "    <tr>\n",
       "      <th>Fiji</th>\n",
       "      <td>1806.972599</td>\n",
       "      <td>2102.135722</td>\n",
       "      <td>1613.916992</td>\n",
       "      <td>663.967196</td>\n",
       "      <td>3468.037102</td>\n",
       "      <td>2174.712829</td>\n",
       "      <td>3165.570014</td>\n",
       "      <td>716.316054</td>\n",
       "      <td>825.890876</td>\n",
       "      <td>2145.768971</td>\n",
       "      <td>NaN</td>\n",
       "      <td>463.843872</td>\n",
       "    </tr>\n",
       "    <tr>\n",
       "      <th>Tonga</th>\n",
       "      <td>2151.129410</td>\n",
       "      <td>1686.539411</td>\n",
       "      <td>1510.219450</td>\n",
       "      <td>1098.016273</td>\n",
       "      <td>3931.843110</td>\n",
       "      <td>2623.742354</td>\n",
       "      <td>3617.512808</td>\n",
       "      <td>553.393188</td>\n",
       "      <td>1179.069567</td>\n",
       "      <td>2362.766922</td>\n",
       "      <td>463.843872</td>\n",
       "      <td>NaN</td>\n",
       "    </tr>\n",
       "  </tbody>\n",
       "</table>\n",
       "</div>"
      ],
      "text/plain": [
       "                  Marshall Islands  French Polynesia  New Zealand  \\\n",
       "Marshall Islands               NaN       3159.856137  3348.725378   \n",
       "French Polynesia       3159.856137               NaN  2668.807328   \n",
       "New Zealand            3348.725378       2668.807328          NaN   \n",
       "Vanuatu                1727.328621       2765.339382  1671.641167   \n",
       "Palau                  2516.301728       5447.018761  4218.188412   \n",
       "Papua New Guinea       2019.144119       4265.757856  2767.607095   \n",
       "Guam                   1861.584428       4961.131713  4239.314912   \n",
       "Samoa                  1849.150692       1496.953816  2062.548020   \n",
       "New Caledonia          2054.905160       2864.497308  1400.483623   \n",
       "Australia              3263.901948       3920.570216  1445.147895   \n",
       "Fiji                   1806.972599       2102.135722  1613.916992   \n",
       "Tonga                  2151.129410       1686.539411  1510.219450   \n",
       "\n",
       "                      Vanuatu        Palau  Papua New Guinea         Guam  \\\n",
       "Marshall Islands  1727.328621  2516.301728       2019.144119  1861.584428   \n",
       "French Polynesia  2765.339382  5447.018761       4265.757856  4961.131713   \n",
       "New Zealand       1671.641167  4218.188412       2767.607095  4239.314912   \n",
       "Vanuatu                   NaN  2882.041892       1527.495923  2687.395771   \n",
       "Palau             2882.041892          NaN       1453.306058   800.243081   \n",
       "Papua New Guinea  1527.495923  1453.306058               NaN  1591.171595   \n",
       "Guam              2687.395771   800.243081       1591.171595          NaN   \n",
       "Samoa             1349.904435  3956.305436       2789.123270  3520.883355   \n",
       "New Caledonia      335.602971  2974.892838       1552.708901  2871.868601   \n",
       "Australia         1687.810709  3099.023227       1786.749660  3377.103870   \n",
       "Fiji               663.967196  3468.037102       2174.712829  3165.570014   \n",
       "Tonga             1098.016273  3931.843110       2623.742354  3617.512808   \n",
       "\n",
       "                        Samoa  New Caledonia    Australia         Fiji  \\\n",
       "Marshall Islands  1849.150692    2054.905160  3263.901948  1806.972599   \n",
       "French Polynesia  1496.953816    2864.497308  3920.570216  2102.135722   \n",
       "New Zealand       2062.548020    1400.483623  1445.147895  1613.916992   \n",
       "Vanuatu           1349.904435     335.602971  1687.810709   663.967196   \n",
       "Palau             3956.305436    2974.892838  3099.023227  3468.037102   \n",
       "Papua New Guinea  2789.123270    1552.708901  1786.749660  2174.712829   \n",
       "Guam              3520.883355    2871.868601  3377.103870  3165.570014   \n",
       "Samoa                     NaN    1542.152644  2840.091065   716.316054   \n",
       "New Caledonia     1542.152644            NaN  1375.924712   825.890876   \n",
       "Australia         2840.091065    1375.924712          NaN  2145.768971   \n",
       "Fiji               716.316054     825.890876  2145.768971          NaN   \n",
       "Tonga              553.393188    1179.069567  2362.766922   463.843872   \n",
       "\n",
       "                        Tonga  \n",
       "Marshall Islands  2151.129410  \n",
       "French Polynesia  1686.539411  \n",
       "New Zealand       1510.219450  \n",
       "Vanuatu           1098.016273  \n",
       "Palau             3931.843110  \n",
       "Papua New Guinea  2623.742354  \n",
       "Guam              3617.512808  \n",
       "Samoa              553.393188  \n",
       "New Caledonia     1179.069567  \n",
       "Australia         2362.766922  \n",
       "Fiji               463.843872  \n",
       "Tonga                     NaN  "
      ]
     },
     "execution_count": 23,
     "metadata": {},
     "output_type": "execute_result"
    }
   ],
   "source": [
    "#q16\n",
    "cl=list(countries[countries[\"continent\"]==\"Australia\"].country)\n",
    "aus=distance(cl)\n",
    "aus"
   ]
  },
  {
   "cell_type": "code",
   "execution_count": 24,
   "metadata": {},
   "outputs": [
    {
     "data": {
      "text/plain": [
       "'Vanuatu'"
      ]
     },
     "execution_count": 24,
     "metadata": {},
     "output_type": "execute_result"
    }
   ],
   "source": [
    "#q17\n",
    "s=aus.mean().sort_values(ascending=True)\n",
    "s.index[0]"
   ]
  },
  {
   "cell_type": "code",
   "execution_count": 25,
   "metadata": {},
   "outputs": [
    {
     "data": {
      "text/plain": [
       "'French Polynesia'"
      ]
     },
     "execution_count": 25,
     "metadata": {},
     "output_type": "execute_result"
    }
   ],
   "source": [
    "#q18\n",
    "s=aus.mean().sort_values(ascending=False)\n",
    "s.index[0]"
   ]
  },
  {
   "cell_type": "code",
   "execution_count": 26,
   "metadata": {},
   "outputs": [
    {
     "data": {
      "text/html": [
       "<div>\n",
       "<style scoped>\n",
       "    .dataframe tbody tr th:only-of-type {\n",
       "        vertical-align: middle;\n",
       "    }\n",
       "\n",
       "    .dataframe tbody tr th {\n",
       "        vertical-align: top;\n",
       "    }\n",
       "\n",
       "    .dataframe thead th {\n",
       "        text-align: right;\n",
       "    }\n",
       "</style>\n",
       "<table border=\"1\" class=\"dataframe\">\n",
       "  <thead>\n",
       "    <tr style=\"text-align: right;\">\n",
       "      <th></th>\n",
       "      <th>nearest</th>\n",
       "      <th>distance</th>\n",
       "    </tr>\n",
       "  </thead>\n",
       "  <tbody>\n",
       "    <tr>\n",
       "      <th>Marshall Islands</th>\n",
       "      <td>Vanuatu</td>\n",
       "      <td>1727.328621</td>\n",
       "    </tr>\n",
       "    <tr>\n",
       "      <th>French Polynesia</th>\n",
       "      <td>Samoa</td>\n",
       "      <td>1496.953816</td>\n",
       "    </tr>\n",
       "    <tr>\n",
       "      <th>New Zealand</th>\n",
       "      <td>New Caledonia</td>\n",
       "      <td>1400.483623</td>\n",
       "    </tr>\n",
       "    <tr>\n",
       "      <th>Vanuatu</th>\n",
       "      <td>New Caledonia</td>\n",
       "      <td>335.602971</td>\n",
       "    </tr>\n",
       "    <tr>\n",
       "      <th>Palau</th>\n",
       "      <td>Guam</td>\n",
       "      <td>800.243081</td>\n",
       "    </tr>\n",
       "    <tr>\n",
       "      <th>Papua New Guinea</th>\n",
       "      <td>Palau</td>\n",
       "      <td>1453.306058</td>\n",
       "    </tr>\n",
       "    <tr>\n",
       "      <th>Guam</th>\n",
       "      <td>Palau</td>\n",
       "      <td>800.243081</td>\n",
       "    </tr>\n",
       "    <tr>\n",
       "      <th>Samoa</th>\n",
       "      <td>Tonga</td>\n",
       "      <td>553.393188</td>\n",
       "    </tr>\n",
       "    <tr>\n",
       "      <th>New Caledonia</th>\n",
       "      <td>Vanuatu</td>\n",
       "      <td>335.602971</td>\n",
       "    </tr>\n",
       "    <tr>\n",
       "      <th>Australia</th>\n",
       "      <td>New Caledonia</td>\n",
       "      <td>1375.924712</td>\n",
       "    </tr>\n",
       "    <tr>\n",
       "      <th>Fiji</th>\n",
       "      <td>Tonga</td>\n",
       "      <td>463.843872</td>\n",
       "    </tr>\n",
       "    <tr>\n",
       "      <th>Tonga</th>\n",
       "      <td>Fiji</td>\n",
       "      <td>463.843872</td>\n",
       "    </tr>\n",
       "  </tbody>\n",
       "</table>\n",
       "</div>"
      ],
      "text/plain": [
       "                        nearest     distance\n",
       "Marshall Islands        Vanuatu  1727.328621\n",
       "French Polynesia          Samoa  1496.953816\n",
       "New Zealand       New Caledonia  1400.483623\n",
       "Vanuatu           New Caledonia   335.602971\n",
       "Palau                      Guam   800.243081\n",
       "Papua New Guinea          Palau  1453.306058\n",
       "Guam                      Palau   800.243081\n",
       "Samoa                     Tonga   553.393188\n",
       "New Caledonia           Vanuatu   335.602971\n",
       "Australia         New Caledonia  1375.924712\n",
       "Fiji                      Tonga   463.843872\n",
       "Tonga                      Fiji   463.843872"
      ]
     },
     "execution_count": 26,
     "metadata": {},
     "output_type": "execute_result"
    }
   ],
   "source": [
    "#q19\n",
    "pd.DataFrame({\"nearest\":aus.idxmin(), \"distance\":aus.min()})"
   ]
  },
  {
   "cell_type": "code",
   "execution_count": 27,
   "metadata": {},
   "outputs": [
    {
     "data": {
      "text/html": [
       "<div>\n",
       "<style scoped>\n",
       "    .dataframe tbody tr th:only-of-type {\n",
       "        vertical-align: middle;\n",
       "    }\n",
       "\n",
       "    .dataframe tbody tr th {\n",
       "        vertical-align: top;\n",
       "    }\n",
       "\n",
       "    .dataframe thead th {\n",
       "        text-align: right;\n",
       "    }\n",
       "</style>\n",
       "<table border=\"1\" class=\"dataframe\">\n",
       "  <thead>\n",
       "    <tr style=\"text-align: right;\">\n",
       "      <th></th>\n",
       "      <th>furthest</th>\n",
       "      <th>distance</th>\n",
       "    </tr>\n",
       "  </thead>\n",
       "  <tbody>\n",
       "    <tr>\n",
       "      <th>Marshall Islands</th>\n",
       "      <td>New Zealand</td>\n",
       "      <td>3348.725378</td>\n",
       "    </tr>\n",
       "    <tr>\n",
       "      <th>French Polynesia</th>\n",
       "      <td>Palau</td>\n",
       "      <td>5447.018761</td>\n",
       "    </tr>\n",
       "    <tr>\n",
       "      <th>New Zealand</th>\n",
       "      <td>Guam</td>\n",
       "      <td>4239.314912</td>\n",
       "    </tr>\n",
       "    <tr>\n",
       "      <th>Vanuatu</th>\n",
       "      <td>Palau</td>\n",
       "      <td>2882.041892</td>\n",
       "    </tr>\n",
       "    <tr>\n",
       "      <th>Palau</th>\n",
       "      <td>French Polynesia</td>\n",
       "      <td>5447.018761</td>\n",
       "    </tr>\n",
       "    <tr>\n",
       "      <th>Papua New Guinea</th>\n",
       "      <td>French Polynesia</td>\n",
       "      <td>4265.757856</td>\n",
       "    </tr>\n",
       "    <tr>\n",
       "      <th>Guam</th>\n",
       "      <td>French Polynesia</td>\n",
       "      <td>4961.131713</td>\n",
       "    </tr>\n",
       "    <tr>\n",
       "      <th>Samoa</th>\n",
       "      <td>Palau</td>\n",
       "      <td>3956.305436</td>\n",
       "    </tr>\n",
       "    <tr>\n",
       "      <th>New Caledonia</th>\n",
       "      <td>Palau</td>\n",
       "      <td>2974.892838</td>\n",
       "    </tr>\n",
       "    <tr>\n",
       "      <th>Australia</th>\n",
       "      <td>French Polynesia</td>\n",
       "      <td>3920.570216</td>\n",
       "    </tr>\n",
       "    <tr>\n",
       "      <th>Fiji</th>\n",
       "      <td>Palau</td>\n",
       "      <td>3468.037102</td>\n",
       "    </tr>\n",
       "    <tr>\n",
       "      <th>Tonga</th>\n",
       "      <td>Palau</td>\n",
       "      <td>3931.843110</td>\n",
       "    </tr>\n",
       "  </tbody>\n",
       "</table>\n",
       "</div>"
      ],
      "text/plain": [
       "                          furthest     distance\n",
       "Marshall Islands       New Zealand  3348.725378\n",
       "French Polynesia             Palau  5447.018761\n",
       "New Zealand                   Guam  4239.314912\n",
       "Vanuatu                      Palau  2882.041892\n",
       "Palau             French Polynesia  5447.018761\n",
       "Papua New Guinea  French Polynesia  4265.757856\n",
       "Guam              French Polynesia  4961.131713\n",
       "Samoa                        Palau  3956.305436\n",
       "New Caledonia                Palau  2974.892838\n",
       "Australia         French Polynesia  3920.570216\n",
       "Fiji                         Palau  3468.037102\n",
       "Tonga                        Palau  3931.843110"
      ]
     },
     "execution_count": 27,
     "metadata": {},
     "output_type": "execute_result"
    }
   ],
   "source": [
    "#q20\n",
    "pd.DataFrame({\"furthest\":aus.idxmax(), \"distance\":aus.max()})"
   ]
  },
  {
   "cell_type": "code",
   "execution_count": 28,
   "metadata": {},
   "outputs": [],
   "source": [
    "\n",
    "conn = sqlite3.connect('countries.db')\n",
    "countries.to_sql(\"countries\", conn, if_exists=\"replace\", index=False)\n",
    "capitals.to_sql(\"capitals\", conn, if_exists=\"replace\", index=False)\n",
    "\n",
    "# remember to do conn.close() at the end of your notebook"
   ]
  },
  {
   "cell_type": "code",
   "execution_count": 29,
   "metadata": {},
   "outputs": [
    {
     "data": {
      "text/html": [
       "<div>\n",
       "<style scoped>\n",
       "    .dataframe tbody tr th:only-of-type {\n",
       "        vertical-align: middle;\n",
       "    }\n",
       "\n",
       "    .dataframe tbody tr th {\n",
       "        vertical-align: top;\n",
       "    }\n",
       "\n",
       "    .dataframe thead th {\n",
       "        text-align: right;\n",
       "    }\n",
       "</style>\n",
       "<table border=\"1\" class=\"dataframe\">\n",
       "  <thead>\n",
       "    <tr style=\"text-align: right;\">\n",
       "      <th></th>\n",
       "      <th>type</th>\n",
       "      <th>name</th>\n",
       "      <th>tbl_name</th>\n",
       "      <th>rootpage</th>\n",
       "      <th>sql</th>\n",
       "    </tr>\n",
       "  </thead>\n",
       "  <tbody>\n",
       "    <tr>\n",
       "      <th>0</th>\n",
       "      <td>table</td>\n",
       "      <td>countries</td>\n",
       "      <td>countries</td>\n",
       "      <td>2</td>\n",
       "      <td>CREATE TABLE \"countries\" (\\n\"area\" INTEGER,\\n ...</td>\n",
       "    </tr>\n",
       "    <tr>\n",
       "      <th>1</th>\n",
       "      <td>table</td>\n",
       "      <td>capitals</td>\n",
       "      <td>capitals</td>\n",
       "      <td>8</td>\n",
       "      <td>CREATE TABLE \"capitals\" (\\n\"country\" TEXT,\\n  ...</td>\n",
       "    </tr>\n",
       "  </tbody>\n",
       "</table>\n",
       "</div>"
      ],
      "text/plain": [
       "    type       name   tbl_name  rootpage  \\\n",
       "0  table  countries  countries         2   \n",
       "1  table   capitals   capitals         8   \n",
       "\n",
       "                                                 sql  \n",
       "0  CREATE TABLE \"countries\" (\\n\"area\" INTEGER,\\n ...  \n",
       "1  CREATE TABLE \"capitals\" (\\n\"country\" TEXT,\\n  ...  "
      ]
     },
     "execution_count": 29,
     "metadata": {},
     "output_type": "execute_result"
    }
   ],
   "source": [
    "pd.read_sql(\"select * from sqlite_master\", conn)"
   ]
  },
  {
   "cell_type": "code",
   "execution_count": 30,
   "metadata": {},
   "outputs": [
    {
     "data": {
      "text/html": [
       "<div>\n",
       "<style scoped>\n",
       "    .dataframe tbody tr th:only-of-type {\n",
       "        vertical-align: middle;\n",
       "    }\n",
       "\n",
       "    .dataframe tbody tr th {\n",
       "        vertical-align: top;\n",
       "    }\n",
       "\n",
       "    .dataframe thead th {\n",
       "        text-align: right;\n",
       "    }\n",
       "</style>\n",
       "<table border=\"1\" class=\"dataframe\">\n",
       "  <thead>\n",
       "    <tr style=\"text-align: right;\">\n",
       "      <th></th>\n",
       "      <th>country</th>\n",
       "      <th>capital</th>\n",
       "      <th>latitude</th>\n",
       "      <th>longitude</th>\n",
       "    </tr>\n",
       "  </thead>\n",
       "  <tbody>\n",
       "    <tr>\n",
       "      <th>0</th>\n",
       "      <td>Afghanistan</td>\n",
       "      <td>Kabul</td>\n",
       "      <td>34.516667</td>\n",
       "      <td>69.183333</td>\n",
       "    </tr>\n",
       "    <tr>\n",
       "      <th>1</th>\n",
       "      <td>Albania</td>\n",
       "      <td>Tirana</td>\n",
       "      <td>41.316667</td>\n",
       "      <td>19.816667</td>\n",
       "    </tr>\n",
       "    <tr>\n",
       "      <th>2</th>\n",
       "      <td>Algeria</td>\n",
       "      <td>Algiers</td>\n",
       "      <td>36.750000</td>\n",
       "      <td>3.050000</td>\n",
       "    </tr>\n",
       "  </tbody>\n",
       "</table>\n",
       "</div>"
      ],
      "text/plain": [
       "       country  capital   latitude  longitude\n",
       "0  Afghanistan    Kabul  34.516667  69.183333\n",
       "1      Albania   Tirana  41.316667  19.816667\n",
       "2      Algeria  Algiers  36.750000   3.050000"
      ]
     },
     "execution_count": 30,
     "metadata": {},
     "output_type": "execute_result"
    }
   ],
   "source": [
    "\n",
    "pd.read_sql(\"select * from capitals\", conn).head(3)"
   ]
  },
  {
   "cell_type": "code",
   "execution_count": 31,
   "metadata": {},
   "outputs": [
    {
     "data": {
      "text/html": [
       "<div>\n",
       "<style scoped>\n",
       "    .dataframe tbody tr th:only-of-type {\n",
       "        vertical-align: middle;\n",
       "    }\n",
       "\n",
       "    .dataframe tbody tr th {\n",
       "        vertical-align: top;\n",
       "    }\n",
       "\n",
       "    .dataframe thead th {\n",
       "        text-align: right;\n",
       "    }\n",
       "</style>\n",
       "<table border=\"1\" class=\"dataframe\">\n",
       "  <thead>\n",
       "    <tr style=\"text-align: right;\">\n",
       "      <th></th>\n",
       "      <th>continent</th>\n",
       "      <th>number of countries</th>\n",
       "    </tr>\n",
       "  </thead>\n",
       "  <tbody>\n",
       "    <tr>\n",
       "      <th>0</th>\n",
       "      <td>Australia</td>\n",
       "      <td>12</td>\n",
       "    </tr>\n",
       "    <tr>\n",
       "      <th>1</th>\n",
       "      <td>South America</td>\n",
       "      <td>12</td>\n",
       "    </tr>\n",
       "    <tr>\n",
       "      <th>2</th>\n",
       "      <td>North America</td>\n",
       "      <td>24</td>\n",
       "    </tr>\n",
       "    <tr>\n",
       "      <th>3</th>\n",
       "      <td>Asia</td>\n",
       "      <td>38</td>\n",
       "    </tr>\n",
       "    <tr>\n",
       "      <th>4</th>\n",
       "      <td>Europe</td>\n",
       "      <td>41</td>\n",
       "    </tr>\n",
       "    <tr>\n",
       "      <th>5</th>\n",
       "      <td>Africa</td>\n",
       "      <td>47</td>\n",
       "    </tr>\n",
       "  </tbody>\n",
       "</table>\n",
       "</div>"
      ],
      "text/plain": [
       "       continent  number of countries\n",
       "0      Australia                   12\n",
       "1  South America                   12\n",
       "2  North America                   24\n",
       "3           Asia                   38\n",
       "4         Europe                   41\n",
       "5         Africa                   47"
      ]
     },
     "execution_count": 31,
     "metadata": {},
     "output_type": "execute_result"
    }
   ],
   "source": [
    "#q21\n",
    "\n",
    "def qry(sql, cap=10):\n",
    "    return pd.read_sql(sql, conn).head(cap)\n",
    "\n",
    "qry = \"\"\"\n",
    "SELECT continent, COUNT(country) AS `number of countries`\n",
    "FROM countries\n",
    "GROUP BY continent\n",
    "ORDER BY `number of countries` ASC\n",
    "\"\"\"\n",
    "q21=pd.read_sql(qry, conn)\n",
    "q21"
   ]
  },
  {
   "cell_type": "code",
   "execution_count": 32,
   "metadata": {},
   "outputs": [],
   "source": [
    "%matplotlib inline"
   ]
  },
  {
   "cell_type": "code",
   "execution_count": 33,
   "metadata": {},
   "outputs": [
    {
     "data": {
      "text/plain": [
       "Text(0, 0.5, 'number of countries')"
      ]
     },
     "execution_count": 33,
     "metadata": {},
     "output_type": "execute_result"
    },
    {
     "data": {
      "image/png": "[encoded data removed]",
      "text/plain": [
       "<Figure size 432x288 with 1 Axes>"
      ]
     },
     "metadata": {
      "needs_background": "light"
     },
     "output_type": "display_data"
    }
   ],
   "source": [
    "#q22\n",
    "q21a= q21.set_index(\"continent\")\n",
    "con= q21a['number of countries']\n",
    "ax=con.plot.bar(color=\"Black\")\n",
    "ax.set_ylabel(\"number of countries\")"
   ]
  },
  {
   "cell_type": "code",
   "execution_count": 34,
   "metadata": {},
   "outputs": [
    {
     "data": {
      "text/html": [
       "<div>\n",
       "<style scoped>\n",
       "    .dataframe tbody tr th:only-of-type {\n",
       "        vertical-align: middle;\n",
       "    }\n",
       "\n",
       "    .dataframe tbody tr th {\n",
       "        vertical-align: top;\n",
       "    }\n",
       "\n",
       "    .dataframe thead th {\n",
       "        text-align: right;\n",
       "    }\n",
       "</style>\n",
       "<table border=\"1\" class=\"dataframe\">\n",
       "  <thead>\n",
       "    <tr style=\"text-align: right;\">\n",
       "      <th></th>\n",
       "      <th>continent</th>\n",
       "      <th>total population (million)</th>\n",
       "    </tr>\n",
       "  </thead>\n",
       "  <tbody>\n",
       "    <tr>\n",
       "      <th>0</th>\n",
       "      <td>Asia</td>\n",
       "      <td>3739</td>\n",
       "    </tr>\n",
       "    <tr>\n",
       "      <th>1</th>\n",
       "      <td>Africa</td>\n",
       "      <td>807</td>\n",
       "    </tr>\n",
       "    <tr>\n",
       "      <th>2</th>\n",
       "      <td>Europe</td>\n",
       "      <td>792</td>\n",
       "    </tr>\n",
       "    <tr>\n",
       "      <th>3</th>\n",
       "      <td>North America</td>\n",
       "      <td>515</td>\n",
       "    </tr>\n",
       "    <tr>\n",
       "      <th>4</th>\n",
       "      <td>South America</td>\n",
       "      <td>375</td>\n",
       "    </tr>\n",
       "    <tr>\n",
       "      <th>5</th>\n",
       "      <td>Australia</td>\n",
       "      <td>32</td>\n",
       "    </tr>\n",
       "  </tbody>\n",
       "</table>\n",
       "</div>"
      ],
      "text/plain": [
       "       continent  total population (million)\n",
       "0           Asia                        3739\n",
       "1         Africa                         807\n",
       "2         Europe                         792\n",
       "3  North America                         515\n",
       "4  South America                         375\n",
       "5      Australia                          32"
      ]
     },
     "execution_count": 34,
     "metadata": {},
     "output_type": "execute_result"
    }
   ],
   "source": [
    "#q23\n",
    "\n",
    "qry = \"\"\"\n",
    "SELECT continent, sum(population)/1000000 AS `total population (million)`\n",
    "FROM countries\n",
    "GROUP BY continent\n",
    "ORDER BY `total population (million)` DESC\n",
    "\"\"\"\n",
    "q23=pd.read_sql(qry, conn)\n",
    "q23\n"
   ]
  },
  {
   "cell_type": "code",
   "execution_count": 35,
   "metadata": {},
   "outputs": [
    {
     "data": {
      "text/plain": [
       "Text(0, 0.5, 'total population (million)')"
      ]
     },
     "execution_count": 35,
     "metadata": {},
     "output_type": "execute_result"
    },
    {
     "data": {
      "image/png": "[encoded data removed]",
      "text/plain": [
       "<Figure size 432x288 with 1 Axes>"
      ]
     },
     "metadata": {
      "needs_background": "light"
     },
     "output_type": "display_data"
    }
   ],
   "source": [
    "#q24\n",
    "q23a= q23.set_index(\"continent\")\n",
    "q24b= q23a['total population (million)']\n",
    "ax24=q24b.plot.bar(color=\"Black\")\n",
    "ax24.set_ylabel(\"total population (million)\")"
   ]
  },
  {
   "cell_type": "code",
   "execution_count": 36,
   "metadata": {},
   "outputs": [
    {
     "data": {
      "text/html": [
       "<div>\n",
       "<style scoped>\n",
       "    .dataframe tbody tr th:only-of-type {\n",
       "        vertical-align: middle;\n",
       "    }\n",
       "\n",
       "    .dataframe tbody tr th {\n",
       "        vertical-align: top;\n",
       "    }\n",
       "\n",
       "    .dataframe thead th {\n",
       "        text-align: right;\n",
       "    }\n",
       "</style>\n",
       "<table border=\"1\" class=\"dataframe\">\n",
       "  <thead>\n",
       "    <tr style=\"text-align: right;\">\n",
       "      <th></th>\n",
       "      <th>country</th>\n",
       "      <th>population</th>\n",
       "    </tr>\n",
       "  </thead>\n",
       "  <tbody>\n",
       "    <tr>\n",
       "      <th>0</th>\n",
       "      <td>Brazil</td>\n",
       "      <td>188078227</td>\n",
       "    </tr>\n",
       "    <tr>\n",
       "      <th>1</th>\n",
       "      <td>Colombia</td>\n",
       "      <td>43593035</td>\n",
       "    </tr>\n",
       "    <tr>\n",
       "      <th>2</th>\n",
       "      <td>Argentina</td>\n",
       "      <td>39921833</td>\n",
       "    </tr>\n",
       "    <tr>\n",
       "      <th>3</th>\n",
       "      <td>Peru</td>\n",
       "      <td>28302603</td>\n",
       "    </tr>\n",
       "    <tr>\n",
       "      <th>4</th>\n",
       "      <td>Venezuela</td>\n",
       "      <td>25730435</td>\n",
       "    </tr>\n",
       "    <tr>\n",
       "      <th>5</th>\n",
       "      <td>Chile</td>\n",
       "      <td>16134219</td>\n",
       "    </tr>\n",
       "    <tr>\n",
       "      <th>6</th>\n",
       "      <td>Ecuador</td>\n",
       "      <td>13547510</td>\n",
       "    </tr>\n",
       "    <tr>\n",
       "      <th>7</th>\n",
       "      <td>Bolivia</td>\n",
       "      <td>8989046</td>\n",
       "    </tr>\n",
       "    <tr>\n",
       "      <th>8</th>\n",
       "      <td>Paraguay</td>\n",
       "      <td>6506464</td>\n",
       "    </tr>\n",
       "    <tr>\n",
       "      <th>9</th>\n",
       "      <td>Uruguay</td>\n",
       "      <td>3431932</td>\n",
       "    </tr>\n",
       "    <tr>\n",
       "      <th>10</th>\n",
       "      <td>Guyana</td>\n",
       "      <td>767245</td>\n",
       "    </tr>\n",
       "    <tr>\n",
       "      <th>11</th>\n",
       "      <td>Suriname</td>\n",
       "      <td>439117</td>\n",
       "    </tr>\n",
       "  </tbody>\n",
       "</table>\n",
       "</div>"
      ],
      "text/plain": [
       "      country  population\n",
       "0      Brazil   188078227\n",
       "1    Colombia    43593035\n",
       "2   Argentina    39921833\n",
       "3        Peru    28302603\n",
       "4   Venezuela    25730435\n",
       "5       Chile    16134219\n",
       "6     Ecuador    13547510\n",
       "7     Bolivia     8989046\n",
       "8    Paraguay     6506464\n",
       "9     Uruguay     3431932\n",
       "10     Guyana      767245\n",
       "11   Suriname      439117"
      ]
     },
     "execution_count": 36,
     "metadata": {},
     "output_type": "execute_result"
    }
   ],
   "source": [
    "#q25\n",
    "\n",
    "\n",
    "qry = \"\"\"\n",
    "SELECT country, population\n",
    "FROM countries\n",
    "WHERE continent = \"South America\"\n",
    "ORDER BY population DESC\n",
    "\"\"\"\n",
    "q25=pd.read_sql(qry, conn)\n",
    "q25"
   ]
  },
  {
   "cell_type": "code",
   "execution_count": 37,
   "metadata": {},
   "outputs": [
    {
     "data": {
      "text/html": [
       "<div>\n",
       "<style scoped>\n",
       "    .dataframe tbody tr th:only-of-type {\n",
       "        vertical-align: middle;\n",
       "    }\n",
       "\n",
       "    .dataframe tbody tr th {\n",
       "        vertical-align: top;\n",
       "    }\n",
       "\n",
       "    .dataframe thead th {\n",
       "        text-align: right;\n",
       "    }\n",
       "</style>\n",
       "<table border=\"1\" class=\"dataframe\">\n",
       "  <thead>\n",
       "    <tr style=\"text-align: right;\">\n",
       "      <th></th>\n",
       "      <th>country</th>\n",
       "      <th>real GDP (billion)</th>\n",
       "    </tr>\n",
       "  </thead>\n",
       "  <tbody>\n",
       "    <tr>\n",
       "      <th>0</th>\n",
       "      <td>United States</td>\n",
       "      <td>11281.191327</td>\n",
       "    </tr>\n",
       "    <tr>\n",
       "      <th>1</th>\n",
       "      <td>China</td>\n",
       "      <td>6569.868565</td>\n",
       "    </tr>\n",
       "    <tr>\n",
       "      <th>2</th>\n",
       "      <td>Japan</td>\n",
       "      <td>3594.473830</td>\n",
       "    </tr>\n",
       "    <tr>\n",
       "      <th>3</th>\n",
       "      <td>India</td>\n",
       "      <td>3176.520785</td>\n",
       "    </tr>\n",
       "    <tr>\n",
       "      <th>4</th>\n",
       "      <td>Germany</td>\n",
       "      <td>2274.855452</td>\n",
       "    </tr>\n",
       "    <tr>\n",
       "      <th>5</th>\n",
       "      <td>France</td>\n",
       "      <td>1680.181354</td>\n",
       "    </tr>\n",
       "    <tr>\n",
       "      <th>6</th>\n",
       "      <td>United Kingdom</td>\n",
       "      <td>1678.873538</td>\n",
       "    </tr>\n",
       "    <tr>\n",
       "      <th>7</th>\n",
       "      <td>Italy</td>\n",
       "      <td>1552.164690</td>\n",
       "    </tr>\n",
       "    <tr>\n",
       "      <th>8</th>\n",
       "      <td>Brazil</td>\n",
       "      <td>1429.394525</td>\n",
       "    </tr>\n",
       "    <tr>\n",
       "      <th>9</th>\n",
       "      <td>Russia</td>\n",
       "      <td>1271.752506</td>\n",
       "    </tr>\n",
       "  </tbody>\n",
       "</table>\n",
       "</div>"
      ],
      "text/plain": [
       "          country  real GDP (billion)\n",
       "0   United States        11281.191327\n",
       "1           China         6569.868565\n",
       "2           Japan         3594.473830\n",
       "3           India         3176.520785\n",
       "4         Germany         2274.855452\n",
       "5          France         1680.181354\n",
       "6  United Kingdom         1678.873538\n",
       "7           Italy         1552.164690\n",
       "8          Brazil         1429.394525\n",
       "9          Russia         1271.752506"
      ]
     },
     "execution_count": 37,
     "metadata": {},
     "output_type": "execute_result"
    }
   ],
   "source": [
    "#q26\n",
    "\n",
    "#q26_big=countries.astype({\"gdp-per-capita\":\"float\", \n",
    "#                          \"population\":\"float\"})\n",
    "\n",
    "qry = \"\"\"\n",
    "SELECT country, (population*`gdp-per-capita`)/1000000000.0 AS \"real GDP (billion)\"\n",
    "FROM countries\n",
    "ORDER BY \"real GDP (billion)\" DESC\n",
    "LIMIT 10\n",
    "\"\"\"\n",
    "q26=pd.read_sql(qry, conn)\n",
    "q26"
   ]
  },
  {
   "cell_type": "code",
   "execution_count": 38,
   "metadata": {},
   "outputs": [
    {
     "data": {
      "text/plain": [
       "<matplotlib.axes._subplots.AxesSubplot at 0x11e43ed0>"
      ]
     },
     "execution_count": 38,
     "metadata": {},
     "output_type": "execute_result"
    },
    {
     "data": {
      "image/png": "[encoded data removed]",
      "text/plain": [
       "<Figure size 432x288 with 1 Axes>"
      ]
     },
     "metadata": {
      "needs_background": "light"
     },
     "output_type": "display_data"
    }
   ],
   "source": [
    "#q27\n",
    "qry = \"\"\"\n",
    "SELECT country, (population*`gdp-per-capita`)/1000000000.0 AS \"real GDP (billion)\"\n",
    "FROM countries\n",
    "ORDER BY \"real GDP (billion)\" DESC\n",
    "\"\"\"\n",
    "df=pd.read_sql(qry, conn).set_index(\"country\")\n",
    "q=df[\"real GDP (billion)\"]\n",
    "other=q[10:].sum()\n",
    "top10=q[:10]\n",
    "top10[\"other\"] = other\n",
    "top10.plot.bar()"
   ]
  },
  {
   "cell_type": "code",
   "execution_count": 39,
   "metadata": {},
   "outputs": [
    {
     "data": {
      "text/html": [
       "<div>\n",
       "<style scoped>\n",
       "    .dataframe tbody tr th:only-of-type {\n",
       "        vertical-align: middle;\n",
       "    }\n",
       "\n",
       "    .dataframe tbody tr th {\n",
       "        vertical-align: top;\n",
       "    }\n",
       "\n",
       "    .dataframe thead th {\n",
       "        text-align: right;\n",
       "    }\n",
       "</style>\n",
       "<table border=\"1\" class=\"dataframe\">\n",
       "  <thead>\n",
       "    <tr style=\"text-align: right;\">\n",
       "      <th></th>\n",
       "      <th>country</th>\n",
       "      <th>birth-rate</th>\n",
       "      <th>death-rate</th>\n",
       "    </tr>\n",
       "  </thead>\n",
       "  <tbody>\n",
       "    <tr>\n",
       "      <th>0</th>\n",
       "      <td>Uganda</td>\n",
       "      <td>47.35</td>\n",
       "      <td>12.24</td>\n",
       "    </tr>\n",
       "    <tr>\n",
       "      <th>1</th>\n",
       "      <td>Yemen</td>\n",
       "      <td>42.89</td>\n",
       "      <td>8.30</td>\n",
       "    </tr>\n",
       "    <tr>\n",
       "      <th>2</th>\n",
       "      <td>Mali</td>\n",
       "      <td>49.82</td>\n",
       "      <td>16.89</td>\n",
       "    </tr>\n",
       "    <tr>\n",
       "      <th>3</th>\n",
       "      <td>Oman</td>\n",
       "      <td>36.24</td>\n",
       "      <td>3.81</td>\n",
       "    </tr>\n",
       "    <tr>\n",
       "      <th>4</th>\n",
       "      <td>Madagascar</td>\n",
       "      <td>41.41</td>\n",
       "      <td>11.11</td>\n",
       "    </tr>\n",
       "    <tr>\n",
       "      <th>5</th>\n",
       "      <td>Burkina Faso</td>\n",
       "      <td>45.62</td>\n",
       "      <td>15.60</td>\n",
       "    </tr>\n",
       "    <tr>\n",
       "      <th>6</th>\n",
       "      <td>Niger</td>\n",
       "      <td>50.73</td>\n",
       "      <td>20.91</td>\n",
       "    </tr>\n",
       "    <tr>\n",
       "      <th>7</th>\n",
       "      <td>Chad</td>\n",
       "      <td>45.73</td>\n",
       "      <td>16.38</td>\n",
       "    </tr>\n",
       "    <tr>\n",
       "      <th>8</th>\n",
       "      <td>Mauritania</td>\n",
       "      <td>40.99</td>\n",
       "      <td>12.16</td>\n",
       "    </tr>\n",
       "    <tr>\n",
       "      <th>9</th>\n",
       "      <td>Burundi</td>\n",
       "      <td>42.22</td>\n",
       "      <td>13.46</td>\n",
       "    </tr>\n",
       "    <tr>\n",
       "      <th>10</th>\n",
       "      <td>Comoros</td>\n",
       "      <td>36.93</td>\n",
       "      <td>8.20</td>\n",
       "    </tr>\n",
       "    <tr>\n",
       "      <th>11</th>\n",
       "      <td>Somalia</td>\n",
       "      <td>45.13</td>\n",
       "      <td>16.63</td>\n",
       "    </tr>\n",
       "    <tr>\n",
       "      <th>12</th>\n",
       "      <td>Marshall Islands</td>\n",
       "      <td>33.05</td>\n",
       "      <td>4.78</td>\n",
       "    </tr>\n",
       "    <tr>\n",
       "      <th>13</th>\n",
       "      <td>Maldives</td>\n",
       "      <td>34.81</td>\n",
       "      <td>7.06</td>\n",
       "    </tr>\n",
       "    <tr>\n",
       "      <th>14</th>\n",
       "      <td>Togo</td>\n",
       "      <td>37.01</td>\n",
       "      <td>9.83</td>\n",
       "    </tr>\n",
       "  </tbody>\n",
       "</table>\n",
       "</div>"
      ],
      "text/plain": [
       "             country  birth-rate  death-rate\n",
       "0             Uganda       47.35       12.24\n",
       "1              Yemen       42.89        8.30\n",
       "2               Mali       49.82       16.89\n",
       "3               Oman       36.24        3.81\n",
       "4         Madagascar       41.41       11.11\n",
       "5       Burkina Faso       45.62       15.60\n",
       "6              Niger       50.73       20.91\n",
       "7               Chad       45.73       16.38\n",
       "8         Mauritania       40.99       12.16\n",
       "9            Burundi       42.22       13.46\n",
       "10           Comoros       36.93        8.20\n",
       "11           Somalia       45.13       16.63\n",
       "12  Marshall Islands       33.05        4.78\n",
       "13          Maldives       34.81        7.06\n",
       "14              Togo       37.01        9.83"
      ]
     },
     "execution_count": 39,
     "metadata": {},
     "output_type": "execute_result"
    }
   ],
   "source": [
    "#q28\n",
    "qry = \"\"\"\n",
    "SELECT country, \"birth-rate\", \"death-rate\"\n",
    "FROM countries\n",
    "ORDER BY abs(\"birth-rate\" - \"death-rate\") DESC\n",
    "LIMIT 15\n",
    "\"\"\"\n",
    "\n",
    "q28=pd.read_sql(qry, conn)\n",
    "q28"
   ]
  },
  {
   "cell_type": "code",
   "execution_count": 40,
   "metadata": {},
   "outputs": [
    {
     "data": {
      "text/plain": [
       "Text(0.5, 0, 'rate')"
      ]
     },
     "execution_count": 40,
     "metadata": {},
     "output_type": "execute_result"
    },
    {
     "data": {
      "image/png": "[encoded data removed]",
      "text/plain": [
       "<Figure size 432x288 with 1 Axes>"
      ]
     },
     "metadata": {
      "needs_background": "light"
     },
     "output_type": "display_data"
    }
   ],
   "source": [
    "#q29\n",
    "q29a= q28.set_index(\"country\")\n",
    "ax29=q29a[[\"death-rate\",\"birth-rate\"]].plot.barh()\n",
    "ax29.set_xlabel(\"rate\")\n"
   ]
  },
  {
   "cell_type": "code",
   "execution_count": 41,
   "metadata": {},
   "outputs": [
    {
     "data": {
      "text/plain": [
       "<matplotlib.axes._subplots.AxesSubplot at 0x11f92a90>"
      ]
     },
     "execution_count": 41,
     "metadata": {},
     "output_type": "execute_result"
    },
    {
     "data": {
      "image/png": "[encoded data removed]",
      "text/plain": [
       "<Figure size 432x288 with 1 Axes>"
      ]
     },
     "metadata": {
      "needs_background": "light"
     },
     "output_type": "display_data"
    }
   ],
   "source": [
    "#q30\n",
    "countries.plot.scatter(x='death-rate', y='birth-rate', color=\"black\")"
   ]
  },
  {
   "cell_type": "code",
   "execution_count": 42,
   "metadata": {},
   "outputs": [
    {
     "data": {
      "text/html": [
       "<div>\n",
       "<style scoped>\n",
       "    .dataframe tbody tr th:only-of-type {\n",
       "        vertical-align: middle;\n",
       "    }\n",
       "\n",
       "    .dataframe tbody tr th {\n",
       "        vertical-align: top;\n",
       "    }\n",
       "\n",
       "    .dataframe thead th {\n",
       "        text-align: right;\n",
       "    }\n",
       "</style>\n",
       "<table border=\"1\" class=\"dataframe\">\n",
       "  <thead>\n",
       "    <tr style=\"text-align: right;\">\n",
       "      <th></th>\n",
       "      <th>country</th>\n",
       "      <th>death-rate</th>\n",
       "      <th>birth-rate</th>\n",
       "    </tr>\n",
       "  </thead>\n",
       "  <tbody>\n",
       "    <tr>\n",
       "      <th>0</th>\n",
       "      <td>Namibia</td>\n",
       "      <td>18.86</td>\n",
       "      <td>24.32</td>\n",
       "    </tr>\n",
       "    <tr>\n",
       "      <th>1</th>\n",
       "      <td>Zimbabwe</td>\n",
       "      <td>21.84</td>\n",
       "      <td>28.01</td>\n",
       "    </tr>\n",
       "    <tr>\n",
       "      <th>2</th>\n",
       "      <td>South Africa</td>\n",
       "      <td>22.00</td>\n",
       "      <td>18.20</td>\n",
       "    </tr>\n",
       "    <tr>\n",
       "      <th>3</th>\n",
       "      <td>Lesotho</td>\n",
       "      <td>28.71</td>\n",
       "      <td>24.75</td>\n",
       "    </tr>\n",
       "    <tr>\n",
       "      <th>4</th>\n",
       "      <td>Botswana</td>\n",
       "      <td>29.50</td>\n",
       "      <td>23.08</td>\n",
       "    </tr>\n",
       "    <tr>\n",
       "      <th>5</th>\n",
       "      <td>Swaziland</td>\n",
       "      <td>29.74</td>\n",
       "      <td>27.41</td>\n",
       "    </tr>\n",
       "  </tbody>\n",
       "</table>\n",
       "</div>"
      ],
      "text/plain": [
       "        country  death-rate  birth-rate\n",
       "0       Namibia       18.86       24.32\n",
       "1      Zimbabwe       21.84       28.01\n",
       "2  South Africa       22.00       18.20\n",
       "3       Lesotho       28.71       24.75\n",
       "4      Botswana       29.50       23.08\n",
       "5     Swaziland       29.74       27.41"
      ]
     },
     "execution_count": 42,
     "metadata": {},
     "output_type": "execute_result"
    }
   ],
   "source": [
    "#q31\n",
    "\n",
    "qry =( \"\"\"\n",
    "SELECT country, \"death-rate\", \"birth-rate\"\n",
    "FROM countries\n",
    "WHERE (\"death-rate\" > 18) &  (17<\"birth-rate\") & (\"birth-rate\"<30)\n",
    "ORDER BY \"death-rate\" ASC\n",
    "\"\"\")\n",
    "\n",
    "q31=pd.read_sql(qry, conn)\n",
    "q31"
   ]
  },
  {
   "cell_type": "code",
   "execution_count": 43,
   "metadata": {},
   "outputs": [
    {
     "data": {
      "text/plain": [
       "0.3965086117752512"
      ]
     },
     "execution_count": 43,
     "metadata": {},
     "output_type": "execute_result"
    }
   ],
   "source": [
    "#q32\n",
    "df=countries[[\"country\",\"birth-rate\",\"death-rate\"]]\n",
    "df.set_index(\"country\")\n",
    "df.corr().iloc[0,1]"
   ]
  },
  {
   "cell_type": "code",
   "execution_count": 44,
   "metadata": {},
   "outputs": [
    {
     "data": {
      "text/plain": [
       "<matplotlib.axes._subplots.AxesSubplot at 0x11feb050>"
      ]
     },
     "execution_count": 44,
     "metadata": {},
     "output_type": "execute_result"
    },
    {
     "data": {
      "image/png": "[encoded data removed]",
      "text/plain": [
       "<Figure size 432x288 with 1 Axes>"
      ]
     },
     "metadata": {
      "needs_background": "light"
     },
     "output_type": "display_data"
    }
   ],
   "source": [
    "#q33\n",
    "countries.plot.scatter(x='gdp-per-capita', y='phones', color=\"black\")"
   ]
  },
  {
   "cell_type": "code",
   "execution_count": 45,
   "metadata": {},
   "outputs": [
    {
     "data": {
      "text/plain": [
       "0.8786946640591311"
      ]
     },
     "execution_count": 45,
     "metadata": {},
     "output_type": "execute_result"
    }
   ],
   "source": [
    "#q34\n",
    "df=countries[[\"country\",\"gdp-per-capita\",\"phones\"]]\n",
    "df.set_index(\"country\")\n",
    "df.corr().iloc[0,1]"
   ]
  },
  {
   "cell_type": "code",
   "execution_count": 46,
   "metadata": {},
   "outputs": [
    {
     "data": {
      "text/plain": [
       "<matplotlib.axes._subplots.AxesSubplot at 0x1202b9f0>"
      ]
     },
     "execution_count": 46,
     "metadata": {},
     "output_type": "execute_result"
    },
    {
     "data": {
      "image/png": "[encoded data removed]",
      "text/plain": [
       "<Figure size 432x288 with 1 Axes>"
      ]
     },
     "metadata": {
      "needs_background": "light"
     },
     "output_type": "display_data"
    }
   ],
   "source": [
    "#q35\n",
    "countries.plot.scatter(y='gdp-per-capita', x='literacy', color=\"black\")"
   ]
  },
  {
   "cell_type": "code",
   "execution_count": 47,
   "metadata": {},
   "outputs": [
    {
     "data": {
      "text/plain": [
       "<matplotlib.axes._subplots.AxesSubplot at 0x120684b0>"
      ]
     },
     "execution_count": 47,
     "metadata": {},
     "output_type": "execute_result"
    },
    {
     "data": {
      "image/png": "[encoded data removed]",
      "text/plain": [
       "<Figure size 432x288 with 1 Axes>"
      ]
     },
     "metadata": {
      "needs_background": "light"
     },
     "output_type": "display_data"
    }
   ],
   "source": [
    "#q36\n",
    "countries.plot.scatter(x='gdp-per-capita', y='death-rate', color=\"black\")"
   ]
  },
  {
   "cell_type": "code",
   "execution_count": 48,
   "metadata": {},
   "outputs": [
    {
     "data": {
      "text/plain": [
       "<matplotlib.axes._subplots.AxesSubplot at 0x120a77f0>"
      ]
     },
     "execution_count": 48,
     "metadata": {},
     "output_type": "execute_result"
    },
    {
     "data": {
      "image/png": "[encoded data removed]",
      "text/plain": [
       "<Figure size 432x288 with 1 Axes>"
      ]
     },
     "metadata": {
      "needs_background": "light"
     },
     "output_type": "display_data"
    }
   ],
   "source": [
    "#q37\n",
    "countries.plot.scatter(x='gdp-per-capita', y='birth-rate', color=\"black\")"
   ]
  },
  {
   "cell_type": "code",
   "execution_count": 49,
   "metadata": {},
   "outputs": [
    {
     "data": {
      "text/plain": [
       "<matplotlib.axes._subplots.AxesSubplot at 0x120d2bf0>"
      ]
     },
     "execution_count": 49,
     "metadata": {},
     "output_type": "execute_result"
    },
    {
     "data": {
      "image/png": "[encoded data removed]",
      "text/plain": [
       "<Figure size 432x288 with 1 Axes>"
      ]
     },
     "metadata": {
      "needs_background": "light"
     },
     "output_type": "display_data"
    }
   ],
   "source": [
    "#q38\n",
    "qry =( \"\"\"\n",
    "SELECT country, \"gdp-per-capita\", \"birth-rate\", 1 / \"birth-rate\" AS \"inverse birth rate\"\n",
    "FROM countries\n",
    "\"\"\")\n",
    "q38=pd.read_sql(qry, conn)\n",
    "q38.plot.scatter(x='gdp-per-capita', y='inverse birth rate', color=\"black\")"
   ]
  },
  {
   "cell_type": "code",
   "execution_count": 50,
   "metadata": {},
   "outputs": [
    {
     "data": {
      "text/plain": [
       "(1.836570392623344e-06, 0.03916624252079352)"
      ]
     },
     "execution_count": 50,
     "metadata": {},
     "output_type": "execute_result"
    }
   ],
   "source": [
    "#q39\n",
    "import numpy as np\n",
    "\n",
    "q38[\"1\"] = 1\n",
    "res = np.linalg.lstsq(q38[[\"gdp-per-capita\", \"1\"]], \n",
    "                      q38[\"inverse birth rate\"], \n",
    "                      rcond=None)\n",
    "# res is a tuple: (COEFFICIENTS, VALUE, VALUE, VALUE)\n",
    "coefficients = res[0] # coefficients is (m,n:\n",
    "m = coefficients[0] # slope\n",
    "n = coefficients[1] # intercept\n",
    "q39=(m,n)\n",
    "q39"
   ]
  },
  {
   "cell_type": "code",
   "execution_count": 51,
   "metadata": {},
   "outputs": [
    {
     "data": {
      "text/plain": [
       "<matplotlib.axes._subplots.AxesSubplot at 0x12116a30>"
      ]
     },
     "execution_count": 51,
     "metadata": {},
     "output_type": "execute_result"
    },
    {
     "data": {
      "image/png": "[encoded data removed]",
      "text/plain": [
       "<Figure size 432x288 with 1 Axes>"
      ]
     },
     "metadata": {
      "needs_background": "light"
     },
     "output_type": "display_data"
    }
   ],
   "source": [
    "#q40\n",
    "ax = q38.plot.scatter(x='gdp-per-capita', y='inverse birth rate',color=\"0.5\")\n",
    "\n",
    "q38[\"fit\"] = q38[\"gdp-per-capita\"] * m + n\n",
    "q38.plot.line(x='gdp-per-capita', y='fit', c='red', ax=ax)"
   ]
  },
  {
   "cell_type": "code",
   "execution_count": null,
   "metadata": {},
   "outputs": [],
   "source": []
  },
  {
   "cell_type": "code",
   "execution_count": 52,
   "metadata": {},
   "outputs": [],
   "source": [
    "#conn.close()"
   ]
  }
 ],
 "metadata": {
  "kernelspec": {
   "display_name": "Python 3",
   "language": "python",
   "name": "python3"
  },
  "language_info": {
   "codemirror_mode": {
    "name": "ipython",
    "version": 3
   },
   "file_extension": ".py",
   "mimetype": "text/x-python",
   "name": "python",
   "nbconvert_exporter": "python",
   "pygments_lexer": "ipython3",
   "version": "3.7.4"
  }
 },
 "nbformat": 4,
 "nbformat_minor": 2
}
