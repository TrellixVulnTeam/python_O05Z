{
 "cells": [
  {
   "cell_type": "code",
   "execution_count": 1,
   "metadata": {},
   "outputs": [],
   "source": [
    "# project: p8\n",
    "# submitter: ytian83\n",
    "# partner: None"
   ]
  },
  {
   "cell_type": "code",
   "execution_count": 2,
   "metadata": {},
   "outputs": [],
   "source": [
    "import csv\n",
    "def get_mapping(path):\n",
    "    exampleFile = open(path, encoding=\"utf-8\")\n",
    "    exampleReader = csv.reader(exampleFile)\n",
    "    exampleData = dict(exampleReader)\n",
    "    exampleFile.close()\n",
    "    return exampleData\n",
    "\n",
    "def get_raw_movies(path):\n",
    "    file = open(path, encoding='utf-8')\n",
    "    file_reader = csv.reader(file)\n",
    "    path_data = list(file_reader)\n",
    "    file.close()\n",
    "    header = path_data[0]\n",
    "    path_data = path_data[1:]\n",
    "    get_movies=[]\n",
    "    for idx in path_data:\n",
    "        dict_temp = {}\n",
    "        for i in range(len(header)):\n",
    "            if i>=3:\n",
    "                dict_temp[header[i]]=idx[i].split(\",\")\n",
    "            elif i==1:\n",
    "                dict_temp[header[i]]=int(idx[i])\n",
    "            elif i==2:\n",
    "                dict_temp[header[i]]=float(idx[i])\n",
    "            else:  \n",
    "                dict_temp[header[i]]=idx[i]\n",
    "        get_movies.append(dict_temp)\n",
    "    return get_movies\n",
    "        \n",
    "\n",
    "    "
   ]
  },
  {
   "cell_type": "code",
   "execution_count": 3,
   "metadata": {},
   "outputs": [
    {
     "data": {
      "text/plain": [
       "{'nm0000131': 'John Cusack',\n",
       " 'nm0000154': 'Mel Gibson',\n",
       " 'nm0000163': 'Dustin Hoffman',\n",
       " 'nm0000418': 'Danny Glover',\n",
       " 'nm0000432': 'Gene Hackman',\n",
       " 'nm0000997': 'Gary Busey',\n",
       " 'nm0001149': 'Richard Donner',\n",
       " 'nm0001219': 'Gary Fleder',\n",
       " 'nm0752751': 'Mitchell Ryan',\n",
       " 'tt0313542': 'Runaway Jury',\n",
       " 'tt0093409': 'Lethal Weapon'}"
      ]
     },
     "execution_count": 3,
     "metadata": {},
     "output_type": "execute_result"
    }
   ],
   "source": [
    "#q1\n",
    "\n",
    "mapping=get_mapping(\"small_mapping.csv\")\n",
    "mapping"
   ]
  },
  {
   "cell_type": "code",
   "execution_count": 4,
   "metadata": {},
   "outputs": [
    {
     "data": {
      "text/plain": [
       "'Mitchell Ryan'"
      ]
     },
     "execution_count": 4,
     "metadata": {},
     "output_type": "execute_result"
    }
   ],
   "source": [
    "#q2\n",
    "mapping[\"nm0752751\"]"
   ]
  },
  {
   "cell_type": "code",
   "execution_count": 5,
   "metadata": {},
   "outputs": [
    {
     "data": {
      "text/plain": [
       "['John Cusack',\n",
       " 'Mel Gibson',\n",
       " 'Dustin Hoffman',\n",
       " 'Danny Glover',\n",
       " 'Gene Hackman',\n",
       " 'Gary Busey',\n",
       " 'Richard Donner',\n",
       " 'Gary Fleder',\n",
       " 'Mitchell Ryan']"
      ]
     },
     "execution_count": 5,
     "metadata": {},
     "output_type": "execute_result"
    }
   ],
   "source": [
    "#q3\n",
    "a=[]\n",
    "for i in mapping:\n",
    "    if \"nm\" in i:\n",
    "        a.append(mapping[i])\n",
    "        \n",
    "a"
   ]
  },
  {
   "cell_type": "code",
   "execution_count": 6,
   "metadata": {},
   "outputs": [
    {
     "data": {
      "text/plain": [
       "['nm0000997', 'nm0001219']"
      ]
     },
     "execution_count": 6,
     "metadata": {},
     "output_type": "execute_result"
    }
   ],
   "source": [
    "#q4\n",
    "b=[]\n",
    "for i in mapping :\n",
    "    if \"Gary\" in mapping[i] or \"gary\" in mapping[i]:\n",
    "        b.append(i)\n",
    "\n",
    "b"
   ]
  },
  {
   "cell_type": "code",
   "execution_count": 7,
   "metadata": {},
   "outputs": [
    {
     "data": {
      "text/plain": [
       "[{'title': 'tt0313542',\n",
       "  'year': 2003,\n",
       "  'rating': 7.1,\n",
       "  'directors': ['nm0001219'],\n",
       "  'actors': ['nm0000131', 'nm0000432', 'nm0000163'],\n",
       "  'genres': ['Crime', 'Drama', 'Thriller']},\n",
       " {'title': 'tt0093409',\n",
       "  'year': 1987,\n",
       "  'rating': 7.6,\n",
       "  'directors': ['nm0001149'],\n",
       "  'actors': ['nm0000154', 'nm0000418', 'nm0000997', 'nm0752751'],\n",
       "  'genres': ['Action', 'Crime', 'Thriller']}]"
      ]
     },
     "execution_count": 7,
     "metadata": {},
     "output_type": "execute_result"
    }
   ],
   "source": [
    "#q5\n",
    "movies=get_raw_movies(\"small_movies.csv\")\n",
    "movies"
   ]
  },
  {
   "cell_type": "code",
   "execution_count": 8,
   "metadata": {},
   "outputs": [
    {
     "data": {
      "text/plain": [
       "3"
      ]
     },
     "execution_count": 8,
     "metadata": {},
     "output_type": "execute_result"
    }
   ],
   "source": [
    "#q6\n",
    "len(movies[0][\"genres\"])"
   ]
  },
  {
   "cell_type": "code",
   "execution_count": 9,
   "metadata": {},
   "outputs": [
    {
     "data": {
      "text/plain": [
       "'nm0752751'"
      ]
     },
     "execution_count": 9,
     "metadata": {},
     "output_type": "execute_result"
    }
   ],
   "source": [
    "#q7\n",
    "movies[1][\"actors\"][-1]"
   ]
  },
  {
   "cell_type": "code",
   "execution_count": 10,
   "metadata": {},
   "outputs": [
    {
     "data": {
      "text/plain": [
       "'Runaway Jury'"
      ]
     },
     "execution_count": 10,
     "metadata": {},
     "output_type": "execute_result"
    }
   ],
   "source": [
    "#q8\n",
    "def get_movies(movies_path, mapping_path):\n",
    "    mapping=get_mapping(mapping_path)\n",
    "    movies=get_raw_movies(movies_path)\n",
    "    for idx in movies:\n",
    "        for i in idx:\n",
    "             if \"tt\" or \"nm\" in idx[i]:\n",
    "                if type(idx[i])==str :\n",
    "                    idx[i]=mapping[str(idx[i])]\n",
    "                if i == \"actors\"or i== \"directors\":\n",
    "                    for a in range(len(idx[i])):\n",
    "                        idx[i][a]=mapping[str(idx[i][a])]\n",
    "    return movies\n",
    "    \n",
    "small=get_movies(\"small_movies.csv\", \"small_mapping.csv\")\n",
    "\n",
    "small[0][\"title\"]"
   ]
  },
  {
   "cell_type": "code",
   "execution_count": 48,
   "metadata": {},
   "outputs": [
    {
     "data": {
      "text/plain": [
       "['Mel Gibson', 'Danny Glover', 'Gary Busey', 'Mitchell Ryan']"
      ]
     },
     "execution_count": 48,
     "metadata": {},
     "output_type": "execute_result"
    }
   ],
   "source": [
    "#q9\n",
    "small[1][\"actors\"]\n"
   ]
  },
  {
   "cell_type": "code",
   "execution_count": 12,
   "metadata": {},
   "outputs": [
    {
     "data": {
      "text/plain": [
       "['Richard Donner']"
      ]
     },
     "execution_count": 12,
     "metadata": {},
     "output_type": "execute_result"
    }
   ],
   "source": [
    "#q10\n",
    "small[-1][\"directors\"]"
   ]
  },
  {
   "cell_type": "code",
   "execution_count": 13,
   "metadata": {},
   "outputs": [
    {
     "data": {
      "text/plain": [
       "[{'title': 'Runaway Jury',\n",
       "  'year': 2003,\n",
       "  'rating': 7.1,\n",
       "  'directors': ['Gary Fleder'],\n",
       "  'actors': ['John Cusack', 'Gene Hackman', 'Dustin Hoffman'],\n",
       "  'genres': ['Crime', 'Drama', 'Thriller']},\n",
       " {'title': 'Lethal Weapon',\n",
       "  'year': 1987,\n",
       "  'rating': 7.6,\n",
       "  'directors': ['Richard Donner'],\n",
       "  'actors': ['Mel Gibson', 'Danny Glover', 'Gary Busey', 'Mitchell Ryan'],\n",
       "  'genres': ['Action', 'Crime', 'Thriller']}]"
      ]
     },
     "execution_count": 13,
     "metadata": {},
     "output_type": "execute_result"
    }
   ],
   "source": [
    "#q11\n",
    "small"
   ]
  },
  {
   "cell_type": "code",
   "execution_count": 14,
   "metadata": {},
   "outputs": [],
   "source": [
    "movies = get_movies(\"movies.csv\", \"mapping.csv\")"
   ]
  },
  {
   "cell_type": "code",
   "execution_count": 15,
   "metadata": {},
   "outputs": [
    {
     "data": {
      "text/plain": [
       "[{'title': 'The Big Wedding',\n",
       "  'year': 2013,\n",
       "  'rating': 5.6,\n",
       "  'directors': ['Justin Zackham'],\n",
       "  'actors': ['Robert De Niro'],\n",
       "  'genres': ['Comedy', 'Drama', 'Romance']},\n",
       " {'title': 'The Affair of the Necklace',\n",
       "  'year': 2001,\n",
       "  'rating': 6.1,\n",
       "  'directors': ['Charles Shyer'],\n",
       "  'actors': ['Simon Baker', 'Jonathan Pryce', 'Adrien Brody'],\n",
       "  'genres': ['Drama', 'History', 'Romance']},\n",
       " {'title': 'The Barefoot Executive',\n",
       "  'year': 1971,\n",
       "  'rating': 6.0,\n",
       "  'directors': ['Robert Butler'],\n",
       "  'actors': ['Kurt Russell', 'Joe Flynn', 'Harry Morgan', 'Wally Cox'],\n",
       "  'genres': ['Comedy', 'Family']}]"
      ]
     },
     "execution_count": 15,
     "metadata": {},
     "output_type": "execute_result"
    }
   ],
   "source": [
    "#q12\n",
    "movies[0:3]"
   ]
  },
  {
   "cell_type": "code",
   "execution_count": 16,
   "metadata": {},
   "outputs": [
    {
     "data": {
      "text/plain": [
       "[{'title': 'Fortitude and Glory: Angelo Dundee and His Fighters',\n",
       "  'year': 2012,\n",
       "  'rating': 7.2,\n",
       "  'directors': ['Chris Tasara'],\n",
       "  'actors': ['Angelo Dundee', 'George Foreman', 'Freddie Roach'],\n",
       "  'genres': ['Sport']},\n",
       " {'title': 'Ivanhoe',\n",
       "  'year': 1952,\n",
       "  'rating': 6.8,\n",
       "  'directors': ['Richard Thorpe'],\n",
       "  'actors': ['Robert Taylor', 'George Sanders'],\n",
       "  'genres': ['Adventure', 'Drama', 'History']},\n",
       " {'title': 'The Great Gatsby',\n",
       "  'year': 1949,\n",
       "  'rating': 6.6,\n",
       "  'directors': ['Elliott Nugent'],\n",
       "  'actors': ['Alan Ladd', 'Macdonald Carey'],\n",
       "  'genres': ['Drama']}]"
      ]
     },
     "execution_count": 16,
     "metadata": {},
     "output_type": "execute_result"
    }
   ],
   "source": [
    "#q13\n",
    "movies[-3:]"
   ]
  },
  {
   "cell_type": "code",
   "execution_count": 17,
   "metadata": {},
   "outputs": [],
   "source": [
    "# you are not allowed to change this function\n",
    "def filter_movies_by_year(movies, year):\n",
    "    i = 0\n",
    "    while i < len(movies):\n",
    "        if movies[i][\"year\"] != year:\n",
    "            movies.pop(i)\n",
    "        else:\n",
    "            i += 1\n",
    "    return movies"
   ]
  },
  {
   "cell_type": "code",
   "execution_count": 18,
   "metadata": {},
   "outputs": [
    {
     "data": {
      "text/plain": [
       "[{'title': 'Arizona',\n",
       "  'year': 1931,\n",
       "  'rating': 6.0,\n",
       "  'directors': ['George B. Seitz'],\n",
       "  'actors': ['John Wayne', 'Forrest Stanley'],\n",
       "  'genres': ['Drama', 'Romance']},\n",
       " {'title': 'City Lights',\n",
       "  'year': 1931,\n",
       "  'rating': 8.5,\n",
       "  'directors': ['Charles Chaplin'],\n",
       "  'actors': ['Charles Chaplin', 'Harry Myers'],\n",
       "  'genres': ['Comedy', 'Drama', 'Romance']},\n",
       " {'title': 'The Range Feud',\n",
       "  'year': 1931,\n",
       "  'rating': 5.8,\n",
       "  'directors': ['D. Ross Lederman'],\n",
       "  'actors': ['Buck Jones', 'John Wayne', 'Edward LeSaint'],\n",
       "  'genres': ['Mystery', 'Western']}]"
      ]
     },
     "execution_count": 18,
     "metadata": {},
     "output_type": "execute_result"
    }
   ],
   "source": [
    "#q14\n",
    "import copy\n",
    "movies14=copy.copy(movies)\n",
    "filter_movies_by_year(movies14,1931)"
   ]
  },
  {
   "cell_type": "code",
   "execution_count": 19,
   "metadata": {},
   "outputs": [
    {
     "data": {
      "text/plain": [
       "[{'title': 'Texas Cyclone',\n",
       "  'year': 1932,\n",
       "  'rating': 6.2,\n",
       "  'directors': ['D. Ross Lederman'],\n",
       "  'actors': ['Wallace MacDonald', 'Tim McCoy', 'Wheeler Oakman', 'John Wayne'],\n",
       "  'genres': ['Action', 'Western']},\n",
       " {'title': 'Haunted Gold',\n",
       "  'year': 1932,\n",
       "  'rating': 5.5,\n",
       "  'directors': ['Mack V. Wright'],\n",
       "  'actors': ['Otto Hoffman',\n",
       "   'John Wayne',\n",
       "   'Duke',\n",
       "   'Harry Woods',\n",
       "   'Erville Alderson'],\n",
       "  'genres': ['Horror', 'Mystery', 'Western']},\n",
       " {'title': 'Girl Crazy',\n",
       "  'year': 1932,\n",
       "  'rating': 6.3,\n",
       "  'directors': ['William A. Seiter'],\n",
       "  'actors': ['Bert Wheeler', 'Robert Woolsey', 'Eddie Quillan'],\n",
       "  'genres': ['Comedy']},\n",
       " {'title': 'Hot Saturday',\n",
       "  'year': 1932,\n",
       "  'rating': 6.6,\n",
       "  'directors': ['William A. Seiter'],\n",
       "  'actors': ['Cary Grant', 'Randolph Scott', 'Edward Woods'],\n",
       "  'genres': ['Drama', 'Romance']},\n",
       " {'title': 'Lady and Gent',\n",
       "  'year': 1932,\n",
       "  'rating': 5.7,\n",
       "  'directors': ['Stephen Roberts'],\n",
       "  'actors': ['Morgan Wallace',\n",
       "   'George Bancroft',\n",
       "   'Charles Starrett',\n",
       "   'James Gleason',\n",
       "   'John Wayne'],\n",
       "  'genres': ['Drama', 'Sport']},\n",
       " {'title': 'The Big Stampede',\n",
       "  'year': 1932,\n",
       "  'rating': 5.8,\n",
       "  'directors': ['Tenny Wright'],\n",
       "  'actors': ['John Wayne', 'Noah Beery', 'Paul Hurst'],\n",
       "  'genres': ['Western']},\n",
       " {'title': 'The Shadow of the Eagle',\n",
       "  'year': 1932,\n",
       "  'rating': 5.8,\n",
       "  'directors': ['B. Reeves Eason', 'Ford Beebe'],\n",
       "  'actors': ['John Wayne', 'Walter Miller', 'Kenneth Harlan'],\n",
       "  'genres': ['Crime', 'Drama', 'Mystery']},\n",
       " {'title': 'Ride Him, Cowboy',\n",
       "  'year': 1932,\n",
       "  'rating': 5.4,\n",
       "  'directors': ['Fred Allen'],\n",
       "  'actors': ['Otis Harlan', 'John Wayne', 'Duke', 'Henry B. Walthall'],\n",
       "  'genres': ['Romance', 'Western']},\n",
       " {'title': \"Smilin' Through\",\n",
       "  'year': 1932,\n",
       "  'rating': 7.0,\n",
       "  'directors': ['Sidney Franklin'],\n",
       "  'actors': ['Fredric March', 'Leslie Howard', 'O.P. Heggie'],\n",
       "  'genres': ['Drama', 'Romance']},\n",
       " {'title': 'The Hurricane Express',\n",
       "  'year': 1932,\n",
       "  'rating': 5.6,\n",
       "  'directors': ['J.P. McGowan', 'Armand Schaefer'],\n",
       "  'actors': ['Tully Marshall', 'Conway Tearle', 'John Wayne'],\n",
       "  'genres': ['Action', 'Adventure', 'Crime']}]"
      ]
     },
     "execution_count": 19,
     "metadata": {},
     "output_type": "execute_result"
    }
   ],
   "source": [
    "#q15\n",
    "movies15=copy.copy(movies)\n",
    "filter_movies_by_year(movies15,1932)"
   ]
  },
  {
   "cell_type": "code",
   "execution_count": 20,
   "metadata": {},
   "outputs": [
    {
     "data": {
      "text/plain": [
       "18"
      ]
     },
     "execution_count": 20,
     "metadata": {},
     "output_type": "execute_result"
    }
   ],
   "source": [
    "#q16\n",
    "def get_column(col_name):\n",
    "    x=[]\n",
    "    for i in movies:\n",
    "        for a in i[col_name]:\n",
    "            x.append(a)\n",
    "    return list(set(x))\n",
    "\n",
    "len(get_column(\"genres\"))"
   ]
  },
  {
   "cell_type": "code",
   "execution_count": 21,
   "metadata": {},
   "outputs": [
    {
     "data": {
      "text/plain": [
       "1247"
      ]
     },
     "execution_count": 21,
     "metadata": {},
     "output_type": "execute_result"
    }
   ],
   "source": [
    "#q17\n",
    "len(get_column(\"directors\"))"
   ]
  },
  {
   "cell_type": "code",
   "execution_count": 22,
   "metadata": {},
   "outputs": [
    {
     "data": {
      "text/plain": [
       "'Shoulder Arms'"
      ]
     },
     "execution_count": 22,
     "metadata": {},
     "output_type": "execute_result"
    }
   ],
   "source": [
    "#q18\n",
    "b={}\n",
    "name=None\n",
    "for i in movies:\n",
    "    b[i[\"title\"]]=len(i[\"actors\"])\n",
    "highest=0\n",
    "for i in b:\n",
    "    if b[i]>=highest:\n",
    "        highest= b[i]\n",
    "        name=i\n",
    "name"
   ]
  },
  {
   "cell_type": "code",
   "execution_count": 23,
   "metadata": {},
   "outputs": [
    {
     "data": {
      "text/plain": [
       "6.401659528907912"
      ]
     },
     "execution_count": 23,
     "metadata": {},
     "output_type": "execute_result"
    }
   ],
   "source": [
    "#q19\n",
    "rating=[]\n",
    "for i in movies:\n",
    "    rating.append(i[\"rating\"])\n",
    "average_rating=sum(rating)/len(rating)\n",
    "average_rating"
   ]
  },
  {
   "cell_type": "code",
   "execution_count": 24,
   "metadata": {},
   "outputs": [
    {
     "data": {
      "text/plain": [
       "'Dr. Strangelove or: How I Learned to Stop Worrying and Love the Bomb'"
      ]
     },
     "execution_count": 24,
     "metadata": {},
     "output_type": "execute_result"
    }
   ],
   "source": [
    "#q20\n",
    "y={}\n",
    "for idx in movies:\n",
    "    y[idx[\"title\"]]=len(idx[\"title\"])\n",
    "longest=0\n",
    "name=None\n",
    "for i in y:\n",
    "    if y[i]>longest:\n",
    "        longest=y[i]\n",
    "        name=i\n",
    "name\n",
    "    \n"
   ]
  },
  {
   "cell_type": "code",
   "execution_count": 25,
   "metadata": {},
   "outputs": [
    {
     "data": {
      "text/plain": [
       "{2018: [{'title': 'A', 'year': 2018, 'style': 'short', 'genres': ['g1']},\n",
       "  {'title': 'B', 'year': 2018, 'style': 'long', 'genres': ['g2']}],\n",
       " 2019: [{'title': 'C', 'year': 2019, 'style': 'short', 'genres': ['g3']},\n",
       "  {'title': 'D', 'year': 2019, 'style': 'long', 'genres': ['g1', 'g2', 'g3']}]}"
      ]
     },
     "execution_count": 25,
     "metadata": {},
     "output_type": "execute_result"
    }
   ],
   "source": [
    "#q21\n",
    "\n",
    "test_movies = [\n",
    "{\"title\": \"A\", \"year\": 2018, \"style\": \"short\", \"genres\": [\"g1\"]},\n",
    "{\"title\": \"B\", \"year\": 2018, \"style\": \"long\",  \"genres\": [\"g2\"]},\n",
    "{\"title\": \"C\", \"year\": 2019, \"style\": \"short\", \"genres\": [\"g3\"]},\n",
    "{\"title\": \"D\", \"year\": 2019, \"style\": \"long\", \"genres\": [\"g1\", \"g2\", \"g3\"]},\n",
    "]\n",
    "\n",
    "def bucketize(movie_list, movie_key):\n",
    "    # TODO: return dict of lists of movie dicts\n",
    "    x={}\n",
    "    for i in movie_list:\n",
    "        if type(i[movie_key]) ==list:\n",
    "            for idx in i[movie_key]:\n",
    "                a=str(idx)\n",
    "                if not a in x:\n",
    "                    x[a]=[]\n",
    "                    x[a].append(i)\n",
    "                else:\n",
    "                    x[a].append(i)\n",
    "        elif not i[movie_key] in x: \n",
    "            x[i[movie_key]]=[]\n",
    "            x[i[movie_key]].append(i)\n",
    "        else:\n",
    "            x[i[movie_key]].append(i)\n",
    "    return x\n",
    "\n",
    "bucketize(test_movies, \"year\")"
   ]
  },
  {
   "cell_type": "code",
   "execution_count": 26,
   "metadata": {},
   "outputs": [
    {
     "data": {
      "text/plain": [
       "{'short': [{'title': 'A', 'year': 2018, 'style': 'short', 'genres': ['g1']},\n",
       "  {'title': 'C', 'year': 2019, 'style': 'short', 'genres': ['g3']}],\n",
       " 'long': [{'title': 'B', 'year': 2018, 'style': 'long', 'genres': ['g2']},\n",
       "  {'title': 'D', 'year': 2019, 'style': 'long', 'genres': ['g1', 'g2', 'g3']}]}"
      ]
     },
     "execution_count": 26,
     "metadata": {},
     "output_type": "execute_result"
    }
   ],
   "source": [
    "#q22\n",
    "bucketize(test_movies, \"style\")"
   ]
  },
  {
   "cell_type": "code",
   "execution_count": 27,
   "metadata": {},
   "outputs": [
    {
     "data": {
      "text/plain": [
       "{'g1': [{'title': 'A', 'year': 2018, 'style': 'short', 'genres': ['g1']},\n",
       "  {'title': 'D', 'year': 2019, 'style': 'long', 'genres': ['g1', 'g2', 'g3']}],\n",
       " 'g2': [{'title': 'B', 'year': 2018, 'style': 'long', 'genres': ['g2']},\n",
       "  {'title': 'D', 'year': 2019, 'style': 'long', 'genres': ['g1', 'g2', 'g3']}],\n",
       " 'g3': [{'title': 'C', 'year': 2019, 'style': 'short', 'genres': ['g3']},\n",
       "  {'title': 'D', 'year': 2019, 'style': 'long', 'genres': ['g1', 'g2', 'g3']}]}"
      ]
     },
     "execution_count": 27,
     "metadata": {},
     "output_type": "execute_result"
    }
   ],
   "source": [
    "#q23\n",
    "bucketize(test_movies, \"genres\")"
   ]
  },
  {
   "cell_type": "code",
   "execution_count": 28,
   "metadata": {},
   "outputs": [
    {
     "data": {
      "text/plain": [
       "{'Crime': [{'title': 'Runaway Jury',\n",
       "   'year': 2003,\n",
       "   'rating': 7.1,\n",
       "   'directors': ['Gary Fleder'],\n",
       "   'actors': ['John Cusack', 'Gene Hackman', 'Dustin Hoffman'],\n",
       "   'genres': ['Crime', 'Drama', 'Thriller']},\n",
       "  {'title': 'Lethal Weapon',\n",
       "   'year': 1987,\n",
       "   'rating': 7.6,\n",
       "   'directors': ['Richard Donner'],\n",
       "   'actors': ['Mel Gibson', 'Danny Glover', 'Gary Busey', 'Mitchell Ryan'],\n",
       "   'genres': ['Action', 'Crime', 'Thriller']}],\n",
       " 'Drama': [{'title': 'Runaway Jury',\n",
       "   'year': 2003,\n",
       "   'rating': 7.1,\n",
       "   'directors': ['Gary Fleder'],\n",
       "   'actors': ['John Cusack', 'Gene Hackman', 'Dustin Hoffman'],\n",
       "   'genres': ['Crime', 'Drama', 'Thriller']}],\n",
       " 'Thriller': [{'title': 'Runaway Jury',\n",
       "   'year': 2003,\n",
       "   'rating': 7.1,\n",
       "   'directors': ['Gary Fleder'],\n",
       "   'actors': ['John Cusack', 'Gene Hackman', 'Dustin Hoffman'],\n",
       "   'genres': ['Crime', 'Drama', 'Thriller']},\n",
       "  {'title': 'Lethal Weapon',\n",
       "   'year': 1987,\n",
       "   'rating': 7.6,\n",
       "   'directors': ['Richard Donner'],\n",
       "   'actors': ['Mel Gibson', 'Danny Glover', 'Gary Busey', 'Mitchell Ryan'],\n",
       "   'genres': ['Action', 'Crime', 'Thriller']}],\n",
       " 'Action': [{'title': 'Lethal Weapon',\n",
       "   'year': 1987,\n",
       "   'rating': 7.6,\n",
       "   'directors': ['Richard Donner'],\n",
       "   'actors': ['Mel Gibson', 'Danny Glover', 'Gary Busey', 'Mitchell Ryan'],\n",
       "   'genres': ['Action', 'Crime', 'Thriller']}]}"
      ]
     },
     "execution_count": 28,
     "metadata": {},
     "output_type": "execute_result"
    }
   ],
   "source": [
    "#q24\n",
    "bucketize(small, \"genres\")"
   ]
  },
  {
   "cell_type": "code",
   "execution_count": 29,
   "metadata": {},
   "outputs": [
    {
     "data": {
      "text/plain": [
       "7"
      ]
     },
     "execution_count": 29,
     "metadata": {},
     "output_type": "execute_result"
    }
   ],
   "source": [
    "#q25\n",
    "bucketize(small, \"actors\")\n",
    "len(bucketize(small, \"actors\"))"
   ]
  },
  {
   "cell_type": "code",
   "execution_count": 30,
   "metadata": {},
   "outputs": [
    {
     "data": {
      "text/plain": [
       "2605"
      ]
     },
     "execution_count": 30,
     "metadata": {},
     "output_type": "execute_result"
    }
   ],
   "source": [
    "#q26\n",
    "bucketize(movies, \"actors\")\n",
    "len(bucketize(movies, \"actors\"))"
   ]
  },
  {
   "cell_type": "code",
   "execution_count": 31,
   "metadata": {},
   "outputs": [
    {
     "data": {
      "text/plain": [
       "{'Comedy': 485,\n",
       " 'Drama': 1094,\n",
       " 'Romance': 352,\n",
       " 'History': 73,\n",
       " 'Family': 85,\n",
       " 'Mystery': 121,\n",
       " 'Thriller': 250,\n",
       " 'Action': 299,\n",
       " 'Crime': 357,\n",
       " 'Adventure': 283,\n",
       " 'Western': 226,\n",
       " 'Music': 38,\n",
       " 'Animation': 45,\n",
       " 'Sport': 48,\n",
       " 'Fantasy': 59,\n",
       " 'War': 99,\n",
       " 'Sci-Fi': 69,\n",
       " 'Horror': 85}"
      ]
     },
     "execution_count": 31,
     "metadata": {},
     "output_type": "execute_result"
    }
   ],
   "source": [
    "#q27\n",
    "a=bucketize(movies,\"genres\")\n",
    "b={}\n",
    "for i in a:\n",
    "    b[i]=len(a[i])\n",
    "b"
   ]
  },
  {
   "cell_type": "code",
   "execution_count": 32,
   "metadata": {},
   "outputs": [
    {
     "name": "stderr",
     "output_type": "stream",
     "text": [
      "Matplotlib is building the font cache; this may take a moment.\n"
     ]
    }
   ],
   "source": [
    "%matplotlib inline"
   ]
  },
  {
   "cell_type": "code",
   "execution_count": 33,
   "metadata": {},
   "outputs": [],
   "source": [
    "import matplotlib, pandas\n",
    "\n",
    "def plot_dict(d, label=\"Please Label Me!!!\"):\n",
    "    ax = pandas.Series(d).sort_index().plot.bar(color=\"black\", fontsize=16)\n",
    "    ax.set_ylabel(label, fontsize=16)"
   ]
  },
  {
   "cell_type": "code",
   "execution_count": 34,
   "metadata": {},
   "outputs": [
    {
     "data": {
      "image/png": "[encoded data removed]",
      "text/plain": [
       "<Figure size 432x288 with 1 Axes>"
      ]
     },
     "metadata": {
      "needs_background": "light"
     },
     "output_type": "display_data"
    }
   ],
   "source": [
    "#q28\n",
    "plot_dict(b, \"Number of Movies\")"
   ]
  },
  {
   "cell_type": "code",
   "execution_count": 35,
   "metadata": {},
   "outputs": [
    {
     "data": {
      "image/png": "[encoded data removed]",
      "text/plain": [
       "<Figure size 432x288 with 1 Axes>"
      ]
     },
     "metadata": {
      "needs_background": "light"
     },
     "output_type": "display_data"
    }
   ],
   "source": [
    "#q29\n",
    "\n",
    "def filter_movies(movies, year1,year2):\n",
    "    x=copy.copy(movies)\n",
    "    i = 0\n",
    "    while i < len(x):\n",
    "        if x[i][\"year\"] < year1:\n",
    "            x.pop(i)\n",
    "        elif x[i][\"year\"]>year2:\n",
    "            x.pop(i)\n",
    "        else:\n",
    "            i += 1\n",
    "    return x\n",
    "\n",
    "\n",
    "def q29(data, key):\n",
    "    a=bucketize(data,key)\n",
    "    c = {}\n",
    "    for i in a:\n",
    "        c[i]=len(a[i])\n",
    "    return c\n",
    "\n",
    "plot_dict(q29(filter_movies(movies,0,2000),\"genres\"), \"Numberof Movies\")"
   ]
  },
  {
   "cell_type": "code",
   "execution_count": 36,
   "metadata": {},
   "outputs": [
    {
     "data": {
      "image/png": "[encoded data removed]",
      "text/plain": [
       "<Figure size 432x288 with 1 Axes>"
      ]
     },
     "metadata": {
      "needs_background": "light"
     },
     "output_type": "display_data"
    }
   ],
   "source": [
    "#q30\n",
    "\n",
    "plot_dict(q29(filter_movies(movies,2000,10000),\"genres\"), \"Number of Movies\")"
   ]
  },
  {
   "cell_type": "code",
   "execution_count": 37,
   "metadata": {},
   "outputs": [
    {
     "data": {
      "image/png": "[encoded data removed]",
      "text/plain": [
       "<Figure size 432x288 with 1 Axes>"
      ]
     },
     "metadata": {
      "needs_background": "light"
     },
     "output_type": "display_data"
    }
   ],
   "source": [
    "#q31\n",
    "plot_dict(q29(filter_movies(movies,2000, 10000),\"year\"), \"Number of Movies\")"
   ]
  },
  {
   "cell_type": "code",
   "execution_count": 38,
   "metadata": {},
   "outputs": [],
   "source": [
    "#just a record of hardwork\n",
    "#directors_num_movies=q29(filter_movies(movies,2000,10000),\"directors\")\n",
    "#list_directors={}\n",
    "#for i in directors_num_movies:\n",
    "#   if directors_num_movies[i]!=1:\n",
    " #       list_directors[i]=directors_num_movies[i]\n",
    "#movies_list={}\n",
    "#for i in list_directors:\n",
    " #   a=[]\n",
    "  #  for idx in movies:\n",
    "   #     if i in idx[\"directors\"]  :\n",
    "    #        a.append(idx[\"year\"])\n",
    "    #movies_list[i]=a\n",
    "\n",
    "#for i in movies_list:\n",
    "    #movies_list[i].sort()\n",
    "    #print(movies_list[i][-1]-movies_list[i][0])\n",
    "    \n",
    "\n",
    "#higher = {\"A\": 1, \"B\": 2, \"C\": 3}\n",
    "#lower = {\"A\": 2, \"B\": 4, \"C\": 4}\n",
    "#result = {}\n",
    "#for key in higher:\n",
    "#    result[key] = higher[key] -lower[key]\n",
    "#result\n"
   ]
  },
  {
   "cell_type": "code",
   "execution_count": 39,
   "metadata": {},
   "outputs": [
    {
     "data": {
      "text/plain": [
       "{'Howard Hawks': 42,\n",
       " 'Charles Chaplin': 34,\n",
       " 'Henry Hathaway': 36,\n",
       " 'Stanley Kubrick': 46,\n",
       " 'Taylor Hackford': 32,\n",
       " 'Cecil B. DeMille': 30,\n",
       " 'Lee H. Katzin': 30,\n",
       " 'Richard Fleischer': 32,\n",
       " 'Sidney Lumet': 33,\n",
       " 'George Sherman': 33,\n",
       " 'John Huston': 30,\n",
       " 'Robert Siodmak': 30,\n",
       " 'Eldar Ryazanov': 31,\n",
       " 'Martin Ritt': 32}"
      ]
     },
     "execution_count": 39,
     "metadata": {},
     "output_type": "execute_result"
    }
   ],
   "source": [
    "#q32\n",
    "def q32(key,year):\n",
    "    category=bucketize(movies,key)\n",
    "    time={}\n",
    "    for i in category:\n",
    "        y=[]\n",
    "        for idx in category[i]:\n",
    "            y.append(idx[\"year\"])\n",
    "        time[i]=y\n",
    "    \n",
    "    for i in time:\n",
    "        time[i].sort()\n",
    "        time[i]=time[i][-1]-time[i][0]\n",
    "\n",
    "    final={}\n",
    "    for i in time:\n",
    "        if time[i]>=year:\n",
    "            final[i]=time[i]\n",
    "    return final\n",
    "q32(\"directors\",30)"
   ]
  },
  {
   "cell_type": "code",
   "execution_count": 40,
   "metadata": {},
   "outputs": [
    {
     "data": {
      "text/plain": [
       "{'Kurt Russell': 50,\n",
       " 'Mickey Rooney': 75,\n",
       " 'Robert Mitchum': 51,\n",
       " 'Glenn Ford': 52,\n",
       " 'James Caan': 52,\n",
       " 'Anthony Quinn': 61,\n",
       " 'George Burns': 60,\n",
       " 'Dean Stockwell': 53}"
      ]
     },
     "execution_count": 40,
     "metadata": {},
     "output_type": "execute_result"
    }
   ],
   "source": [
    "#q33\n",
    "q32(\"actors\",50)"
   ]
  },
  {
   "cell_type": "code",
   "execution_count": 41,
   "metadata": {},
   "outputs": [
    {
     "data": {
      "text/plain": [
       "[{'name': 'Stanley Kubrick', 'span': 46},\n",
       " {'name': 'Howard Hawks', 'span': 42},\n",
       " {'name': 'Henry Hathaway', 'span': 36},\n",
       " {'name': 'Charles Chaplin', 'span': 34},\n",
       " {'name': 'Sidney Lumet', 'span': 33},\n",
       " {'name': 'George Sherman', 'span': 33},\n",
       " {'name': 'Taylor Hackford', 'span': 32},\n",
       " {'name': 'Richard Fleischer', 'span': 32},\n",
       " {'name': 'Martin Ritt', 'span': 32},\n",
       " {'name': 'Eldar Ryazanov', 'span': 31}]"
      ]
     },
     "execution_count": 41,
     "metadata": {},
     "output_type": "execute_result"
    }
   ],
   "source": [
    "#q34\n",
    "def row_ranking(row):\n",
    "    return row[\"span\"]\n",
    "\n",
    "def top_n_span(buckets, n):\n",
    "    spans = q32(buckets,30)\n",
    "    rows = []\n",
    "    for name in spans:\n",
    "        span = spans[name]\n",
    "        rows.append({\"name\": name, \"span\": span})\n",
    "    rows.sort(key=row_ranking, reverse=True)\n",
    "    return rows[0:n]\n",
    "top_n_span(\"directors\", 10)\n"
   ]
  },
  {
   "cell_type": "code",
   "execution_count": 42,
   "metadata": {},
   "outputs": [
    {
     "data": {
      "text/plain": [
       "[{'name': 'Mickey Rooney', 'span': 75},\n",
       " {'name': 'Anthony Quinn', 'span': 61},\n",
       " {'name': 'George Burns', 'span': 60},\n",
       " {'name': 'Dean Stockwell', 'span': 53},\n",
       " {'name': 'Glenn Ford', 'span': 52},\n",
       " {'name': 'James Caan', 'span': 52},\n",
       " {'name': 'Robert Mitchum', 'span': 51},\n",
       " {'name': 'Kurt Russell', 'span': 50},\n",
       " {'name': 'Robert De Niro', 'span': 49},\n",
       " {'name': 'Marlon Brando', 'span': 49}]"
      ]
     },
     "execution_count": 42,
     "metadata": {},
     "output_type": "execute_result"
    }
   ],
   "source": [
    "#q35\n",
    "top_n_span(\"actors\", 10)"
   ]
  },
  {
   "cell_type": "code",
   "execution_count": 43,
   "metadata": {},
   "outputs": [
    {
     "data": {
      "text/plain": [
       "[{'category': 'Animation', 'rating': 7.3, 'count': 45},\n",
       " {'category': 'History', 'rating': 6.7, 'count': 73},\n",
       " {'category': 'War', 'rating': 6.7, 'count': 99}]"
      ]
     },
     "execution_count": 43,
     "metadata": {},
     "output_type": "execute_result"
    }
   ],
   "source": [
    "#q36\n",
    "def q36(bucket,category):\n",
    "    group=bucketize(movies,bucket)\n",
    "    group_by={}\n",
    "    for i in group:\n",
    "        y=[]\n",
    "        for idx in group[i]:\n",
    "            y.append(idx[category])\n",
    "        y.sort()\n",
    "        if len(y)%2==1:\n",
    "            median=y[len(y)//2]\n",
    "        else:\n",
    "            median=(y[(len(y)//2)-1]+y[len(y)//2])/2\n",
    "        group_by[i]=median\n",
    "        #count=len(group[i])   \n",
    "    return group_by\n",
    "\n",
    "def row_ranking(row):\n",
    "    return row[\"rating\"]\n",
    "\n",
    "def top_n_count(buckets, category,n,minmum):\n",
    "    rating = q36(buckets,category)\n",
    "    rows = []\n",
    "    for i in rating:\n",
    "        median = rating[i]\n",
    "        count=len(bucketize(movies,buckets)[i])\n",
    "        if count < minmum:\n",
    "            continue\n",
    "        else:\n",
    "            rows.append({\"category\": i, \"rating\": median,\"count\":count})\n",
    "    rows.sort(key=row_ranking, reverse=True)\n",
    "    return rows[0:n]\n",
    "top_n_count(\"genres\", \"rating\",3,0)\n",
    "    \n"
   ]
  },
  {
   "cell_type": "code",
   "execution_count": 44,
   "metadata": {},
   "outputs": [
    {
     "data": {
      "text/plain": [
       "[{'category': 1921, 'rating': 8.3, 'count': 1},\n",
       " {'category': 1925, 'rating': 8.2, 'count': 1},\n",
       " {'category': 1919, 'rating': 7.5, 'count': 1},\n",
       " {'category': 1923, 'rating': 7.3, 'count': 2},\n",
       " {'category': 1962, 'rating': 7.2, 'count': 17},\n",
       " {'category': 1964, 'rating': 7.1, 'count': 19},\n",
       " {'category': 1957, 'rating': 7.0, 'count': 24},\n",
       " {'category': 1985, 'rating': 7.0, 'count': 17},\n",
       " {'category': 1976, 'rating': 7.0, 'count': 17},\n",
       " {'category': 1963, 'rating': 6.95, 'count': 10}]"
      ]
     },
     "execution_count": 44,
     "metadata": {},
     "output_type": "execute_result"
    }
   ],
   "source": [
    "#q37\n",
    "top_n_count(\"year\", \"rating\",10,0)"
   ]
  },
  {
   "cell_type": "code",
   "execution_count": 45,
   "metadata": {},
   "outputs": [
    {
     "data": {
      "text/plain": [
       "[{'category': 1962, 'rating': 7.2, 'count': 17},\n",
       " {'category': 1964, 'rating': 7.1, 'count': 19},\n",
       " {'category': 1957, 'rating': 7.0, 'count': 24},\n",
       " {'category': 1985, 'rating': 7.0, 'count': 17},\n",
       " {'category': 1976, 'rating': 7.0, 'count': 17}]"
      ]
     },
     "execution_count": 45,
     "metadata": {},
     "output_type": "execute_result"
    }
   ],
   "source": [
    "#q38\n",
    "top_n_count(\"year\", \"rating\",5,10)"
   ]
  },
  {
   "cell_type": "code",
   "execution_count": 46,
   "metadata": {},
   "outputs": [
    {
     "data": {
      "text/plain": [
       "[{'category': 'Christopher Nolan', 'rating': 8.5, 'count': 9},\n",
       " {'category': 'Leonid Gayday', 'rating': 8.4, 'count': 5},\n",
       " {'category': 'Stanley Kubrick', 'rating': 8.3, 'count': 11},\n",
       " {'category': 'Sergio Leone', 'rating': 8.3, 'count': 7}]"
      ]
     },
     "execution_count": 46,
     "metadata": {},
     "output_type": "execute_result"
    }
   ],
   "source": [
    "#q39\n",
    "top_n_count(\"directors\", \"rating\",4,3)"
   ]
  },
  {
   "cell_type": "code",
   "execution_count": 47,
   "metadata": {},
   "outputs": [
    {
     "data": {
      "text/plain": [
       "[{'category': 'Henry Bergman', 'rating': 8.2, 'count': 5},\n",
       " {'category': 'Ioan Gruffudd', 'rating': 8.2, 'count': 6},\n",
       " {'category': 'Robert Lindsay', 'rating': 8.2, 'count': 6}]"
      ]
     },
     "execution_count": 47,
     "metadata": {},
     "output_type": "execute_result"
    }
   ],
   "source": [
    "#q40\n",
    "top_n_count(\"actors\", \"rating\",3,5)"
   ]
  },
  {
   "cell_type": "code",
   "execution_count": null,
   "metadata": {},
   "outputs": [],
   "source": []
  },
  {
   "cell_type": "code",
   "execution_count": null,
   "metadata": {},
   "outputs": [],
   "source": []
  }
 ],
 "metadata": {
  "kernelspec": {
   "display_name": "Python 3",
   "language": "python",
   "name": "python3"
  },
  "language_info": {
   "codemirror_mode": {
    "name": "ipython",
    "version": 3
   },
   "file_extension": ".py",
   "mimetype": "text/x-python",
   "name": "python",
   "nbconvert_exporter": "python",
   "pygments_lexer": "ipython3",
   "version": "3.8.5"
  }
 },
 "nbformat": 4,
 "nbformat_minor": 2
}
