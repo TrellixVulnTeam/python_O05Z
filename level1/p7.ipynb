{
 "cells": [
  {
   "cell_type": "code",
   "execution_count": 1,
   "metadata": {},
   "outputs": [],
   "source": [
    "#project: p7\n",
    "#submitter: ytian83\n",
    "#partner: none"
   ]
  },
  {
   "cell_type": "code",
   "execution_count": 2,
   "metadata": {},
   "outputs": [],
   "source": [
    "import csv\n",
    "\n",
    "fifa_file = open('Fifa19.csv', encoding='utf-8')\n",
    "file_reader = csv.reader(fifa_file)\n",
    "player_data = list(file_reader)\n",
    "fifa_file.close()\n",
    "header = player_data[0]\n",
    "player_data = player_data[1:]\n",
    "\n",
    "#what did this do? change the type of age and overall to a float? \n",
    "for row in player_data:\n",
    "    for idx in [2,4]:\n",
    "        row[idx] = float(row[idx])"
   ]
  },
  {
   "cell_type": "code",
   "execution_count": 3,
   "metadata": {},
   "outputs": [
    {
     "name": "stdout",
     "output_type": "stream",
     "text": [
      "['Id', 'Name', 'Age', 'Nationality', 'Overall', 'Club', 'Value', 'Wage', 'Preferred Foot', 'Jersey Number', 'Height', 'Weight']\n",
      "['158023', 'L. Messi', 31.0, 'Argentina', 94.0, 'FC Barcelona', '€110.5M', '€565K', 'Left', '10', \"5'7\", '159lbs']\n",
      "['20801', 'Cristiano Ronaldo', 33.0, 'Portugal', 94.0, 'Juventus', '€77M', '€405K', 'Right', '7', \"6'2\", '183lbs']\n",
      "['190871', 'Neymar Jr', 26.0, 'Brazil', 92.0, 'Paris Saint-Germain', '€118.5M', '€290K', 'Right', '10', \"5'9\", '150lbs']\n",
      "['193080', 'De Gea', 27.0, 'Spain', 91.0, 'Manchester United', '€72M', '€260K', 'Right', '1', \"6'4\", '168lbs']\n",
      "['192985', 'K. De Bruyne', 27.0, 'Belgium', 91.0, 'Manchester City', '€102M', '€355K', 'Right', '7', \"5'11\", '154lbs']\n"
     ]
    }
   ],
   "source": [
    "print(header)\n",
    "for row in player_data[:5]:\n",
    "    print(row)\n",
    "    \n"
   ]
  },
  {
   "cell_type": "code",
   "execution_count": 7,
   "metadata": {},
   "outputs": [
    {
     "data": {
      "text/plain": [
       "'O. Pérez'"
      ]
     },
     "execution_count": 7,
     "metadata": {},
     "output_type": "execute_result"
    }
   ],
   "source": [
    "#q1\n",
    "\n",
    "def q1():\n",
    "    oldest=0\n",
    "    player=\"\"\n",
    "    for i in range (len(player_data)):\n",
    "        if player_data[i][2]> oldest:\n",
    "            oldest=player_data[i][header.index(\"Age\")]\n",
    "            player=player_data[i][1]\n",
    "    return player\n",
    "        \n",
    "q1()       "
   ]
  },
  {
   "cell_type": "code",
   "execution_count": 5,
   "metadata": {},
   "outputs": [
    {
     "data": {
      "text/plain": [
       "'L. Messi'"
      ]
     },
     "execution_count": 5,
     "metadata": {},
     "output_type": "execute_result"
    }
   ],
   "source": [
    "#q2\n",
    "\n",
    "def q2():\n",
    "    highest=0\n",
    "    player=\"\"\n",
    "    for i in range (len(player_data)):\n",
    "        wage=player_data[i][header.index(\"Wage\")][1:]\n",
    "        if wage.endswith(\"K\"):\n",
    "            wage=wage[:-1]+\"000\"\n",
    "        if wage.endswith(\"M\"):\n",
    "            wage=wage[:-1]+\"000000\"\n",
    "        if float(wage) > float(highest):\n",
    "            highest= wage\n",
    "            player=player_data[i][1]\n",
    "    return player\n",
    "        \n",
    "q2()    "
   ]
  },
  {
   "cell_type": "code",
   "execution_count": 9,
   "metadata": {},
   "outputs": [
    {
     "data": {
      "text/plain": [
       "'Neymar Jr'"
      ]
     },
     "execution_count": 9,
     "metadata": {},
     "output_type": "execute_result"
    }
   ],
   "source": [
    "#q3\n",
    "\n",
    "\n",
    "def q3():\n",
    "    highest=0\n",
    "    player=\"\"\n",
    "    for i in range (len(player_data)):\n",
    "        value = player_data[i][header.index(\"Value\")][1:]\n",
    "        if value.endswith(\"K\"):\n",
    "            value=float(value[:-1]) * 1000\n",
    "        elif value.endswith(\"M\"):\n",
    "            value=float(value[:-1]) *1000000\n",
    "        elif value.endswith(\"B\"):\n",
    "            value=float(value[:-1])*1000000000\n",
    "        if float(value) > float(highest):\n",
    "            highest= value\n",
    "            player=player_data[i][1]\n",
    "    return player\n",
    "        \n",
    "q3()    "
   ]
  },
  {
   "cell_type": "code",
   "execution_count": 11,
   "metadata": {},
   "outputs": [
    {
     "data": {
      "text/plain": [
       "'Paris Saint-Germain'"
      ]
     },
     "execution_count": 11,
     "metadata": {},
     "output_type": "execute_result"
    }
   ],
   "source": [
    "#q4\n",
    "\n",
    "def q4():\n",
    "    for i in range (len(player_data)):\n",
    "        row=player_data[i]\n",
    "        if row[1] == q3():\n",
    "            return row[5]\n",
    "\n",
    "q4()"
   ]
  },
  {
   "cell_type": "code",
   "execution_count": 15,
   "metadata": {},
   "outputs": [
    {
     "data": {
      "text/plain": [
       "['Argentina', 'Portugal', 'Brazil', 'Spain', 'Belgium']"
      ]
     },
     "execution_count": 15,
     "metadata": {},
     "output_type": "execute_result"
    }
   ],
   "source": [
    "\n",
    "def get_column(col_name):\n",
    "    list=[]\n",
    "    for i in range(len(player_data)):\n",
    "        list.append(player_data[i][header.index(str(col_name))])\n",
    "    return list\n",
    "\n",
    "#q5\n",
    "get_column(\"Nationality\")[:5]"
   ]
  },
  {
   "cell_type": "code",
   "execution_count": 16,
   "metadata": {},
   "outputs": [
    {
     "data": {
      "text/plain": [
       "['A. Abang', 'A. Abdellaoui', 'A. Abdennour', 'A. Abdi', 'A. Abdu Jaber']"
      ]
     },
     "execution_count": 16,
     "metadata": {},
     "output_type": "execute_result"
    }
   ],
   "source": [
    "#q6\n",
    "\n",
    "names=get_column(\"Name\")\n",
    "names.sort()\n",
    "names[:5]\n",
    "\n",
    "    "
   ]
  },
  {
   "cell_type": "code",
   "execution_count": 27,
   "metadata": {},
   "outputs": [
    {
     "data": {
      "text/plain": [
       "2410695.8861976163"
      ]
     },
     "execution_count": 27,
     "metadata": {},
     "output_type": "execute_result"
    }
   ],
   "source": [
    "#q7\n",
    "\n",
    "def q7(list):\n",
    "    value_list=get_column(str(list))\n",
    "    total=0\n",
    "    for i in value_list:\n",
    "        i=i[1:]\n",
    "        if i.endswith(\"K\"):\n",
    "            i=float(i[:-1]) * 1000\n",
    "        elif i.endswith(\"M\"):\n",
    "            i=float(i[:-1]) *1000000\n",
    "        elif i.endswith(\"B\"):\n",
    "            i=float(i[:-1])*1000000000\n",
    "        total += float(i)\n",
    "    average_value=total/len(value_list)\n",
    "    return average_value\n",
    "\n",
    "q7(\"Value\")"
   ]
  },
  {
   "cell_type": "code",
   "execution_count": 30,
   "metadata": {},
   "outputs": [
    {
     "data": {
      "text/plain": [
       "25.122205745043114"
      ]
     },
     "execution_count": 30,
     "metadata": {},
     "output_type": "execute_result"
    }
   ],
   "source": [
    "#q8\n",
    "\n",
    "age=get_column(\"Age\")\n",
    "average=sum(age)/len(age)\n",
    "average"
   ]
  },
  {
   "cell_type": "code",
   "execution_count": 40,
   "metadata": {
    "scrolled": true
   },
   "outputs": [
    {
     "data": {
      "text/plain": [
       "322"
      ]
     },
     "execution_count": 40,
     "metadata": {},
     "output_type": "execute_result"
    }
   ],
   "source": [
    "#q9\n",
    "\n",
    "def player_count(country):\n",
    "    count=0\n",
    "    for i in player_data:\n",
    "        row=i\n",
    "        if str(row[3]) == str(country):\n",
    "            count +=1\n",
    "    return count\n",
    "player_count(\"Portugal\")\n",
    "    "
   ]
  },
  {
   "cell_type": "code",
   "execution_count": 41,
   "metadata": {},
   "outputs": [
    {
     "data": {
      "text/plain": [
       "827"
      ]
     },
     "execution_count": 41,
     "metadata": {},
     "output_type": "execute_result"
    }
   ],
   "source": [
    "#q10\n",
    "\n",
    "player_count(\"Brazil\")"
   ]
  },
  {
   "cell_type": "code",
   "execution_count": 47,
   "metadata": {},
   "outputs": [
    {
     "data": {
      "text/plain": [
       "'England'"
      ]
     },
     "execution_count": 47,
     "metadata": {},
     "output_type": "execute_result"
    }
   ],
   "source": [
    "#q11\n",
    "country=list(set(get_column(\"Nationality\")))\n",
    "count={}\n",
    "for i in country:\n",
    "    count[i]=player_count(i)\n",
    "most = None\n",
    "for key in count:\n",
    "    if most == None or count[most] < count[key]:\n",
    "        most = key\n",
    "most"
   ]
  },
  {
   "cell_type": "code",
   "execution_count": 58,
   "metadata": {},
   "outputs": [
    {
     "data": {
      "text/plain": [
       "{'Id': '20801',\n",
       " 'Name': 'Cristiano Ronaldo',\n",
       " 'Age': 33.0,\n",
       " 'Nationality': 'Portugal',\n",
       " 'Overall': 94.0,\n",
       " 'Club': 'Juventus',\n",
       " 'Value': '€77M',\n",
       " 'Wage': '€405K',\n",
       " 'Preferred Foot': 'Right',\n",
       " 'Jersey Number': '7',\n",
       " 'Height': \"6'2\",\n",
       " 'Weight': '183lbs'}"
      ]
     },
     "execution_count": 58,
     "metadata": {},
     "output_type": "execute_result"
    }
   ],
   "source": [
    "\n",
    "\n",
    "def player_to_dict(player_id):\n",
    "    key=header\n",
    "    row=[]\n",
    "    a={}\n",
    "    for i in player_data:\n",
    "        if i[0]==player_id:\n",
    "            row=i\n",
    "    for idx in range(len(key)):\n",
    "        a[key[idx]] = row[idx]\n",
    "    return a\n",
    "\n",
    "\n",
    "#q12\n",
    "\n",
    "player_to_dict(\"20801\")"
   ]
  },
  {
   "cell_type": "code",
   "execution_count": 59,
   "metadata": {},
   "outputs": [
    {
     "data": {
      "text/plain": [
       "{'Id': '190871',\n",
       " 'Name': 'Neymar Jr',\n",
       " 'Age': 26.0,\n",
       " 'Nationality': 'Brazil',\n",
       " 'Overall': 92.0,\n",
       " 'Club': 'Paris Saint-Germain',\n",
       " 'Value': '€118.5M',\n",
       " 'Wage': '€290K',\n",
       " 'Preferred Foot': 'Right',\n",
       " 'Jersey Number': '10',\n",
       " 'Height': \"5'9\",\n",
       " 'Weight': '150lbs'}"
      ]
     },
     "execution_count": 59,
     "metadata": {},
     "output_type": "execute_result"
    }
   ],
   "source": [
    "#q13 \n",
    "player_to_dict(\"190871\")"
   ]
  },
  {
   "cell_type": "code",
   "execution_count": 60,
   "metadata": {},
   "outputs": [
    {
     "data": {
      "text/plain": [
       "{'Id': '158023',\n",
       " 'Name': 'L. Messi',\n",
       " 'Age': 31.0,\n",
       " 'Nationality': 'Argentina',\n",
       " 'Overall': 94.0,\n",
       " 'Club': 'FC Barcelona',\n",
       " 'Value': '€110.5M',\n",
       " 'Wage': '€565K',\n",
       " 'Preferred Foot': 'Left',\n",
       " 'Jersey Number': '10',\n",
       " 'Height': \"5'7\",\n",
       " 'Weight': '159lbs'}"
      ]
     },
     "execution_count": 60,
     "metadata": {},
     "output_type": "execute_result"
    }
   ],
   "source": [
    "#q14\n",
    "player_to_dict(\"158023\")"
   ]
  },
  {
   "cell_type": "code",
   "execution_count": 61,
   "metadata": {},
   "outputs": [
    {
     "data": {
      "text/plain": [
       "{'Id': '192985',\n",
       " 'Name': 'K. De Bruyne',\n",
       " 'Age': 27.0,\n",
       " 'Nationality': 'Belgium',\n",
       " 'Overall': 91.0,\n",
       " 'Club': 'Manchester City',\n",
       " 'Value': '€102M',\n",
       " 'Wage': '€355K',\n",
       " 'Preferred Foot': 'Right',\n",
       " 'Jersey Number': '7',\n",
       " 'Height': \"5'11\",\n",
       " 'Weight': '154lbs'}"
      ]
     },
     "execution_count": 61,
     "metadata": {},
     "output_type": "execute_result"
    }
   ],
   "source": [
    "#q15\n",
    "player_to_dict(\"192985\")"
   ]
  },
  {
   "cell_type": "code",
   "execution_count": 62,
   "metadata": {},
   "outputs": [
    {
     "data": {
      "text/plain": [
       "{'Finland': 67,\n",
       " 'Puerto Rico': 1,\n",
       " 'Jordan': 1,\n",
       " 'Austria': 298,\n",
       " 'Belize': 1,\n",
       " 'Iraq': 7,\n",
       " 'Bermuda': 2,\n",
       " 'Japan': 478,\n",
       " 'Eritrea': 2,\n",
       " 'United Arab Emirates': 1,\n",
       " 'Kosovo': 33,\n",
       " 'Lithuania': 8,\n",
       " 'Latvia': 6,\n",
       " 'Republic of Ireland': 368,\n",
       " 'Morocco': 85,\n",
       " 'Belarus': 4,\n",
       " 'Croatia': 126,\n",
       " 'Gabon': 15,\n",
       " 'Kenya': 10,\n",
       " 'Germany': 1198,\n",
       " 'Antigua & Barbuda': 4,\n",
       " 'Ecuador': 43,\n",
       " 'Costa Rica': 30,\n",
       " 'Cape Verde': 19,\n",
       " 'Central African Rep.': 3,\n",
       " 'England': 1662,\n",
       " 'Poland': 350,\n",
       " 'Sweden': 397,\n",
       " 'Togo': 12,\n",
       " 'Botswana': 1,\n",
       " 'São Tomé & Príncipe': 1,\n",
       " 'Chile': 391,\n",
       " 'Kazakhstan': 4,\n",
       " 'Ghana': 114,\n",
       " 'Saudi Arabia': 340,\n",
       " 'Moldova': 5,\n",
       " 'Belgium': 260,\n",
       " 'India': 30,\n",
       " 'Trinidad & Tobago': 4,\n",
       " 'Mozambique': 4,\n",
       " 'Israel': 14,\n",
       " 'Albania': 40,\n",
       " 'Palestine': 1,\n",
       " 'Northern Ireland': 80,\n",
       " 'Malta': 1,\n",
       " 'Armenia': 10,\n",
       " 'Norway': 341,\n",
       " 'Rwanda': 1,\n",
       " 'Curacao': 14,\n",
       " 'Czech Republic': 100,\n",
       " 'Burundi': 3,\n",
       " 'Argentina': 937,\n",
       " 'Guinea': 31,\n",
       " 'Cuba': 4,\n",
       " 'Venezuela': 67,\n",
       " 'Grenada': 1,\n",
       " 'Bolivia': 30,\n",
       " 'Liechtenstein': 3,\n",
       " 'Spain': 1072,\n",
       " 'St Kitts Nevis': 3,\n",
       " 'Nicaragua': 2,\n",
       " 'Syria': 9,\n",
       " 'Egypt': 31,\n",
       " 'Serbia': 126,\n",
       " 'Barbados': 3,\n",
       " 'Slovakia': 54,\n",
       " 'Mali': 43,\n",
       " 'Gambia': 15,\n",
       " 'Turkey': 303,\n",
       " 'Indonesia': 1,\n",
       " 'Tunisia': 32,\n",
       " 'Montenegro': 23,\n",
       " 'Comoros': 6,\n",
       " 'Faroe Islands': 6,\n",
       " 'Brazil': 827,\n",
       " 'Uzbekistan': 2,\n",
       " 'Russia': 79,\n",
       " 'Zimbabwe': 13,\n",
       " 'Equatorial Guinea': 5,\n",
       " 'Libya': 4,\n",
       " 'Afghanistan': 4,\n",
       " 'Peru': 37,\n",
       " 'Australia': 236,\n",
       " 'Estonia': 13,\n",
       " 'New Zealand': 44,\n",
       " 'Honduras': 16,\n",
       " 'Slovenia': 55,\n",
       " 'Iran': 17,\n",
       " 'Qatar': 1,\n",
       " 'Bulgaria': 32,\n",
       " 'Congo': 25,\n",
       " 'Panama': 15,\n",
       " 'Tanzania': 3,\n",
       " 'Cyprus': 8,\n",
       " 'Algeria': 60,\n",
       " 'El Salvador': 5,\n",
       " 'Niger': 3,\n",
       " 'Burkina Faso': 16,\n",
       " 'Hong Kong': 2,\n",
       " 'Suriname': 4,\n",
       " 'Colombia': 618,\n",
       " 'Mexico': 366,\n",
       " 'Senegal': 130,\n",
       " 'Sudan': 3,\n",
       " 'Korea Republic': 335,\n",
       " 'Paraguay': 85,\n",
       " 'DR Congo': 52,\n",
       " 'Thailand': 5,\n",
       " 'Angola': 15,\n",
       " 'Denmark': 336,\n",
       " 'Oman': 1,\n",
       " 'Scotland': 286,\n",
       " 'Netherlands': 453,\n",
       " 'Philippines': 2,\n",
       " 'Hungary': 38,\n",
       " 'South Sudan': 1,\n",
       " 'France': 914,\n",
       " 'Georgia': 26,\n",
       " 'Ethiopia': 1,\n",
       " 'FYR Macedonia': 20,\n",
       " 'Liberia': 1,\n",
       " 'Kuwait': 1,\n",
       " 'Ivory Coast': 100,\n",
       " 'Chad': 2,\n",
       " 'Madagascar': 12,\n",
       " 'Haiti': 10,\n",
       " 'Dominican Republic': 2,\n",
       " 'China PR': 392,\n",
       " 'Guinea Bissau': 15,\n",
       " 'Bosnia Herzegovina': 61,\n",
       " 'Lebanon': 1,\n",
       " 'Canada': 64,\n",
       " 'Iceland': 47,\n",
       " 'Italy': 702,\n",
       " 'Cameroon': 90,\n",
       " 'Korea DPR': 4,\n",
       " 'New Caledonia': 1,\n",
       " 'United States': 353,\n",
       " 'Mauritius': 1,\n",
       " 'Luxembourg': 8,\n",
       " 'Greece': 102,\n",
       " 'Uruguay': 149,\n",
       " 'Fiji': 1,\n",
       " 'Montserrat': 4,\n",
       " 'Benin': 15,\n",
       " 'Sierra Leone': 6,\n",
       " 'Zambia': 9,\n",
       " 'Andorra': 1,\n",
       " 'Guatemala': 3,\n",
       " 'Guam': 1,\n",
       " 'Uganda': 6,\n",
       " 'Jamaica': 32,\n",
       " 'Nigeria': 121,\n",
       " 'South Africa': 71,\n",
       " 'St Lucia': 1,\n",
       " 'Portugal': 322,\n",
       " 'Azerbaijan': 5,\n",
       " 'Guyana': 3,\n",
       " 'Romania': 54,\n",
       " 'Namibia': 3,\n",
       " 'Mauritania': 4,\n",
       " 'Ukraine': 73,\n",
       " 'Switzerland': 220,\n",
       " 'Wales': 129}"
      ]
     },
     "execution_count": 62,
     "metadata": {},
     "output_type": "execute_result"
    }
   ],
   "source": [
    "#q16\n",
    "country=list(set(get_column(\"Nationality\")))\n",
    "count={}\n",
    "for i in country:\n",
    "    count[i]=player_count(i)\n",
    "count"
   ]
  },
  {
   "cell_type": "code",
   "execution_count": 67,
   "metadata": {},
   "outputs": [
    {
     "data": {
      "text/plain": [
       "{'90': 26,\n",
       " '': 60,\n",
       " '59': 5,\n",
       " '39': 107,\n",
       " '65': 4,\n",
       " '41': 53,\n",
       " '47': 28,\n",
       " '4': 573,\n",
       " '79': 2,\n",
       " '32': 250,\n",
       " '67': 5,\n",
       " '7': 604,\n",
       " '9': 577,\n",
       " '69': 6,\n",
       " '89': 15,\n",
       " '31': 280,\n",
       " '50': 42,\n",
       " '10': 593,\n",
       " '3': 547,\n",
       " '11': 590,\n",
       " '53': 11,\n",
       " '14': 542,\n",
       " '84': 4,\n",
       " '13': 419,\n",
       " '36': 145,\n",
       " '2': 519,\n",
       " '46': 29,\n",
       " '37': 135,\n",
       " '6': 586,\n",
       " '75': 6,\n",
       " '73': 6,\n",
       " '54': 11,\n",
       " '29': 358,\n",
       " '64': 2,\n",
       " '81': 5,\n",
       " '66': 27,\n",
       " '87': 14,\n",
       " '22': 531,\n",
       " '18': 545,\n",
       " '1': 566,\n",
       " '55': 35,\n",
       " '44': 74,\n",
       " '93': 14,\n",
       " '72': 7,\n",
       " '23': 546,\n",
       " '99': 70,\n",
       " '48': 17,\n",
       " '94': 11,\n",
       " '38': 102,\n",
       " '60': 10,\n",
       " '33': 287,\n",
       " '51': 7,\n",
       " '28': 357,\n",
       " '57': 8,\n",
       " '35': 183,\n",
       " '83': 6,\n",
       " '97': 16,\n",
       " '70': 29,\n",
       " '20': 568,\n",
       " '42': 54,\n",
       " '95': 12,\n",
       " '27': 423,\n",
       " '24': 425,\n",
       " '34': 207,\n",
       " '17': 554,\n",
       " '77': 77,\n",
       " '71': 10,\n",
       " '56': 17,\n",
       " '26': 390,\n",
       " '30': 371,\n",
       " '78': 5,\n",
       " '92': 10,\n",
       " '8': 612,\n",
       " '19': 545,\n",
       " '58': 5,\n",
       " '63': 4,\n",
       " '98': 21,\n",
       " '68': 4,\n",
       " '86': 4,\n",
       " '80': 16,\n",
       " '49': 19,\n",
       " '76': 4,\n",
       " '96': 13,\n",
       " '85': 1,\n",
       " '21': 536,\n",
       " '74': 2,\n",
       " '45': 47,\n",
       " '40': 114,\n",
       " '91': 21,\n",
       " '52': 10,\n",
       " '88': 44,\n",
       " '12': 390,\n",
       " '25': 409,\n",
       " '16': 517,\n",
       " '15': 501,\n",
       " '5': 579,\n",
       " '43': 41,\n",
       " '62': 6,\n",
       " '82': 5,\n",
       " '61': 7}"
      ]
     },
     "execution_count": 67,
     "metadata": {},
     "output_type": "execute_result"
    }
   ],
   "source": [
    "#q17\n",
    "\n",
    "def player_count_plus(a):\n",
    "    count=0\n",
    "    for i in player_data:\n",
    "        row=i\n",
    "        if str(row[9]) == str(a):\n",
    "            count +=1\n",
    "    return count\n",
    "\n",
    "title=list(set(get_column(\"Jersey Number\")))\n",
    "count={}\n",
    "for i in title:\n",
    "    count[i]=player_count_plus(i)\n",
    "count\n"
   ]
  },
  {
   "cell_type": "code",
   "execution_count": 84,
   "metadata": {},
   "outputs": [
    {
     "data": {
      "text/plain": [
       "{'90': 65.61538461538461,\n",
       " '': 61.63333333333333,\n",
       " '59': 57.2,\n",
       " '39': 62.52336448598131,\n",
       " '65': 58.5,\n",
       " '41': 61.37735849056604,\n",
       " '47': 63.57142857142857,\n",
       " '4': 67.76614310645724,\n",
       " '79': 71.5,\n",
       " '32': 62.152,\n",
       " '67': 64.6,\n",
       " '7': 68.87251655629139,\n",
       " '9': 69.28769497400347,\n",
       " '69': 68.66666666666667,\n",
       " '89': 65.4,\n",
       " '31': 63.06785714285714,\n",
       " '50': 62.30952380952381,\n",
       " '10': 70.38617200674537,\n",
       " '3': 67.38939670932358,\n",
       " '11': 68.3406779661017,\n",
       " '53': 62.45454545454545,\n",
       " '14': 66.9870848708487,\n",
       " '84': 63.75,\n",
       " '13': 66.90214797136038,\n",
       " '36': 60.5448275862069,\n",
       " '2': 67.58766859344894,\n",
       " '46': 60.206896551724135,\n",
       " '37': 61.785185185185185,\n",
       " '6': 68.19283276450511,\n",
       " '75': 66.5,\n",
       " '73': 64.33333333333333,\n",
       " '54': 61.0,\n",
       " '29': 63.92178770949721,\n",
       " '64': 62.5,\n",
       " '81': 65.0,\n",
       " '66': 63.77777777777778,\n",
       " '87': 68.35714285714286,\n",
       " '22': 66.31638418079096,\n",
       " '18': 66.45688073394496,\n",
       " '1': 68.35689045936395,\n",
       " '55': 63.0,\n",
       " '44': 64.70270270270271,\n",
       " '93': 67.28571428571429,\n",
       " '72': 65.0,\n",
       " '23': 66.46886446886447,\n",
       " '99': 64.35714285714286,\n",
       " '48': 61.470588235294116,\n",
       " '94': 66.72727272727273,\n",
       " '38': 61.77450980392157,\n",
       " '60': 64.1,\n",
       " '33': 63.29965156794425,\n",
       " '51': 58.0,\n",
       " '28': 63.943977591036415,\n",
       " '57': 68.125,\n",
       " '35': 60.92896174863388,\n",
       " '83': 67.66666666666667,\n",
       " '97': 62.4375,\n",
       " '70': 64.72413793103448,\n",
       " '20': 66.7306338028169,\n",
       " '42': 62.5,\n",
       " '95': 65.25,\n",
       " '27': 64.36170212765957,\n",
       " '24': 64.65411764705883,\n",
       " '34': 62.072463768115945,\n",
       " '17': 66.9115523465704,\n",
       " '77': 66.1038961038961,\n",
       " '71': 64.5,\n",
       " '56': 65.11764705882354,\n",
       " '26': 64.04358974358975,\n",
       " '30': 63.1644204851752,\n",
       " '78': 65.6,\n",
       " '92': 68.9,\n",
       " '8': 68.83006535947712,\n",
       " '19': 66.63669724770642,\n",
       " '58': 62.8,\n",
       " '63': 69.0,\n",
       " '98': 60.904761904761905,\n",
       " '68': 67.0,\n",
       " '86': 64.0,\n",
       " '80': 63.4375,\n",
       " '49': 59.68421052631579,\n",
       " '76': 68.0,\n",
       " '96': 64.53846153846153,\n",
       " '85': 57.0,\n",
       " '21': 66.2723880597015,\n",
       " '74': 67.5,\n",
       " '45': 62.0,\n",
       " '40': 61.51754385964912,\n",
       " '91': 66.76190476190476,\n",
       " '52': 61.8,\n",
       " '88': 66.5,\n",
       " '12': 65.43076923076923,\n",
       " '25': 64.59413202933985,\n",
       " '16': 66.08510638297872,\n",
       " '15': 66.53493013972056,\n",
       " '5': 68.49740932642487,\n",
       " '43': 60.048780487804876,\n",
       " '62': 62.0,\n",
       " '82': 59.8,\n",
       " '61': 61.57142857142857}"
      ]
     },
     "execution_count": 84,
     "metadata": {},
     "output_type": "execute_result"
    }
   ],
   "source": [
    "#q18\n",
    "\n",
    "title=list(set(get_column(\"Jersey Number\")))\n",
    "s={}\n",
    "for i in title:\n",
    "    total=0\n",
    "    for row in player_data:\n",
    "        if str(row[9])== str(i):\n",
    "            total= total+row[4]\n",
    "    s[i]= total\n",
    "\n",
    "result = {}\n",
    "for key in count:\n",
    "    result[key] = s[key] / count[key]\n",
    "result\n"
   ]
  },
  {
   "cell_type": "code",
   "execution_count": 88,
   "metadata": {},
   "outputs": [
    {
     "data": {
      "text/plain": [
       "'79'"
      ]
     },
     "execution_count": 88,
     "metadata": {},
     "output_type": "execute_result"
    }
   ],
   "source": [
    "#q19\n",
    "best = None\n",
    "for key in result:\n",
    "    if best == None or result[best] < result[key]:\n",
    "        best = key\n",
    "\n",
    "best"
   ]
  },
  {
   "cell_type": "code",
   "execution_count": 92,
   "metadata": {},
   "outputs": [
    {
     "data": {
      "text/plain": [
       "'Real Madrid'"
      ]
     },
     "execution_count": 92,
     "metadata": {},
     "output_type": "execute_result"
    }
   ],
   "source": [
    "#q20\n",
    "def player_count_club(a):\n",
    "    count=0\n",
    "    for i in player_data:\n",
    "        row=i\n",
    "        if str(row[5]) == str(a):\n",
    "            count +=1\n",
    "    return count\n",
    "\n",
    "title=list(set(get_column(\"Club\")))\n",
    "count={}\n",
    "for i in title:\n",
    "    count[i]=player_count_club(i)\n",
    "\n",
    "b={}\n",
    "for i in title:\n",
    "    total=0\n",
    "    for row in player_data:\n",
    "        if str(row[5])== str(i):\n",
    "            wage=row[7][1:]\n",
    "            if wage.endswith(\"K\"):\n",
    "                wage=float(wage[:-1])*1000\n",
    "            elif wage.endswith(\"M\"):\n",
    "                wage=float(wage[:-1])*1000000\n",
    "            total= total+ float(wage)\n",
    "    b[i]= total\n",
    "\n",
    "result = {}\n",
    "for key in count:\n",
    "    result[key] = b[key] / count[key]\n",
    "\n",
    "best = None\n",
    "for key in result:\n",
    "    if best == None or result[best] < result[key]:\n",
    "        best = key\n",
    "\n",
    "best"
   ]
  },
  {
   "cell_type": "code",
   "execution_count": null,
   "metadata": {},
   "outputs": [],
   "source": []
  }
 ],
 "metadata": {
  "kernelspec": {
   "display_name": "Python 3",
   "language": "python",
   "name": "python3"
  },
  "language_info": {
   "codemirror_mode": {
    "name": "ipython",
    "version": 3
   },
   "file_extension": ".py",
   "mimetype": "text/x-python",
   "name": "python",
   "nbconvert_exporter": "python",
   "pygments_lexer": "ipython3",
   "version": "3.7.4"
  }
 },
 "nbformat": 4,
 "nbformat_minor": 2
}
