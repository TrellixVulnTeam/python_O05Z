{
 "cells": [
  {
   "cell_type": "code",
   "execution_count": 1,
   "metadata": {},
   "outputs": [],
   "source": [
    "import csv\n",
    "\n",
    "# copied from https://automatetheboringstuff.com/chapter14/\n",
    "def process_csv(filename):\n",
    "    exampleFile = open(filename, encoding=\"utf-8\")\n",
    "    exampleReader = csv.reader(exampleFile)\n",
    "    exampleData = list(exampleReader)\n",
    "    exampleFile.close()\n",
    "    return exampleData\n",
    "\n",
    "# use process_csv to pull out the header and data rows\n",
    "csv_rows = process_csv(\"wine.csv\")\n",
    "csv_header = csv_rows[0]\n",
    "csv_data = csv_rows[1:]"
   ]
  },
  {
   "cell_type": "code",
   "execution_count": 2,
   "metadata": {},
   "outputs": [
    {
     "data": {
      "text/plain": [
       "['country', 'points', 'price', 'variety', 'winery', 'description']"
      ]
     },
     "execution_count": 2,
     "metadata": {},
     "output_type": "execute_result"
    }
   ],
   "source": [
    "csv_header\n"
   ]
  },
  {
   "cell_type": "code",
   "execution_count": 3,
   "metadata": {},
   "outputs": [
    {
     "data": {
      "text/plain": [
       "1501"
      ]
     },
     "execution_count": 3,
     "metadata": {},
     "output_type": "execute_result"
    }
   ],
   "source": [
    "len(csv_data)\n"
   ]
  },
  {
   "cell_type": "code",
   "execution_count": 4,
   "metadata": {},
   "outputs": [
    {
     "data": {
      "text/plain": [
       "[['US',\n",
       "  '96',\n",
       "  '235.0',\n",
       "  'Cabernet Sauvignon',\n",
       "  'Heitz',\n",
       "  'This tremendous 100% varietal wine hails from Oakville and was aged over three years in oak. Juicy red-cherry fruit and a compelling hint of caramel greet the palate, framed by elegant, fine tannins and a subtle minty tone in the background. Balanced and rewarding from start to finish, it has years ahead of it to develop further nuance. Enjoy 2022–2030.'],\n",
       " ['Spain',\n",
       "  '96',\n",
       "  '110.0',\n",
       "  'Tinta de Toro',\n",
       "  'Bodega Carmen Rodríguez',\n",
       "  'Ripe aromas of fig, blackberry and cassis are softened and sweetened by a slathering of oaky chocolate and vanilla. This is full, layered, intense and cushioned on the palate, with rich flavors of chocolaty black fruits and baking spices. A toasty, everlasting finish is heady but ideally balanced. Drink through 2023.'],\n",
       " ['US',\n",
       "  '96',\n",
       "  '90.0',\n",
       "  'Sauvignon Blanc',\n",
       "  'Macauley',\n",
       "  'Mac Watson honors the memory of a wine once made by his mother in this tremendously delicious, balanced and complex botrytised white. Dark gold in color, it layers toasted hazelnut, pear compote and orange peel flavors, reveling in the succulence of its 122 g/L of residual sugar.'],\n",
       " ['US',\n",
       "  '96',\n",
       "  '65.0',\n",
       "  'Pinot Noir',\n",
       "  'Ponzi',\n",
       "  \"This spent 20 months in 30% new French oak, and incorporates fruit from Ponzi's Aurora, Abetina and Madrona vineyards, among others. Aromatic, dense and toasty, it deftly blends aromas and flavors of toast, cigar box, blackberry, black cherry, coffee and graphite. Tannins are polished to a fine sheen, and frame a finish loaded with dark chocolate and espresso. Drink now through 2032.\"],\n",
       " ['France',\n",
       "  '95',\n",
       "  '66.0',\n",
       "  'Provence red blend',\n",
       "  'Domaine de la Bégude',\n",
       "  'This is the top wine from La Bégude, named after the highest point in the vineyard at 1200 feet. It has structure, density and considerable acidity that is still calming down. With 18 months in wood, the wine has developing an extra richness and concentration. Produced by the Tari family, formerly of Château Giscours in Margaux, it is a wine made for aging. Drink from 2020.']]"
      ]
     },
     "execution_count": 4,
     "metadata": {},
     "output_type": "execute_result"
    }
   ],
   "source": [
    "csv_data[:5]\n"
   ]
  },
  {
   "cell_type": "code",
   "execution_count": 5,
   "metadata": {},
   "outputs": [
    {
     "data": {
      "text/plain": [
       "['US',\n",
       " '96',\n",
       " '235.0',\n",
       " 'Cabernet Sauvignon',\n",
       " 'Heitz',\n",
       " 'This tremendous 100% varietal wine hails from Oakville and was aged over three years in oak. Juicy red-cherry fruit and a compelling hint of caramel greet the palate, framed by elegant, fine tannins and a subtle minty tone in the background. Balanced and rewarding from start to finish, it has years ahead of it to develop further nuance. Enjoy 2022–2030.']"
      ]
     },
     "execution_count": 5,
     "metadata": {},
     "output_type": "execute_result"
    }
   ],
   "source": [
    "csv_data[0]\n"
   ]
  },
  {
   "cell_type": "code",
   "execution_count": 6,
   "metadata": {},
   "outputs": [
    {
     "data": {
      "text/plain": [
       "'Cabernet Sauvignon'"
      ]
     },
     "execution_count": 6,
     "metadata": {},
     "output_type": "execute_result"
    }
   ],
   "source": [
    "csv_data[0][3]\n"
   ]
  },
  {
   "cell_type": "code",
   "execution_count": 7,
   "metadata": {},
   "outputs": [
    {
     "data": {
      "text/plain": [
       "3"
      ]
     },
     "execution_count": 7,
     "metadata": {},
     "output_type": "execute_result"
    }
   ],
   "source": [
    "csv_header.index(\"variety\")"
   ]
  },
  {
   "cell_type": "code",
   "execution_count": 8,
   "metadata": {},
   "outputs": [
    {
     "data": {
      "text/plain": [
       "'Cabernet Sauvignon'"
      ]
     },
     "execution_count": 8,
     "metadata": {},
     "output_type": "execute_result"
    }
   ],
   "source": [
    "csv_data[0][csv_header.index(\"variety\")]"
   ]
  },
  {
   "cell_type": "code",
   "execution_count": 9,
   "metadata": {},
   "outputs": [
    {
     "name": "stdout",
     "output_type": "stream",
     "text": [
      "3\n"
     ]
    }
   ],
   "source": [
    "letters = [\"1\", \"2\", \"3\", \"4\"]\n",
    "print(letters.index(max(letters)))"
   ]
  },
  {
   "cell_type": "code",
   "execution_count": 10,
   "metadata": {},
   "outputs": [
    {
     "data": {
      "text/plain": [
       "'Tinta de Toro'"
      ]
     },
     "execution_count": 10,
     "metadata": {},
     "output_type": "execute_result"
    }
   ],
   "source": [
    "csv_data[1][3]"
   ]
  },
  {
   "cell_type": "code",
   "execution_count": 11,
   "metadata": {},
   "outputs": [
    {
     "data": {
      "text/plain": [
       "'Ponzi'"
      ]
     },
     "execution_count": 11,
     "metadata": {},
     "output_type": "execute_result"
    }
   ],
   "source": [
    "csv_data[3][csv_header.index(\"winery\")]"
   ]
  },
  {
   "cell_type": "code",
   "execution_count": 61,
   "metadata": {},
   "outputs": [
    {
     "data": {
      "text/plain": [
       "['US',\n",
       " '96',\n",
       " '90.0',\n",
       " 'Sauvignon Blanc',\n",
       " 'Macauley',\n",
       " 'Mac Watson honors the memory of a wine once made by his mother in this tremendously delicious, balanced and complex botrytised white. Dark gold in color, it layers toasted hazelnut, pear compote and orange peel flavors, reveling in the succulence of its 122 g/L of residual sugar.']"
      ]
     },
     "execution_count": 61,
     "metadata": {},
     "output_type": "execute_result"
    }
   ],
   "source": [
    "csv_data[2]"
   ]
  },
  {
   "cell_type": "code",
   "execution_count": 13,
   "metadata": {},
   "outputs": [
    {
     "data": {
      "text/plain": [
       "'US'"
      ]
     },
     "execution_count": 13,
     "metadata": {},
     "output_type": "execute_result"
    }
   ],
   "source": [
    "csv_data[0][csv_header.index(\"country\")]"
   ]
  },
  {
   "cell_type": "code",
   "execution_count": 14,
   "metadata": {},
   "outputs": [],
   "source": [
    "def cell(row_idx, col_name):\n",
    "    col_idx = csv_header.index(col_name)\n",
    "    val = csv_data[row_idx][col_idx]\n",
    "    if val == \"\":\n",
    "        return None\n",
    "    # optional: convert types based on column name?\n",
    "    return val"
   ]
  },
  {
   "cell_type": "code",
   "execution_count": 15,
   "metadata": {},
   "outputs": [
    {
     "data": {
      "text/plain": [
       "'US'"
      ]
     },
     "execution_count": 15,
     "metadata": {},
     "output_type": "execute_result"
    }
   ],
   "source": [
    "cell(0, \"country\")\n"
   ]
  },
  {
   "cell_type": "code",
   "execution_count": 16,
   "metadata": {},
   "outputs": [
    {
     "data": {
      "text/plain": [
       "'96'"
      ]
     },
     "execution_count": 16,
     "metadata": {},
     "output_type": "execute_result"
    }
   ],
   "source": [
    "cell(1, \"points\")\n"
   ]
  },
  {
   "cell_type": "code",
   "execution_count": 17,
   "metadata": {},
   "outputs": [
    {
     "data": {
      "text/plain": [
       "'90.0'"
      ]
     },
     "execution_count": 17,
     "metadata": {},
     "output_type": "execute_result"
    }
   ],
   "source": [
    "cell(2, \"price\")"
   ]
  },
  {
   "cell_type": "code",
   "execution_count": 18,
   "metadata": {},
   "outputs": [
    {
     "data": {
      "text/plain": [
       "'Pinot Noir'"
      ]
     },
     "execution_count": 18,
     "metadata": {},
     "output_type": "execute_result"
    }
   ],
   "source": [
    "cell(3, \"variety\")"
   ]
  },
  {
   "cell_type": "code",
   "execution_count": 19,
   "metadata": {},
   "outputs": [
    {
     "name": "stdout",
     "output_type": "stream",
     "text": [
      "original list: ['A', 'B', 'C']\n",
      "returned value: None\n"
     ]
    }
   ],
   "source": [
    "letters = [\"B\", \"C\", \"A\"]\n",
    "\n",
    "result = letters.sort()\n",
    "\n",
    "print(\"original list:\", letters)\n",
    "print(\"returned value:\", result)"
   ]
  },
  {
   "cell_type": "code",
   "execution_count": 20,
   "metadata": {},
   "outputs": [
    {
     "name": "stdout",
     "output_type": "stream",
     "text": [
      "original list: ['B', 'C', 'A']\n",
      "returned value: ['A', 'B', 'C']\n"
     ]
    }
   ],
   "source": [
    "letters = [\"B\", \"C\", \"A\"]\n",
    "\n",
    "result = sorted(letters)\n",
    "\n",
    "print(\"original list:\", letters)\n",
    "print(\"returned value:\", result)"
   ]
  },
  {
   "cell_type": "code",
   "execution_count": 21,
   "metadata": {},
   "outputs": [
    {
     "name": "stdout",
     "output_type": "stream",
     "text": [
      "original str: abc\n",
      "returned value: ['a', 'b', 'c']\n"
     ]
    }
   ],
   "source": [
    "s = \"abc\"\n",
    "\n",
    "result = sorted(s)\n",
    "\n",
    "print(\"original str:\", s)\n",
    "print(\"returned value:\", result)"
   ]
  },
  {
   "cell_type": "code",
   "execution_count": 22,
   "metadata": {},
   "outputs": [
    {
     "name": "stdout",
     "output_type": "stream",
     "text": [
      "original list: ['C', 'A']\n",
      "returned value: B\n"
     ]
    }
   ],
   "source": [
    "letters = [\"B\", \"C\", \"A\"]\n",
    "\n",
    "result = letters.pop(0)\n",
    "\n",
    "print(\"original list:\", letters)\n",
    "print(\"returned value:\", result)\n"
   ]
  },
  {
   "cell_type": "code",
   "execution_count": 23,
   "metadata": {},
   "outputs": [
    {
     "name": "stdout",
     "output_type": "stream",
     "text": [
      "['A', 'B', 'C']\n",
      "{'A', 'B', 'C'}\n"
     ]
    }
   ],
   "source": [
    "example_list = [\"A\", \"B\", \"C\"]\n",
    "print(example_list)\n",
    "example_set = {\"A\", \"B\", \"C\"}\n",
    "print(example_set)"
   ]
  },
  {
   "cell_type": "code",
   "execution_count": 24,
   "metadata": {},
   "outputs": [
    {
     "data": {
      "text/plain": [
       "True"
      ]
     },
     "execution_count": 24,
     "metadata": {},
     "output_type": "execute_result"
    }
   ],
   "source": [
    "\"A\" in example_list"
   ]
  },
  {
   "cell_type": "code",
   "execution_count": 25,
   "metadata": {},
   "outputs": [
    {
     "data": {
      "text/plain": [
       "True"
      ]
     },
     "execution_count": 25,
     "metadata": {},
     "output_type": "execute_result"
    }
   ],
   "source": [
    "\"A\" in example_set"
   ]
  },
  {
   "cell_type": "code",
   "execution_count": 26,
   "metadata": {},
   "outputs": [
    {
     "data": {
      "text/plain": [
       "'A'"
      ]
     },
     "execution_count": 26,
     "metadata": {},
     "output_type": "execute_result"
    }
   ],
   "source": [
    "example_list[0]  # works\n"
   ]
  },
  {
   "cell_type": "code",
   "execution_count": 3,
   "metadata": {},
   "outputs": [
    {
     "data": {
      "text/plain": [
       "False"
      ]
     },
     "execution_count": 3,
     "metadata": {},
     "output_type": "execute_result"
    }
   ],
   "source": [
    "[\"A\", \"B\", \"C\"] == [\"C\", \"B\", \"A\"]"
   ]
  },
  {
   "cell_type": "code",
   "execution_count": 1,
   "metadata": {},
   "outputs": [
    {
     "data": {
      "text/plain": [
       "True"
      ]
     },
     "execution_count": 1,
     "metadata": {},
     "output_type": "execute_result"
    }
   ],
   "source": [
    "[\"A\", \"B\", \"C\"] == [\"A\", \"B\", \"C\"]"
   ]
  },
  {
   "cell_type": "code",
   "execution_count": 2,
   "metadata": {},
   "outputs": [
    {
     "data": {
      "text/plain": [
       "True"
      ]
     },
     "execution_count": 2,
     "metadata": {},
     "output_type": "execute_result"
    }
   ],
   "source": [
    "{\"A\", \"B\", \"C\"} == {\"C\", \"B\", \"A\"}"
   ]
  },
  {
   "cell_type": "code",
   "execution_count": 4,
   "metadata": {},
   "outputs": [
    {
     "name": "stdout",
     "output_type": "stream",
     "text": [
      "{1, 2, 3}\n"
     ]
    }
   ],
   "source": [
    "items = [3,2,1]\n",
    "items_set = set(items)\n",
    "print(items_set)"
   ]
  },
  {
   "cell_type": "code",
   "execution_count": 5,
   "metadata": {},
   "outputs": [
    {
     "name": "stdout",
     "output_type": "stream",
     "text": [
      "[1, 2, 3]\n"
     ]
    }
   ],
   "source": [
    "items = {3,2,1}\n",
    "items_list = list(items)\n",
    "print(items_list)"
   ]
  },
  {
   "cell_type": "code",
   "execution_count": 7,
   "metadata": {},
   "outputs": [
    {
     "name": "stdout",
     "output_type": "stream",
     "text": [
      "3.0\n"
     ]
    }
   ],
   "source": [
    "x = 3.8\n",
    "y = float(int(x))\n",
    "print(y)"
   ]
  },
  {
   "cell_type": "code",
   "execution_count": 6,
   "metadata": {},
   "outputs": [
    {
     "name": "stdout",
     "output_type": "stream",
     "text": [
      "['A', 'B', 'C']\n"
     ]
    }
   ],
   "source": [
    "list_1 = [\"A\", \"A\", \"B\", \"B\", \"C\", \"B\", \"A\"] # try playing with different values here\n",
    "list_2 = list(set(list_1))\n",
    "print(list_2)"
   ]
  },
  {
   "cell_type": "code",
   "execution_count": null,
   "metadata": {},
   "outputs": [],
   "source": [
    "int(float(csv_data[0][csv_header.index(\"price\")]))\n"
   ]
  },
  {
   "cell_type": "code",
   "execution_count": null,
   "metadata": {},
   "outputs": [],
   "source": [
    "for i in range (len(csv_data)):\n",
    "    int(float(csv_data[i][csv_header.index(\"price\")]))\n"
   ]
  },
  {
   "cell_type": "code",
   "execution_count": null,
   "metadata": {},
   "outputs": [],
   "source": [
    "price1=0\n",
    "most=0\n",
    "if csv_data[i][csv_header.index(\"country\")] == \"US\" :\n",
    "                    price1=(int(csv_data[i][csv_header.index(\"points\")])) \n",
    "                    if price1 > int(most):\n",
    "                        most = price1\n",
    "                        fancy.append(csv_data[i][csv_header.index(\"winery\")"
   ]
  },
  {
   "cell_type": "code",
   "execution_count": null,
   "metadata": {},
   "outputs": [],
   "source": [
    "type(csv_data[34][csv_header.index(\"price\")])"
   ]
  },
  {
   "cell_type": "code",
   "execution_count": 60,
   "metadata": {},
   "outputs": [
    {
     "data": {
      "text/plain": [
       "15"
      ]
     },
     "execution_count": 60,
     "metadata": {},
     "output_type": "execute_result"
    }
   ],
   "source": [
    "list=[1,2,3,4,5]\n",
    "sum(list)\n"
   ]
  },
  {
   "cell_type": "code",
   "execution_count": null,
   "metadata": {},
   "outputs": [],
   "source": [
    "def ppd(key,value):\n",
    "    points=0\n",
    "    price=0\n",
    "    avg_ppd=[]\n",
    "    for i in range (len(csv_data)):\n",
    "        if csv_data[i][csv_header.index(str(key))]!= \"\":\n",
    "            if csv_data[i][csv_header.index(str(key))] == value:\n",
    "                points= int(float(csv_data[i][csv_header.index(\"points\")]))\n",
    "                price= int(float(csv_data[i][csv_header.index(\"price\")]))\n",
    "                ppd=points/price\n",
    "                avg_ppd.append(ppd)        \n",
    "    return sum(avg_ppd)/len(avg_ppd)"
   ]
  },
  {
   "cell_type": "code",
   "execution_count": 70,
   "metadata": {},
   "outputs": [
    {
     "data": {
      "text/plain": [
       "['Heitz']"
      ]
     },
     "execution_count": 70,
     "metadata": {},
     "output_type": "execute_result"
    }
   ],
   "source": [
    "def country_low(country):\n",
    "    lowest_row=[]\n",
    "    lowest=100\n",
    "    winery=[]\n",
    "    for i in range (len(csv_data)):\n",
    "        row=csv_data[i]\n",
    "        if row[0] == country:\n",
    "            the_ppd=ppd(\"winery\", row[4])\n",
    "            if the_ppd<lowest:\n",
    "                lowest=the_ppd\n",
    "                lowest_row.append(i)            \n",
    "    for i in range (len(lowest_row)):\n",
    "        winery.append(csv_data[i][4])\n",
    "    return winery\n",
    "\n",
    "country_low(\"New Zealand\")"
   ]
  },
  {
   "cell_type": "code",
   "execution_count": 59,
   "metadata": {},
   "outputs": [
    {
     "data": {
      "text/plain": [
       "[2.8181818181818183, 2.325, 1.7733282481566235]"
      ]
     },
     "execution_count": 59,
     "metadata": {},
     "output_type": "execute_result"
    }
   ],
   "source": [
    "\n",
    "\n",
    "def fitter_country(country):\n",
    "    winery=[]\n",
    "    for i in range (len(csv_data)):\n",
    "        if csv_data[i][csv_header.index(\"country\")] == str(country):\n",
    "            winery.append(csv_data[i][csv_header.index(\"winery\")])\n",
    "        for i in range (len(winery)):\n",
    "            ppd(\"winery\",winery[i])\n",
    "    return winery\n",
    "\n",
    "winery=list(set(fitter_country(\"New Zealand\")))\n",
    "\n",
    "\n",
    "s=[]\n",
    "for i in range (len(winery)):\n",
    "    average = ppd(\"winery\", winery[i])\n",
    "    s.append(average)\n",
    "s\n",
    "\n"
   ]
  },
  {
   "cell_type": "code",
   "execution_count": null,
   "metadata": {},
   "outputs": [],
   "source": [
    "def fitter_country(country):\n",
    "    winery=[]\n",
    "    for i in range (len(csv_data)):\n",
    "        if csv_data[i][csv_header.index(\"country\")] == str(country):\n",
    "            winery.append(csv_data[i][csv_header.index(\"winery\")])\n",
    "    return set(winery)\n",
    "                \n",
    "fitter_country(\"New Zealand\")\n",
    "\n",
    "                "
   ]
  },
  {
   "cell_type": "code",
   "execution_count": 44,
   "metadata": {},
   "outputs": [
    {
     "data": {
      "text/plain": [
       "['Spy Valley', 'Felton Road', 'Kumeu River']"
      ]
     },
     "execution_count": 44,
     "metadata": {},
     "output_type": "execute_result"
    }
   ],
   "source": [
    "def fitter_country(country):\n",
    "    winery=[]\n",
    "    for i in range (len(csv_data)):\n",
    "        if csv_data[i][csv_header.index(\"country\")] == str(country):\n",
    "            winery.append(csv_data[i][csv_header.index(\"winery\")])\n",
    "    return winery\n",
    "\n",
    "winery=list(set(fitter_country(\"New Zealand\")))\n",
    "\n",
    "winery\n"
   ]
  },
  {
   "cell_type": "code",
   "execution_count": 46,
   "metadata": {},
   "outputs": [
    {
     "data": {
      "text/plain": [
       "str"
      ]
     },
     "execution_count": 46,
     "metadata": {},
     "output_type": "execute_result"
    }
   ],
   "source": [
    "type(winery[0])"
   ]
  },
  {
   "cell_type": "code",
   "execution_count": null,
   "metadata": {},
   "outputs": [],
   "source": []
  }
 ],
 "metadata": {
  "kernelspec": {
   "display_name": "Python 3",
   "language": "python",
   "name": "python3"
  },
  "language_info": {
   "codemirror_mode": {
    "name": "ipython",
    "version": 3
   },
   "file_extension": ".py",
   "mimetype": "text/x-python",
   "name": "python",
   "nbconvert_exporter": "python",
   "pygments_lexer": "ipython3",
   "version": "3.7.4"
  }
 },
 "nbformat": 4,
 "nbformat_minor": 2
}
