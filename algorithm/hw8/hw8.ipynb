{
 "cells": [
  {
   "cell_type": "code",
   "execution_count": 1,
   "metadata": {},
   "outputs": [
    {
     "name": "stdout",
     "output_type": "stream",
     "text": [
      "3 4\n",
      "0 0 1 0 \n",
      "1 1 0 1 \n",
      "0 0 1 0\n"
     ]
    }
   ],
   "source": [
    "input_size = input()\n",
    "input_size=input_size.split()\n",
    "r = int(input_size[0]); c = int(input_size[1]); size = r + c + 2\n",
    "m = [[0 for i in range(size)] for j in range(size)]\n",
    "for i in range(1, r+1):\n",
    "    m[0][i] = 1\n",
    "    m[size-1-i][size-1] = 1\n",
    "    temp=input()\n",
    "    for j in range(c):\n",
    "        t=temp.split()\n",
    "        m[i][j+r+1]=int(t[j])"
   ]
  },
  {
   "cell_type": "code",
   "execution_count": 5,
   "metadata": {},
   "outputs": [
    {
     "name": "stdout",
     "output_type": "stream",
     "text": [
      "2\n"
     ]
    }
   ],
   "source": [
    "from collections import defaultdict\n",
    "class Graph:\n",
    "    def __init__(self, graph):\n",
    "        self.graph = graph  \n",
    "        self.row = len(graph)\n",
    "    def bfs(self,node,t,pa):\n",
    "        meet = [False]*(self.row)\n",
    "        q = []\n",
    "        q.append(node)\n",
    "        meet[node] = True\n",
    "        while q:\n",
    "            p = q.pop(0)\n",
    "            for i, value in enumerate(self.graph[p]):\n",
    "                if meet[i] == False and value > 0:\n",
    "                    q.append(i)\n",
    "                    meet[i] = True\n",
    "                    pa[i] = p\n",
    "        return True if meet[t] else False\n",
    "\n",
    "    def ff(self, source, sink):\n",
    "        p = [-1]*(self.row)\n",
    "        flow = 0 \n",
    "        while self.bfs(source, sink, p) :\n",
    "            pf = float(\"Inf\")\n",
    "            s = sink\n",
    "            while(s !=  source):\n",
    "                pf = min(pf, self.graph[p[s]][s])\n",
    "                s = p[s]\n",
    "            flow +=pf\n",
    "            v = sink\n",
    "            while(v !=  source):\n",
    "                u = p[v]\n",
    "                self.graph[u][v] -= pf\n",
    "                self.graph[v][u] += pf\n",
    "                v = p[v]\n",
    "        return flow\n",
    " \n",
    "\n",
    "g = Graph(m) \n",
    "source = 0; \n",
    "sink = r+ c + 1\n",
    "print (g.ff(source, sink))\n",
    " \n",
    "\n"
   ]
  },
  {
   "cell_type": "code",
   "execution_count": null,
   "metadata": {},
   "outputs": [],
   "source": []
  }
 ],
 "metadata": {
  "kernelspec": {
   "display_name": "Python 3",
   "language": "python",
   "name": "python3"
  },
  "language_info": {
   "codemirror_mode": {
    "name": "ipython",
    "version": 3
   },
   "file_extension": ".py",
   "mimetype": "text/x-python",
   "name": "python",
   "nbconvert_exporter": "python",
   "pygments_lexer": "ipython3",
   "version": "3.8.5"
  }
 },
 "nbformat": 4,
 "nbformat_minor": 4
}
