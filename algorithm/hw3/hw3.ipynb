{
 "cells": [
  {
   "cell_type": "code",
   "execution_count": 1,
   "metadata": {},
   "outputs": [],
   "source": [
    "import numpy as np\n",
    "import re"
   ]
  },
  {
   "cell_type": "code",
   "execution_count": 2,
   "metadata": {},
   "outputs": [
    {
     "name": "stdout",
     "output_type": "stream",
     "text": [
      "7  8\n",
      "1  2\n",
      "2  3\n",
      "3  4\n",
      "5  4\n",
      "2  5\n",
      "3  6\n",
      "5  6\n",
      "7  6\n"
     ]
    }
   ],
   "source": [
    "\n",
    "a=[]\n",
    "d={}\n",
    "line = input().split()\n",
    "\n",
    "for i in range(int(line[1])):\n",
    "    l=input().split()\n",
    "    a.append( (int(l[0]),int(l[1])) )\n",
    "\n",
    "for i in a:\n",
    "    if i[0] not in d:\n",
    "        d[i[0]]=[i[1]]\n",
    "    else:\n",
    "        d[i[0]].append(i[1])\n",
    "        \n",
    "    if i[1]not in d:\n",
    "        d[i[1]]=[i[0]]\n",
    "    else:\n",
    "        d[i[1]].append(i[0])\n",
    "        \n",
    "adj=d"
   ]
  },
  {
   "cell_type": "code",
   "execution_count": 5,
   "metadata": {},
   "outputs": [],
   "source": [
    "v=int(line[0])\n",
    "\n",
    "class hold:  \n",
    "    def __init__(self, num):  \n",
    "        self.num = num\n",
    "        self.path = [] \n",
    "        self.depth=0\n",
    "        \n",
    "def six(s):\n",
    "    current=hold(s)\n",
    "    current.path.append(s)\n",
    "    q=[]\n",
    "    q.append(current)\n",
    "    r=[]\n",
    "    while (len(q)!=0):\n",
    "        current=q.pop()\n",
    "        for i in adj[current.num]:\n",
    "            if i not in current.path:\n",
    "                side=hold(i)\n",
    "                side.path=side.path+current.path\n",
    "                side.path.append(i)\n",
    "                q.append(side)\n",
    "                side.depth=current.depth+1\n",
    "                if side.depth==5:\n",
    "                    if side.num not in r:\n",
    "                        r.append(side.num)\n",
    "                if side.depth==6:\n",
    "                    return r\n",
    "    return r         "
   ]
  },
  {
   "cell_type": "code",
   "execution_count": 6,
   "metadata": {},
   "outputs": [
    {
     "data": {
      "text/plain": [
       "2"
      ]
     },
     "execution_count": 6,
     "metadata": {},
     "output_type": "execute_result"
    }
   ],
   "source": [
    "def combine(r):\n",
    "    re=[];\n",
    "    for i in range(len(r)):\n",
    "        re+=six(r[i])\n",
    "    return re\n",
    "\n",
    "def find():\n",
    "    re=six(1)\n",
    "    week=0\n",
    "    check = [False for i in range(v+1)] \n",
    "    check[1]=True\n",
    "    num_find=1\n",
    "    while num_find != v:\n",
    "        pop=[]\n",
    "        week+=1\n",
    "        for i in re:\n",
    "            if check[i]==True:\n",
    "                pop.append(i)\n",
    "            check[i]=True\n",
    "            if i==v:\n",
    "                return week\n",
    "        set1 = set(re)\n",
    "        set2 = set(pop)\n",
    "        re = list(set1 - set2)\n",
    "        if len(re)==0:\n",
    "            return -1\n",
    "        num_find=num_find+len(re)\n",
    "        re=combine(re)\n",
    "    return -1\n",
    "  \n",
    "print(find())"
   ]
  }
 ],
 "metadata": {
  "kernelspec": {
   "display_name": "Python 3",
   "language": "python",
   "name": "python3"
  },
  "language_info": {
   "codemirror_mode": {
    "name": "ipython",
    "version": 3
   },
   "file_extension": ".py",
   "mimetype": "text/x-python",
   "name": "python",
   "nbconvert_exporter": "python",
   "pygments_lexer": "ipython3",
   "version": "3.7.4"
  }
 },
 "nbformat": 4,
 "nbformat_minor": 2
}
