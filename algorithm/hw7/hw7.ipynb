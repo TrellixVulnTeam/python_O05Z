{
 "cells": [
  {
   "cell_type": "code",
   "execution_count": 114,
   "metadata": {},
   "outputs": [
    {
     "name": "stdout",
     "output_type": "stream",
     "text": [
      "2\n",
      "1100\n"
     ]
    }
   ],
   "source": [
    "def split(word):\n",
    "    return [int(char) for char in word]\n",
    "n=int(input())\n",
    "leaf=input()\n",
    "l=split(leaf)"
   ]
  },
  {
   "cell_type": "code",
   "execution_count": 115,
   "metadata": {},
   "outputs": [
    {
     "name": "stdout",
     "output_type": "stream",
     "text": [
      "2.5\n"
     ]
    }
   ],
   "source": [
    "\n",
    "\n",
    "class Node:\n",
    "    def __init__(self, value,height,p):\n",
    "        self.height=height\n",
    "        self.value=value\n",
    "        self.p=p\n",
    "        \n",
    "for i in range(len(l)) :\n",
    "    l[i]=Node(l[i],n,1)\n",
    "    \n",
    "def s(A):\n",
    "    if len(A) == 1:return A[0]\n",
    "    middle = len(A) // 2\n",
    "    A1 = s(A[:middle])\n",
    "    A2 = s(A[middle:])\n",
    "    A = merge(A1, A2)\n",
    "    return A\n",
    "\n",
    "def merge(a,b):\n",
    "    new = Node(0,a.height-1,0)\n",
    "    if new.height % 2 == 0: # the even number \"and\" case \n",
    "        if (a.value == 0) and (b.value == 0):\n",
    "            new.value=0\n",
    "            new.p=((a.p+0)+(0+b.p))/2\n",
    "        elif (a.value == 0 and b.value == 1):\n",
    "            new.value=0\n",
    "            new.p=(a.p+0)/2+(b.p+a.p)/2\n",
    "        elif (a.value==1 and b.value ==0) : #here changed once \n",
    "            new.value=0\n",
    "            new.p=(a.p+b.p)/2+(b.p+0)/2\n",
    "        elif a.value == 1 and b.value==1:\n",
    "            new.value=1\n",
    "            new.p=((a.p+b.p)+(a.p+b.p))/2\n",
    "    else: # the odd number \"or\" case \n",
    "        if a.value==0 and b.value ==0:\n",
    "            new.value=0\n",
    "            new.p=((a.p+b.p)+(b.p+a.p))/2\n",
    "        elif (a.value == 0 and b.value == 1):\n",
    "            new.value=1\n",
    "            new.p=(a.p+b.p)/2 + (b.p+0)/2\n",
    "        elif (a.value == 1 and b.value == 0) :\n",
    "            new.value=1\n",
    "            new.p=(a.p+0)/2 + (a.p+b.p)/2\n",
    "        elif a.value == 1 and b.value ==1:\n",
    "            new.value=1\n",
    "            new.p=(a.p+b.p)/2\n",
    "    return new\n",
    "\n",
    "print(s(l).p)"
   ]
  },
  {
   "cell_type": "code",
   "execution_count": null,
   "metadata": {},
   "outputs": [],
   "source": []
  }
 ],
 "metadata": {
  "kernelspec": {
   "display_name": "Python 3",
   "language": "python",
   "name": "python3"
  },
  "language_info": {
   "codemirror_mode": {
    "name": "ipython",
    "version": 3
   },
   "file_extension": ".py",
   "mimetype": "text/x-python",
   "name": "python",
   "nbconvert_exporter": "python",
   "pygments_lexer": "ipython3",
   "version": "3.8.5"
  }
 },
 "nbformat": 4,
 "nbformat_minor": 4
}
