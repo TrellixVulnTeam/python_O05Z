{
 "cells": [
  {
   "cell_type": "code",
   "execution_count": 1,
   "metadata": {},
   "outputs": [
    {
     "name": "stdout",
     "output_type": "stream",
     "text": [
      "8\n",
      "5\n",
      "5\n",
      "5\n",
      "5\n",
      "25\n",
      "5\n",
      "5\n",
      "5\n",
      "\n"
     ]
    },
    {
     "ename": "ValueError",
     "evalue": "invalid literal for int() with base 10: ''",
     "output_type": "error",
     "traceback": [
      "\u001b[1;31m---------------------------------------------------------------------------\u001b[0m",
      "\u001b[1;31mValueError\u001b[0m                                Traceback (most recent call last)",
      "\u001b[1;32m<ipython-input-1-1f297c3d2132>\u001b[0m in \u001b[0;36m<module>\u001b[1;34m\u001b[0m\n\u001b[0;32m      7\u001b[0m \u001b[1;32mfor\u001b[0m \u001b[0mi\u001b[0m \u001b[1;32min\u001b[0m \u001b[0mrange\u001b[0m\u001b[1;33m(\u001b[0m\u001b[0mint\u001b[0m\u001b[1;33m(\u001b[0m\u001b[0mn\u001b[0m\u001b[1;33m)\u001b[0m\u001b[1;33m)\u001b[0m\u001b[1;33m:\u001b[0m\u001b[1;33m\u001b[0m\u001b[1;33m\u001b[0m\u001b[0m\n\u001b[0;32m      8\u001b[0m     \u001b[0mcurrent\u001b[0m\u001b[1;33m=\u001b[0m\u001b[0minput\u001b[0m\u001b[1;33m(\u001b[0m\u001b[1;33m)\u001b[0m\u001b[1;33m\u001b[0m\u001b[1;33m\u001b[0m\u001b[0m\n\u001b[1;32m----> 9\u001b[1;33m     \u001b[0mq\u001b[0m\u001b[1;33m.\u001b[0m\u001b[0mappend\u001b[0m\u001b[1;33m(\u001b[0m\u001b[0mint\u001b[0m\u001b[1;33m(\u001b[0m\u001b[0mcurrent\u001b[0m\u001b[1;33m)\u001b[0m\u001b[1;33m)\u001b[0m\u001b[1;33m\u001b[0m\u001b[1;33m\u001b[0m\u001b[0m\n\u001b[0m",
      "\u001b[1;31mValueError\u001b[0m: invalid literal for int() with base 10: ''"
     ]
    }
   ],
   "source": [
    "n = int(input())\n",
    "p=[]\n",
    "q=[]\n",
    "for i in range(int(n)):\n",
    "    current=input()\n",
    "    p.append(int(current))\n",
    "for i in range(int(n)):\n",
    "    current=input()\n",
    "    q.append(int(current))"
   ]
  },
  {
   "cell_type": "code",
   "execution_count": null,
   "metadata": {},
   "outputs": [],
   "source": [
    "# def merge(A1,A2):\n",
    "#     A = []\n",
    "#     i, j = 0, 0\n",
    "#     while i < len(A1) or j < len(A2):\n",
    "#         if (i < len(A1) and j < len(A2) and A1[i] < A2[j]) or j == len(A2):\n",
    "#             A.append( A1[i] )\n",
    "#             i += 1\n",
    "#         else:\n",
    "#             A.append( A2[j] )\n",
    "#             j += 1\n",
    "#     return A\n",
    "\n",
    "def count(l1,l2):\n",
    "    total = 0\n",
    "    j = 0\n",
    "    for i in l1:\n",
    "        while j < len(l2) and l2[j] < i:\n",
    "            j += 1\n",
    "        total += j\n",
    "    return total\n",
    "\n",
    "def count_inv(l):\n",
    "    if len(l) == 1: \n",
    "        return 0,l\n",
    "    mid = len(l) // 2\n",
    "    c1, A1 = count_inv(l[:mid])\n",
    "    c2, A2 = count_inv(l[mid:])\n",
    "    c3 = count(A1, A2)\n",
    "#     A = merge(A1, A2)\n",
    "    return c1+c2+c3  #,A\n"
   ]
  },
  {
   "cell_type": "code",
   "execution_count": null,
   "metadata": {
    "scrolled": true
   },
   "outputs": [],
   "source": [
    "check=[]\n",
    "for x in sorted(zip(p,q)):\n",
    "    check.append(x[1])\n",
    "print(count_inv(check))"
   ]
  }
 ],
 "metadata": {
  "kernelspec": {
   "display_name": "Python 3",
   "language": "python",
   "name": "python3"
  },
  "language_info": {
   "codemirror_mode": {
    "name": "ipython",
    "version": 3
   },
   "file_extension": ".py",
   "mimetype": "text/x-python",
   "name": "python",
   "nbconvert_exporter": "python",
   "pygments_lexer": "ipython3",
   "version": "3.8.5"
  }
 },
 "nbformat": 4,
 "nbformat_minor": 2
}
