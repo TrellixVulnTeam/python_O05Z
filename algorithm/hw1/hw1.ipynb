{
 "cells": [
  {
   "cell_type": "code",
   "execution_count": 82,
   "metadata": {},
   "outputs": [
    {
     "name": "stdout",
     "output_type": "stream",
     "text": [
      "3\n",
      "-1\n",
      "-2\n",
      "3\n"
     ]
    },
    {
     "data": {
      "text/plain": [
       "3"
      ]
     },
     "execution_count": 82,
     "metadata": {},
     "output_type": "execute_result"
    }
   ],
   "source": [
    "n = int(input())\n",
    "time=[]\n",
    "for i in range(int(n)):\n",
    "    current=input()\n",
    "    time.append(int(current))\n",
    "\n",
    "def opt(l,n):\n",
    "    final_max=0\n",
    "    running_max=0\n",
    "    for i in range (n):\n",
    "        running_max+=l[i]\n",
    "        if running_max<0:\n",
    "            running_max=0\n",
    "        elif final_max<running_max:\n",
    "            final_max=running_max\n",
    "    return final_max\n",
    "\n",
    "print(opt(time,n))"
   ]
  }
 ],
 "metadata": {
  "kernelspec": {
   "display_name": "Python 3",
   "language": "python",
   "name": "python3"
  },
  "language_info": {
   "codemirror_mode": {
    "name": "ipython",
    "version": 3
   },
   "file_extension": ".py",
   "mimetype": "text/x-python",
   "name": "python",
   "nbconvert_exporter": "python",
   "pygments_lexer": "ipython3",
   "version": "3.7.4"
  }
 },
 "nbformat": 4,
 "nbformat_minor": 2
}
