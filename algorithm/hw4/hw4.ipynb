{
 "cells": [
  {
   "cell_type": "code",
   "execution_count": 139,
   "metadata": {},
   "outputs": [
    {
     "name": "stdout",
     "output_type": "stream",
     "text": [
      "5 4 10\n",
      "1 2 1\n",
      "1 3 1\n",
      "1 4 4\n",
      "1 5 5\n",
      "2 3 4\n",
      "2 4 3\n",
      "2 5 6\n",
      "3 4 1\n",
      "3 5 7\n",
      "4 5 8\n"
     ]
    }
   ],
   "source": [
    "a=[]\n",
    "line = input().split()\n",
    "node=int(line[0])\n",
    "produce=int(line[1])\n",
    "edge=int(line[2])\n",
    "for i in range(edge):\n",
    "    l=input().split()\n",
    "    a.append((int(l[0]),int(l[1]),int(l[2])) )"
   ]
  },
  {
   "cell_type": "code",
   "execution_count": 148,
   "metadata": {},
   "outputs": [
    {
     "data": {
      "text/plain": [
       "1"
      ]
     },
     "execution_count": 148,
     "metadata": {},
     "output_type": "execute_result"
    }
   ],
   "source": [
    "from collections import defaultdict\n",
    " \n",
    "class Graph():\n",
    " \n",
    "    def __init__(self, node):\n",
    "        self.node = node  \n",
    "        self.graph = []  \n",
    " \n",
    "    def addEdge(self, u, v, w):\n",
    "        self.graph.append([u, v, w])\n",
    " \n",
    "    def find(self, parent, i):\n",
    "        if parent[i] == i:\n",
    "            return i\n",
    "        return self.find(parent, parent[i])\n",
    " \n",
    "    def union(self, parent, r, x, y):\n",
    "        xroot = self.find(parent, x)\n",
    "        yroot = self.find(parent, y)\n",
    "        if r[xroot] < r[yroot]:\n",
    "            parent[xroot] = yroot\n",
    "        elif r[xroot] > r[yroot]:\n",
    "            parent[yroot] = xroot\n",
    "\n",
    "        else:\n",
    "            parent[yroot] = xroot\n",
    "            r[xroot] += 1\n",
    "\n",
    "    def mst(self):\n",
    "        k=produce\n",
    "        r = []  \n",
    "        idx = 1\n",
    "        edge = 1\n",
    "        self.graph = sorted(self.graph, key=lambda x: x[2])\n",
    "        parent = []\n",
    "        rank = []\n",
    "        for node in range(self.node):\n",
    "            parent.append(node)\n",
    "            rank.append(0)\n",
    "        while edge < self.node - 1:\n",
    "            u, v, w = self.graph[idx]\n",
    "            idx+=1\n",
    "            x = self.find(parent, u)\n",
    "            y = self.find(parent, v)\n",
    "            if x != y:\n",
    "                edge+=1\n",
    "                r.append([u, v, w])\n",
    "                self.union(parent, rank, x, y)\n",
    "        r=sorted(r,key=lambda x:x[2])\n",
    "        r=r[0:-k+1]\n",
    "        return r[-1][-1]\n",
    "        \n",
    "\n",
    "g = Graph(node+1)\n",
    "for i in a:\n",
    "    g.addEdge(i[0],i[1],i[2])\n",
    "\n",
    "print(g.mst())\n",
    " "
   ]
  }
 ],
 "metadata": {
  "kernelspec": {
   "display_name": "Python 3",
   "language": "python",
   "name": "python3"
  },
  "language_info": {
   "codemirror_mode": {
    "name": "ipython",
    "version": 3
   },
   "file_extension": ".py",
   "mimetype": "text/x-python",
   "name": "python",
   "nbconvert_exporter": "python",
   "pygments_lexer": "ipython3",
   "version": "3.8.5"
  }
 },
 "nbformat": 4,
 "nbformat_minor": 2
}
