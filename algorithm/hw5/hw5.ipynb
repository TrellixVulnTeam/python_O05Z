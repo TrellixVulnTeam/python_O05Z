{
 "cells": [
  {
   "cell_type": "code",
   "execution_count": 4,
   "metadata": {
    "scrolled": true
   },
   "outputs": [
    {
     "name": "stdout",
     "output_type": "stream",
     "text": [
      "4\n",
      "1\n",
      "2\n",
      "3\n",
      "4\n"
     ]
    }
   ],
   "source": [
    "n = int(input())\n",
    "l=[]\n",
    "for i in range(int(n)):\n",
    "    current=input()\n",
    "    l.append(int(current))\n"
   ]
  },
  {
   "cell_type": "code",
   "execution_count": 5,
   "metadata": {},
   "outputs": [
    {
     "data": {
      "text/plain": [
       "[1, 2, 3, 4]"
      ]
     },
     "execution_count": 5,
     "metadata": {},
     "output_type": "execute_result"
    }
   ],
   "source": [
    "l\n",
    "\n"
   ]
  },
  {
   "cell_type": "code",
   "execution_count": 6,
   "metadata": {},
   "outputs": [
    {
     "name": "stdout",
     "output_type": "stream",
     "text": [
      "T\n"
     ]
    }
   ],
   "source": [
    "def hw5(l, n, total):\n",
    "    if n%2==1:\n",
    "        return False\n",
    "    half =([[False for i in range(total + 1)] for i in range(n + 1)])\n",
    "    for i in range(n + 1):\n",
    "        half[i][0] = True\n",
    "    for i in range(1, total + 1):\n",
    "         half[0][i]= False\n",
    "    for i in range(1, n + 1):\n",
    "        for j in range(1, total + 1):\n",
    "            if j<l[i-1]:\n",
    "                half[i][j] = half[i-1][j]\n",
    "            if j>= l[i-1]:\n",
    "                half[i][j] = (half[i-1][j] or half[i - 1][j-l[i-1]])\n",
    "    return half[n][total]\n",
    "         \n",
    "total = int(sum(l)/2)\n",
    "n = len(l)\n",
    "if hw5(l,n,total)==True:\n",
    "    print(\"T\")\n",
    "if hw5(l,n,total)==False:\n",
    "    print(\"F\")"
   ]
  }
 ],
 "metadata": {
  "kernelspec": {
   "display_name": "Python 3",
   "language": "python",
   "name": "python3"
  },
  "language_info": {
   "codemirror_mode": {
    "name": "ipython",
    "version": 3
   },
   "file_extension": ".py",
   "mimetype": "text/x-python",
   "name": "python",
   "nbconvert_exporter": "python",
   "pygments_lexer": "ipython3",
   "version": "3.8.5"
  }
 },
 "nbformat": 4,
 "nbformat_minor": 4
}
