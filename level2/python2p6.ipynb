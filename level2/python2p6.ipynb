{
 "cells": [
  {
   "cell_type": "code",
   "execution_count": 1,
   "metadata": {},
   "outputs": [],
   "source": [
    "from zipfile import ZipFile\n",
    "import pandas as pd\n",
    "import re\n",
    "import numpy as np\n",
    "from matplotlib import pyplot as plt\n",
    "from sklearn.linear_model import LinearRegression\n",
    "from sklearn import svm, datasets\n",
    "from sklearn.model_selection import cross_val_score\n",
    "from sklearn.metrics import explained_variance_score"
   ]
  },
  {
   "cell_type": "code",
   "execution_count": 2,
   "metadata": {},
   "outputs": [],
   "source": [
    "with ZipFile('dataset_diabetes.zip') as zf:\n",
    "    with zf.open(\"dataset_diabetes/diabetic_data.csv\") as f:\n",
    "        df= pd.read_csv(f)\n",
    "    #with zf.open('dataset_diabetes/IDs_mapping.csv') as f2:\n",
    "    #    ids=pd.read_csv(f2)"
   ]
  },
  {
   "cell_type": "code",
   "execution_count": 3,
   "metadata": {},
   "outputs": [
    {
     "data": {
      "text/plain": [
       "((50803, 50), (50963, 50))"
      ]
     },
     "execution_count": 3,
     "metadata": {},
     "output_type": "execute_result"
    }
   ],
   "source": [
    "#q1\n",
    "df[\"count\"] = df[\"encounter_id\"].astype(str)+ df[\"patient_nbr\"].astype(str)\n",
    "count=df['count'].apply(lambda x: pd.Series(list(x)))\n",
    "df[\"count\"]=count.astype(float).sum(axis=1)\n",
    "df['type'] = df['count'].apply(lambda x: 'train' if x%2==0 else 'test')\n",
    "train=df[df[\"type\"]==\"train\"]\n",
    "train=train.drop(['count',\"type\"], 1)\n",
    "test=df[df[\"type\"]==\"test\"]\n",
    "test=test.drop(['count',\"type\"], 1)\n",
    "train.shape, test.shape"
   ]
  },
  {
   "cell_type": "code",
   "execution_count": 4,
   "metadata": {},
   "outputs": [
    {
     "data": {
      "text/plain": [
       "(4.401295199102416, 4.390695210250574, 2.984025665505041, 2.9862059667206435)"
      ]
     },
     "execution_count": 4,
     "metadata": {},
     "output_type": "execute_result"
    }
   ],
   "source": [
    "#q2\n",
    "(\n",
    "    train[\"time_in_hospital\"].mean(),\n",
    "    test[\"time_in_hospital\"].mean(),\n",
    "    train[\"time_in_hospital\"].std(), \n",
    "    test[\"time_in_hospital\"].std(),\n",
    ")\n"
   ]
  },
  {
   "cell_type": "code",
   "execution_count": 5,
   "metadata": {},
   "outputs": [
    {
     "data": {
      "text/plain": [
       "{'train': {'NO': 27360, '>30': 17770, '<30': 5673},\n",
       " 'test': {'NO': 27504, '>30': 17775, '<30': 5684}}"
      ]
     },
     "execution_count": 5,
     "metadata": {},
     "output_type": "execute_result"
    }
   ],
   "source": [
    "#q3\n",
    "{\n",
    "    \"train\": dict(train[\"readmitted\"].value_counts()),\n",
    "    \"test\": dict(test[\"readmitted\"].value_counts()),\n",
    "}"
   ]
  },
  {
   "cell_type": "code",
   "execution_count": 6,
   "metadata": {},
   "outputs": [
    {
     "name": "stderr",
     "output_type": "stream",
     "text": [
      "/home/ydong66/.local/lib/python3.6/site-packages/pandas/core/ops/array_ops.py:253: FutureWarning: elementwise comparison failed; returning scalar instead, but in the future will perform elementwise comparison\n",
      "  res_values = method(rvalues)\n"
     ]
    },
    {
     "data": {
      "text/plain": [
       "{'race': 2.2104993799578763,\n",
       " 'weight': 96.80924354860933,\n",
       " 'payer_code': 39.25949254965258,\n",
       " 'medical_specialty': 49.180166525598885,\n",
       " 'diag_1': 0.023620652323681674,\n",
       " 'diag_2': 0.3444678463870244,\n",
       " 'diag_3': 1.3955868747908586}"
      ]
     },
     "execution_count": 6,
     "metadata": {},
     "output_type": "execute_result"
    }
   ],
   "source": [
    "#q4\n",
    "\n",
    "count={}\n",
    "for i in train:\n",
    "    c=np.sum(train[i] ==\"?\")\n",
    "    if c==0:\n",
    "        continue\n",
    "    else:\n",
    "        count[i]=(c/train.shape[0])*100\n",
    "    \n",
    "count"
   ]
  },
  {
   "cell_type": "code",
   "execution_count": null,
   "metadata": {},
   "outputs": [],
   "source": []
  },
  {
   "cell_type": "code",
   "execution_count": null,
   "metadata": {},
   "outputs": [],
   "source": []
  },
  {
   "cell_type": "code",
   "execution_count": 7,
   "metadata": {},
   "outputs": [],
   "source": [
    "def check_regression(ax):\n",
    "    plot = {}\n",
    "    plot[\"font12plus\"] = min(ax.xaxis.label.get_size(),\n",
    "                             ax.yaxis.label.get_size(),\n",
    "                             ax.get_xticklabels()[0].get_size()) >= 12\n",
    "    plot[\"transparency\"] = ax.collections[0].get_alpha() != None\n",
    "    plot[\"x-label\"] = ax.get_xlabel().lower()\n",
    "    plot[\"y-label\"] = ax.get_ylabel().lower()\n",
    "    plot[\"spines\"] = ax.spines['right'].get_visible() or ax.spines['top'].get_visible()\n",
    "    plot[\"x-mean\"], plot[\"y-mean\"] = ax.collections[0].get_offsets().data.std(axis=0)\n",
    "    plot[\"x-std\"], plot[\"y-std\"] = ax.collections[0].get_offsets().data.mean(axis=0)\n",
    "    plot[\"slope\"] = None\n",
    "    for line in ax.get_lines():\n",
    "        x = line.get_xdata()\n",
    "        y = line.get_ydata()\n",
    "        for i in range(1, len(x)):\n",
    "            slope = (y[i]-y[i-1]) / (x[i] - x[i-1])\n",
    "            intercept = y[i] - x[i] * slope\n",
    "            if plot[\"slope\"] is None:\n",
    "                plot[\"slope\"] = slope\n",
    "                plot[\"intercept\"] = intercept\n",
    "            elif not (np.isclose(plot[\"slope\"], slope) and \n",
    "                      np.isclose(plot[\"intercept\"], intercept)):\n",
    "                plot[\"slope\"] = None\n",
    "                plot[\"intercept\"] = None\n",
    "                break\n",
    "    return plot"
   ]
  },
  {
   "cell_type": "code",
   "execution_count": null,
   "metadata": {},
   "outputs": [],
   "source": []
  },
  {
   "cell_type": "code",
   "execution_count": 8,
   "metadata": {},
   "outputs": [
    {
     "data": {
      "text/plain": [
       "{'font12plus': True,\n",
       " 'transparency': True,\n",
       " 'x-label': 'visits',\n",
       " 'y-label': 'days in hospital',\n",
       " 'spines': False,\n",
       " 'x-mean': 2.2887866256900424,\n",
       " 'y-mean': 2.983996296763971,\n",
       " 'x-std': 1.206208294785741,\n",
       " 'y-std': 4.401295199102416,\n",
       " 'slope': 0.03951032525517387,\n",
       " 'intercept': 4.353637517049943}"
      ]
     },
     "execution_count": 8,
     "metadata": {},
     "output_type": "execute_result"
    },
    {
     "data": {
      "image/png": "[encoded data removed]",
      "text/plain": [
       "<Figure size 432x288 with 1 Axes>"
      ]
     },
     "metadata": {
      "needs_background": "light"
     },
     "output_type": "display_data"
    }
   ],
   "source": [
    "#q8\n",
    "train[\"visits\"]=train[\"number_outpatient\"]+train[\"number_inpatient\"]+train[\"number_emergency\"]\n",
    "x=train['visits'].to_list()\n",
    "y=train['time_in_hospital'].to_list()\n",
    "x=np.asarray(x, dtype=np.float64).reshape(-1, 1)\n",
    "y=np.asarray(y, dtype=np.float64).reshape(-1, 1)\n",
    "ax = train.plot.scatter(x=\"visits\",y=\"time_in_hospital\",color=\"black\", fontsize=12, alpha=0.1)\n",
    "reg = LinearRegression().fit(x, y)\n",
    "ax.spines['right'].set_visible(False)\n",
    "ax.spines['top'].set_visible(False)\n",
    "ax.set_xlabel(\"visits\",fontsize=12)\n",
    "ax.set_ylabel(\"days in hospital\",fontsize=12)\n",
    "ax.plot(ax.get_xlim(), [float(reg.coef_[0])*ax.get_xlim()[0]+ float(reg.intercept_), float(reg.coef_[0])*ax.get_xlim()[1]+ float(reg.intercept_)], c=\"r\")\n",
    "check_regression(ax)"
   ]
  },
  {
   "cell_type": "code",
   "execution_count": 9,
   "metadata": {
    "scrolled": true
   },
   "outputs": [
    {
     "data": {
      "text/plain": [
       "(0.0009184071670116367, 0.0010954269445123677)"
      ]
     },
     "execution_count": 9,
     "metadata": {},
     "output_type": "execute_result"
    }
   ],
   "source": [
    "#q9\n",
    "train_=explained_variance_score(y, x*float(reg.coef_[0])+ float(reg.intercept_))\n",
    "test[\"visits\"]=test[\"number_outpatient\"]+test[\"number_inpatient\"]+test[\"number_emergency\"]\n",
    "x=test['visits'].to_list()\n",
    "y=test['time_in_hospital'].to_list()\n",
    "x=np.asarray(x, dtype=np.float64).reshape(-1, 1)\n",
    "y=np.asarray(y, dtype=np.float64).reshape(-1, 1)\n",
    "reg = LinearRegression().fit(x, y)\n",
    "test_=explained_variance_score(y,reg.predict(x))\n",
    "(train_,test_)"
   ]
  },
  {
   "cell_type": "code",
   "execution_count": 10,
   "metadata": {},
   "outputs": [
    {
     "data": {
      "text/plain": [
       "{'font12plus': True,\n",
       " 'transparency': True,\n",
       " 'x-label': 'days in hospital',\n",
       " 'y-label': 'lab procedures done',\n",
       " 'spines': False,\n",
       " 'x-mean': 2.983996296763971,\n",
       " 'y-mean': 19.769919407825235,\n",
       " 'x-std': 4.401295199102416,\n",
       " 'y-std': 43.155915989213234,\n",
       " 'slope': 2.119487878508591,\n",
       " 'intercept': 33.8274241649776}"
      ]
     },
     "execution_count": 10,
     "metadata": {},
     "output_type": "execute_result"
    },
    {
     "data": {
      "image/png": "[encoded data removed]",
      "text/plain": [
       "<Figure size 432x288 with 1 Axes>"
      ]
     },
     "metadata": {
      "needs_background": "light"
     },
     "output_type": "display_data"
    }
   ],
   "source": [
    "#q10\n",
    "x=train['time_in_hospital'].to_list()\n",
    "y=train['num_lab_procedures'].to_list()\n",
    "x=np.asarray(x, dtype=np.float64).reshape(-1, 1)\n",
    "y=np.asarray(y, dtype=np.float64).reshape(-1, 1)\n",
    "ax = train.plot.scatter(x=\"time_in_hospital\",y=\"num_lab_procedures\",color=\"black\", fontsize=12, alpha=0.1)\n",
    "reg = LinearRegression().fit(x, y)\n",
    "ax.spines['right'].set_visible(False)\n",
    "ax.spines['top'].set_visible(False)\n",
    "ax.set_xlabel(\"days in hospital\",fontsize=12)\n",
    "ax.set_ylabel(\"lab procedures done\",fontsize=12)\n",
    "ax.plot(ax.get_xlim(), [float(reg.coef_[0])*ax.get_xlim()[0]+ float(reg.intercept_), float(reg.coef_[0])*ax.get_xlim()[1]+ float(reg.intercept_)], c=\"r\")\n",
    "check_regression(ax)"
   ]
  },
  {
   "cell_type": "code",
   "execution_count": 11,
   "metadata": {},
   "outputs": [
    {
     "data": {
      "text/plain": [
       "(0.10234075960861977, 0.1004802491767921)"
      ]
     },
     "execution_count": 11,
     "metadata": {},
     "output_type": "execute_result"
    }
   ],
   "source": [
    "#q11\n",
    "train_=explained_variance_score(y, x*float(reg.coef_[0])+ float(reg.intercept_))\n",
    "x=test['time_in_hospital'].to_list()\n",
    "y=test['num_lab_procedures'].to_list()\n",
    "x=np.asarray(x, dtype=np.float64).reshape(-1, 1)\n",
    "y=np.asarray(y, dtype=np.float64).reshape(-1, 1)\n",
    "reg = LinearRegression().fit(x, y)\n",
    "test_=explained_variance_score(y, x*float(reg.coef_[0])+ float(reg.intercept_))\n",
    "(train_,test_)"
   ]
  },
  {
   "cell_type": "code",
   "execution_count": null,
   "metadata": {},
   "outputs": [],
   "source": []
  },
  {
   "cell_type": "code",
   "execution_count": 12,
   "metadata": {},
   "outputs": [],
   "source": [
    "train[\"readmit_soon\"] = train[\"readmitted\"] == \"<30\"\n",
    "test[\"readmit_soon\"] = test[\"readmitted\"] == \"<30\""
   ]
  },
  {
   "cell_type": "code",
   "execution_count": 13,
   "metadata": {},
   "outputs": [],
   "source": [
    "from sklearn.datasets import load_iris\n",
    "from sklearn.linear_model import LogisticRegression\n",
    "from sklearn.metrics import accuracy_score, balanced_accuracy_score\n",
    "from sklearn.base import BaseEstimator, ClassifierMixin"
   ]
  },
  {
   "cell_type": "code",
   "execution_count": 44,
   "metadata": {},
   "outputs": [
    {
     "name": "stderr",
     "output_type": "stream",
     "text": [
      "/home/ydong66/.local/lib/python3.6/site-packages/sklearn/utils/validation.py:760: DataConversionWarning: A column-vector y was passed when a 1d array was expected. Please change the shape of y to (n_samples, ), for example using ravel().\n",
      "  y = column_or_1d(y, warn=True)\n"
     ]
    },
    {
     "data": {
      "text/plain": [
       "(0.8883333661397949, 0.8884681043109707)"
      ]
     },
     "execution_count": 44,
     "metadata": {},
     "output_type": "execute_result"
    }
   ],
   "source": [
    "#q15\n",
    "x=train['readmit_soon']\n",
    "y=train['time_in_hospital']\n",
    "x=np.asarray(x, dtype=np.float64).reshape(-1, 1)\n",
    "y=np.asarray(y, dtype=np.float64).reshape(-1, 1)\n",
    "reg=LogisticRegression(solver=\"lbfgs\")\n",
    "reg.fit(y,x)\n",
    "train_=accuracy_score(x,reg.predict(y))\n",
    "x=test['readmit_soon'].to_list()\n",
    "y=test['time_in_hospital'].to_list()\n",
    "x=np.asarray(x, dtype=np.float64).reshape(-1, 1)\n",
    "y=np.asarray(y, dtype=np.float64).reshape(-1, 1)\n",
    "test_=accuracy_score(x,reg.predict(y))\n",
    "\n",
    "(train_, test_)"
   ]
  },
  {
   "cell_type": "code",
   "execution_count": 39,
   "metadata": {},
   "outputs": [
    {
     "data": {
      "text/plain": [
       "(0.8883333661397949, 0.8884681043109707)"
      ]
     },
     "execution_count": 39,
     "metadata": {},
     "output_type": "execute_result"
    }
   ],
   "source": [
    "#q16\n",
    "class NaiveEstimator(BaseEstimator, ClassifierMixin):\n",
    "    def fit(self, X, y):\n",
    "        if y.sum() / len(y) > 0.5:\n",
    "            self.prediction = True\n",
    "        else:\n",
    "            self.prediction = False\n",
    "\n",
    "    def predict(self, X):\n",
    "        return [self.prediction] * len(X)\n",
    "x=train['readmit_soon'].to_list()\n",
    "y=train['time_in_hospital'].to_list()\n",
    "x=np.asarray(x, dtype=np.float64).reshape(-1, 1)\n",
    "y=np.asarray(y, dtype=np.float64).reshape(-1, 1)\n",
    "a=NaiveEstimator()\n",
    "a.fit(y,x)\n",
    "train_=accuracy_score(x,a.predict(y))\n",
    "\n",
    "x=test['readmit_soon'].to_list()\n",
    "y=test['time_in_hospital'].to_list()\n",
    "x=np.asarray(x, dtype=np.float64).reshape(-1, 1)\n",
    "y=np.asarray(y, dtype=np.float64).reshape(-1, 1)\n",
    "test_=accuracy_score(x,a.predict(y))\n",
    "\n",
    "(train_, test_)"
   ]
  },
  {
   "cell_type": "code",
   "execution_count": 40,
   "metadata": {},
   "outputs": [
    {
     "name": "stderr",
     "output_type": "stream",
     "text": [
      "/home/ydong66/.local/lib/python3.6/site-packages/sklearn/utils/validation.py:760: DataConversionWarning: A column-vector y was passed when a 1d array was expected. Please change the shape of y to (n_samples, ), for example using ravel().\n",
      "  y = column_or_1d(y, warn=True)\n"
     ]
    },
    {
     "data": {
      "text/plain": [
       "(0.5, 0.5)"
      ]
     },
     "execution_count": 40,
     "metadata": {},
     "output_type": "execute_result"
    }
   ],
   "source": [
    "#q17\n",
    "x=train['readmit_soon'].to_list()\n",
    "y=train['time_in_hospital'].to_list()\n",
    "x=np.asarray(x, dtype=np.float64).reshape(-1, 1)\n",
    "y=np.asarray(y, dtype=np.float64).reshape(-1, 1)\n",
    "reg=LogisticRegression(solver=\"lbfgs\")\n",
    "reg.fit(y, x)\n",
    "train_=balanced_accuracy_score(x,reg.predict(y))\n",
    "x=test['readmit_soon'].to_list()\n",
    "y=test['time_in_hospital'].to_list()\n",
    "x=np.asarray(x, dtype=np.float64).reshape(-1, 1)\n",
    "y=np.asarray(y, dtype=np.float64).reshape(-1, 1)\n",
    "test_=balanced_accuracy_score(x,reg.predict(y))\n",
    "\n",
    "(train_, test_)"
   ]
  },
  {
   "cell_type": "code",
   "execution_count": 35,
   "metadata": {},
   "outputs": [
    {
     "name": "stderr",
     "output_type": "stream",
     "text": [
      "/home/ydong66/.local/lib/python3.6/site-packages/sklearn/utils/validation.py:760: DataConversionWarning: A column-vector y was passed when a 1d array was expected. Please change the shape of y to (n_samples, ), for example using ravel().\n",
      "  y = column_or_1d(y, warn=True)\n"
     ]
    },
    {
     "data": {
      "text/plain": [
       "(0.5332863335560872, 0.5292818798995528)"
      ]
     },
     "execution_count": 35,
     "metadata": {},
     "output_type": "execute_result"
    }
   ],
   "source": [
    "#q18\n",
    "x=train['readmit_soon'].to_list()\n",
    "y=train['time_in_hospital'].to_list()\n",
    "x=np.asarray(x, dtype=np.float64).reshape(-1, 1)\n",
    "y=np.asarray(y, dtype=np.float64).reshape(-1, 1)\n",
    "reg=LogisticRegression(class_weight=\"balanced\")\n",
    "reg.fit(y,x)\n",
    "train_=balanced_accuracy_score(x,reg.predict(y))\n",
    "\n",
    "x=test['readmit_soon'].to_list()\n",
    "y=test['time_in_hospital'].to_list()\n",
    "x=np.asarray(x, dtype=np.float64).reshape(-1, 1)\n",
    "y=np.asarray(y, dtype=np.float64).reshape(-1, 1)\n",
    "test_=balanced_accuracy_score(x,reg.predict(y))\n",
    "\n",
    "(train_, test_)"
   ]
  },
  {
   "cell_type": "code",
   "execution_count": 29,
   "metadata": {},
   "outputs": [
    {
     "data": {
      "text/plain": [
       "(0.5930123033331954, 0.5882354971931861)"
      ]
     },
     "execution_count": 29,
     "metadata": {},
     "output_type": "execute_result"
    }
   ],
   "source": [
    "#q19\n",
    "x=train['readmit_soon']\n",
    "y=train[['time_in_hospital','num_lab_procedures', 'num_procedures', 'num_medications', 'number_outpatient', 'number_emergency', 'number_inpatient']]\n",
    "reg=LogisticRegression(class_weight=\"balanced\")\n",
    "reg.fit(y,x)\n",
    "train_=balanced_accuracy_score(x,reg.predict(y))\n",
    "\n",
    "y_=test['readmit_soon']\n",
    "x_=test[['time_in_hospital','num_lab_procedures', 'num_procedures', 'num_medications', 'number_outpatient', 'number_emergency', 'number_inpatient']]\n",
    "test_=balanced_accuracy_score(y_,reg.predict(x_))\n",
    "(train_, test_)"
   ]
  },
  {
   "cell_type": "code",
   "execution_count": 26,
   "metadata": {},
   "outputs": [
    {
     "data": {
      "text/plain": [
       "1         False\n",
       "4         False\n",
       "6         False\n",
       "7         False\n",
       "9         False\n",
       "          ...  \n",
       "101754    False\n",
       "101755    False\n",
       "101756    False\n",
       "101759    False\n",
       "101762    False\n",
       "Name: readmit_soon, Length: 50963, dtype: bool"
      ]
     },
     "execution_count": 26,
     "metadata": {},
     "output_type": "execute_result"
    }
   ],
   "source": []
  },
  {
   "cell_type": "code",
   "execution_count": null,
   "metadata": {},
   "outputs": [],
   "source": []
  },
  {
   "cell_type": "code",
   "execution_count": null,
   "metadata": {},
   "outputs": [],
   "source": []
  },
  {
   "cell_type": "code",
   "execution_count": null,
   "metadata": {},
   "outputs": [],
   "source": []
  },
  {
   "cell_type": "code",
   "execution_count": null,
   "metadata": {},
   "outputs": [],
   "source": []
  }
 ],
 "metadata": {
  "kernelspec": {
   "display_name": "Python 3",
   "language": "python",
   "name": "python3"
  },
  "language_info": {
   "codemirror_mode": {
    "name": "ipython",
    "version": 3
   },
   "file_extension": ".py",
   "mimetype": "text/x-python",
   "name": "python",
   "nbconvert_exporter": "python",
   "pygments_lexer": "ipython3",
   "version": "3.6.9"
  }
 },
 "nbformat": 4,
 "nbformat_minor": 4
}
